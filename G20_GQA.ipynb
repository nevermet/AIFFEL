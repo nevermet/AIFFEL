{
 "cells": [
  {
   "cell_type": "markdown",
   "metadata": {},
   "source": [
    "## G20. GQA 모델 활용하기"
   ]
  },
  {
   "cell_type": "markdown",
   "metadata": {},
   "source": [
    "### Step 1. 다른 이미지 테스트해 보기"
   ]
  },
  {
   "cell_type": "code",
   "execution_count": 1,
   "metadata": {},
   "outputs": [
    {
     "name": "stderr",
     "output_type": "stream",
     "text": [
      "PyTorch version 1.7.1 available.\n"
     ]
    }
   ],
   "source": [
    "# 오늘 실습을 위한 작업디렉토리로 이동합니다.\n",
    "!cd ~/aiffel/lxmert\n",
    "\n",
    "from IPython.display import clear_output, Image, display\n",
    "import PIL.Image\n",
    "import io\n",
    "import json\n",
    "import torch\n",
    "import numpy as np\n",
    "from transformers import LxmertForQuestionAnswering, LxmertTokenizer\n",
    "import wget\n",
    "import pickle\n",
    "import os, sys\n",
    "\n",
    "# 추가해준 모듈을 임포트하기 위해 아래 경로를 path에 추가합니다. \n",
    "sys.path.append(os.getenv('HOME')+'/aiffel/lxmert')\n",
    "from processing_image import Preprocess\n",
    "from visualizing_image import SingleImageViz\n",
    "from modeling_frcnn import GeneralizedRCNN\n",
    "from utils import Config\n",
    "import utils"
   ]
  },
  {
   "cell_type": "code",
   "execution_count": 2,
   "metadata": {},
   "outputs": [
    {
     "name": "stdout",
     "output_type": "stream",
     "text": [
      "1600\n",
      "['yolk', 'goal', 'bathroom', 'macaroni', 'umpire', 'toothpick', 'alarm clock', 'ceiling fan', 'photos', 'parrot', 'tail fin', 'birthday cake', 'calculator', 'catcher', 'toilet', 'batter', 'stop sign,stopsign', 'cone', 'microwave,microwave oven', 'skateboard ramp', 'tea', 'dugout', 'products', 'halter', 'kettle', 'kitchen', 'refrigerator,fridge', 'ostrich', 'bathtub', 'blinds']\n"
     ]
    }
   ],
   "source": [
    "# object definition\n",
    "OBJ_URL = \"https://raw.githubusercontent.com/airsplay/py-bottom-up-attention/master/demo/data/genome/1600-400-20/objects_vocab.txt\"\n",
    "objids = utils.get_data(OBJ_URL)\n",
    "print(len(objids))\n",
    "print(objids[:30])"
   ]
  },
  {
   "cell_type": "code",
   "execution_count": 3,
   "metadata": {},
   "outputs": [
    {
     "name": "stdout",
     "output_type": "stream",
     "text": [
      "400\n",
      "['gray,grey', 'multi colored,multi-colored,multicolored', 'double decker,double-decker', 'unmade', 'red', 'camouflage', 'blue', 'white', 'green', 'pink', 'yellow', 'black', 'ivory', 'throwing', 'orange', 'spiky', 'plaid', 'purple', 'soccer', 'brake', 'blonde', 'american', 'flat screen', 'brown', 'wooden', 'performing', 'pulled back', 'windshield', 'bald', 'chocolate']\n"
     ]
    }
   ],
   "source": [
    "# attribute definition\n",
    "ATTR_URL = \"https://raw.githubusercontent.com/airsplay/py-bottom-up-attention/master/demo/data/genome/1600-400-20/attributes_vocab.txt\"\n",
    "attrids = utils.get_data(ATTR_URL)\n",
    "print(len(attrids))\n",
    "print(attrids[:30])"
   ]
  },
  {
   "cell_type": "code",
   "execution_count": 4,
   "metadata": {},
   "outputs": [
    {
     "name": "stdout",
     "output_type": "stream",
     "text": [
      "3129\n",
      "['', 'woods', 'trash can', 'hanging', 'wooden', 'cooking', 'china', 'kids', 'bike rack', 'on phone', 'music', 'travel', 'tulip', 'arrow', 'branch', 'chevron', 'mouth', 'on right', 'rice', 'plate', 'lots', 'nature', 'fruits', 'throwing frisbee', 'blonde', 'life jacket', 'ham', 'hay', 'hat', 'to get to other side']\n"
     ]
    }
   ],
   "source": [
    "# VQA answer definition\n",
    "VQA_URL = \"https://raw.githubusercontent.com/airsplay/lxmert/master/data/vqa/trainval_label2ans.json\"\n",
    "vqa_answers = utils.get_data(VQA_URL)\n",
    "print(len(vqa_answers))\n",
    "print(vqa_answers[:30])"
   ]
  },
  {
   "cell_type": "code",
   "execution_count": 5,
   "metadata": {},
   "outputs": [
    {
     "name": "stdout",
     "output_type": "stream",
     "text": [
      "loading configuration file cache\n"
     ]
    }
   ],
   "source": [
    "# 위 이미지의 URL\n",
    "URL = \"https://vqa.cloudcv.org/media/test2014/COCO_test2014_000000262567.jpg\"\n",
    "\n",
    "frcnn_cfg = Config.from_pretrained(\"unc-nlp/frcnn-vg-finetuned\")\n",
    "image_preprocess = Preprocess(frcnn_cfg)\n",
    "\n",
    "images, sizes, scales_yx = image_preprocess(URL)"
   ]
  },
  {
   "cell_type": "code",
   "execution_count": 6,
   "metadata": {},
   "outputs": [
    {
     "name": "stdout",
     "output_type": "stream",
     "text": [
      "tensor([[[[  61.0199,   61.2689,   62.1015,  ...,   50.5607,   50.1444,\n",
      "             50.0199],\n",
      "          [  60.8955,   61.1445,   61.9771,  ...,   50.8094,   50.3931,\n",
      "             50.2686],\n",
      "          [  60.4793,   60.7282,   61.5609,  ...,   51.6420,   51.2256,\n",
      "             51.1012],\n",
      "          ...,\n",
      "          [ -87.9801,  -88.0373,  -88.2285,  ...,   21.7716,   21.5466,\n",
      "             21.4793],\n",
      "          [ -87.9801,  -88.0891,  -88.4536,  ...,   21.9628,   21.9110,\n",
      "             21.8955],\n",
      "          [ -87.9801,  -88.1046,  -88.5209,  ...,   22.0199,   22.0199,\n",
      "             22.0199]],\n",
      "\n",
      "         [[  48.0535,   48.4269,   49.6759,  ...,   41.5943,   41.1780,\n",
      "             41.0535],\n",
      "          [  47.9291,   48.2871,   49.4843,  ...,   41.5943,   41.1780,\n",
      "             41.0535],\n",
      "          [  47.5129,   47.8190,   48.8429,  ...,   41.5943,   41.1780,\n",
      "             41.0535],\n",
      "          ...,\n",
      "          [ -99.9465,  -99.9364,  -99.9026,  ...,   13.8052,   13.5802,\n",
      "             13.5129],\n",
      "          [ -99.9465, -100.0400, -100.3528,  ...,   13.9964,   13.9446,\n",
      "             13.9291],\n",
      "          [ -99.9465, -100.0710, -100.4873,  ...,   14.0535,   14.0535,\n",
      "             14.0535]],\n",
      "\n",
      "         [[  41.2283,   41.3528,   41.7691,  ...,   35.7691,   35.3528,\n",
      "             35.2283],\n",
      "          [  41.1039,   41.2439,   41.7120,  ...,   35.7691,   35.3528,\n",
      "             35.2283],\n",
      "          [  40.6877,   40.8795,   41.5208,  ...,   35.7691,   35.3528,\n",
      "             35.2283],\n",
      "          ...,\n",
      "          [-102.7717, -102.9635, -103.6049,  ...,    9.9800,    9.7550,\n",
      "              9.6877],\n",
      "          [-102.7717, -102.9117, -103.3798,  ...,   10.1712,   10.1194,\n",
      "             10.1039],\n",
      "          [-102.7717, -102.8962, -103.3125,  ...,   10.2283,   10.2283,\n",
      "             10.2283]]]])\n",
      "tensor([[ 800, 1201]])\n"
     ]
    }
   ],
   "source": [
    "print(images)\n",
    "print(sizes)"
   ]
  },
  {
   "cell_type": "code",
   "execution_count": 7,
   "metadata": {},
   "outputs": [],
   "source": [
    "test_questions_for_url2 = [\n",
    "    \"Where is the cat?\",\n",
    "    \"What is near the disk?\",\n",
    "    \"What is the color of the table?\",\n",
    "    \"What is the color of the cat?\",\n",
    "    \"What is the shape of the monitor?\",\n",
    "    \"What is the color of the keyboard?\",\n",
    "]"
   ]
  },
  {
   "cell_type": "code",
   "execution_count": 8,
   "metadata": {},
   "outputs": [
    {
     "name": "stdout",
     "output_type": "stream",
     "text": [
      "loading configuration file cache\n",
      "loading weights file https://cdn.huggingface.co/unc-nlp/frcnn-vg-finetuned/pytorch_model.bin from cache at /home/aiffel/.cache/torch/transformers/57f6df6abe353be2773f2700159c65615babf39ab5b48114d2b49267672ae10f.77b59256a4cf8343ae0f923246a81489fc8d82f98d082edc2d2037c977c0d9d0\n",
      "All model checkpoint weights were used when initializing GeneralizedRCNN.\n",
      "\n",
      "All the weights of GeneralizedRCNN were initialized from the model checkpoint at unc-nlp/frcnn-vg-finetuned.\n",
      "If your task is similar to the task the model of the checkpoint was trained on, you can already use GeneralizedRCNN for predictions without further training.\n"
     ]
    },
    {
     "name": "stderr",
     "output_type": "stream",
     "text": [
      "/home/aiffel/anaconda3/envs/aiffelnew/lib/python3.7/site-packages/torch/nn/modules/container.py:435: UserWarning: Setting attributes on ParameterList is not supported.\n",
      "  warnings.warn(\"Setting attributes on ParameterList is not supported.\")\n"
     ]
    }
   ],
   "source": [
    "frcnn_cfg = Config.from_pretrained(\"unc-nlp/frcnn-vg-finetuned\")\n",
    "\n",
    "frcnn = GeneralizedRCNN.from_pretrained(\"unc-nlp/frcnn-vg-finetuned\", config=frcnn_cfg)"
   ]
  },
  {
   "cell_type": "code",
   "execution_count": 9,
   "metadata": {},
   "outputs": [
    {
     "data": {
      "text/plain": [
       "36"
      ]
     },
     "execution_count": 9,
     "metadata": {},
     "output_type": "execute_result"
    }
   ],
   "source": [
    "frcnn_cfg.max_detections  # object detection 모델이 검출할 최대 object 개수"
   ]
  },
  {
   "cell_type": "code",
   "execution_count": 10,
   "metadata": {},
   "outputs": [],
   "source": [
    "output_dict = frcnn(\n",
    "    images, \n",
    "    sizes, \n",
    "    scales_yx=scales_yx, \n",
    "    padding=\"max_detections\",\n",
    "    max_detections=frcnn_cfg.max_detections,\n",
    "    return_tensors=\"pt\"\n",
    ")"
   ]
  },
  {
   "cell_type": "code",
   "execution_count": 11,
   "metadata": {},
   "outputs": [
    {
     "name": "stdout",
     "output_type": "stream",
     "text": [
      "tensor([[[1.0372e+02, 1.3613e+02, 2.2735e+02, 1.6974e+02],\n",
      "         [8.4005e+01, 1.1941e+02, 2.4814e+02, 1.7585e+02],\n",
      "         [0.0000e+00, 8.1354e+01, 3.2642e+02, 2.6568e+02],\n",
      "         [3.8475e+02, 3.7221e+01, 4.9974e+02, 3.3300e+02],\n",
      "         [2.9875e+01, 0.0000e+00, 4.3054e+02, 1.3465e+02],\n",
      "         [1.5929e+02, 9.1682e+01, 3.7275e+02, 2.4955e+02],\n",
      "         [6.7672e-01, 2.4750e+02, 2.7701e+02, 3.3300e+02],\n",
      "         [1.6578e+02, 1.2526e+02, 3.4723e+02, 2.1946e+02],\n",
      "         [0.0000e+00, 7.1275e+01, 2.1836e+02, 3.0790e+02],\n",
      "         [5.2669e+01, 1.7062e+00, 2.6646e+02, 1.8314e+02],\n",
      "         [6.1805e+01, 2.4761e+02, 4.2838e+02, 3.3299e+02],\n",
      "         [1.2076e+01, 1.1892e+02, 3.6657e+02, 3.0462e+02],\n",
      "         [1.9641e+02, 1.0624e+02, 3.5971e+02, 1.9710e+02],\n",
      "         [9.1356e+01, 1.1064e+02, 4.1889e+02, 2.8040e+02],\n",
      "         [1.2139e+02, 1.0626e+01, 4.8306e+02, 1.6577e+02],\n",
      "         [3.0271e+02, 1.0307e+02, 3.2805e+02, 1.2879e+02],\n",
      "         [2.9658e+02, 5.5949e+00, 4.9991e+02, 2.7482e+02],\n",
      "         [9.8404e+01, 1.5139e+01, 3.3169e+02, 2.2902e+02],\n",
      "         [4.1154e+01, 4.6659e+01, 4.0556e+02, 2.3727e+02],\n",
      "         [3.7447e+02, 1.4963e+02, 4.3518e+02, 2.1157e+02],\n",
      "         [2.2865e+01, 1.8779e+02, 2.5988e+02, 3.3038e+02],\n",
      "         [3.0586e+00, 3.5118e+01, 2.2336e+02, 2.2989e+02],\n",
      "         [1.3853e+02, 2.4226e+02, 1.9631e+02, 2.9457e+02],\n",
      "         [4.9879e-01, 1.5006e+02, 1.0106e+02, 2.1906e+02],\n",
      "         [1.1803e+01, 2.4141e+02, 1.1398e+02, 3.3267e+02],\n",
      "         [8.9141e+01, 2.0670e+02, 3.5243e+02, 3.3096e+02],\n",
      "         [5.6239e+01, 1.5892e+02, 4.4291e+02, 3.3075e+02],\n",
      "         [1.0619e+02, 2.2133e+01, 2.3387e+02, 1.2720e+02],\n",
      "         [0.0000e+00, 7.0040e+01, 1.7056e+02, 2.5244e+02],\n",
      "         [2.7224e+00, 9.5407e-01, 2.0850e+02, 1.5567e+02],\n",
      "         [2.3999e+02, 0.0000e+00, 4.8553e+02, 1.9817e+02],\n",
      "         [4.0989e+01, 1.3819e+02, 2.9928e+02, 3.3141e+02],\n",
      "         [2.3482e+01, 2.4362e+02, 1.0252e+02, 3.0287e+02],\n",
      "         [1.2246e+02, 1.2571e+02, 4.9315e+02, 3.1505e+02],\n",
      "         [2.4742e+01, 1.0823e+02, 1.2136e+02, 1.4326e+02],\n",
      "         [1.9832e+02, 8.2017e+01, 4.5546e+02, 2.9892e+02]]])\n",
      "-------------\n",
      "torch.Size([1, 36, 4])\n"
     ]
    }
   ],
   "source": [
    "print(output_dict.get(\"boxes\"))\n",
    "print('-------------')\n",
    "print(output_dict.get(\"boxes\").shape)"
   ]
  },
  {
   "cell_type": "code",
   "execution_count": 12,
   "metadata": {},
   "outputs": [
    {
     "name": "stdout",
     "output_type": "stream",
     "text": [
      "tensor([[[2.4821e-03, 2.3580e+00, 0.0000e+00,  ..., 0.0000e+00,\n",
      "          0.0000e+00, 3.3088e+00],\n",
      "         [2.6639e-01, 1.0124e+00, 0.0000e+00,  ..., 9.0339e-04,\n",
      "          1.5285e-02, 3.0090e+00],\n",
      "         [6.0975e-01, 0.0000e+00, 0.0000e+00,  ..., 1.0956e-01,\n",
      "          2.5223e-01, 1.7357e+00],\n",
      "         ...,\n",
      "         [7.9118e-01, 2.3213e-01, 0.0000e+00,  ..., 2.2883e-02,\n",
      "          7.2807e-03, 6.4609e-01],\n",
      "         [0.0000e+00, 1.4173e+00, 0.0000e+00,  ..., 0.0000e+00,\n",
      "          2.0937e+00, 1.9630e+00],\n",
      "         [1.0801e+00, 8.3446e-01, 0.0000e+00,  ..., 1.2504e-02,\n",
      "          3.0912e-01, 6.6703e-01]]])\n",
      "-------------\n",
      "torch.Size([1, 36, 2048])\n"
     ]
    }
   ],
   "source": [
    "print(output_dict.get(\"roi_features\"))\n",
    "print('-------------')\n",
    "print(output_dict.get(\"roi_features\").shape)"
   ]
  },
  {
   "cell_type": "code",
   "execution_count": 13,
   "metadata": {},
   "outputs": [
    {
     "data": {
      "image/jpeg": "[encoded data removed]",
      "text/plain": [
       "<IPython.core.display.Image object>"
      ]
     },
     "metadata": {},
     "output_type": "display_data"
    }
   ],
   "source": [
    "# for visualizing output\n",
    "def showarray(a, fmt='jpeg'):\n",
    "    a = np.uint8(np.clip(a, 0, 255))\n",
    "    f = io.BytesIO()\n",
    "    PIL.Image.fromarray(a).save(f, fmt)\n",
    "    display(Image(data=f.getvalue()))\n",
    "\n",
    "#image viz\n",
    "frcnn_visualizer = SingleImageViz(URL, id2obj=objids, id2attr=attrids)\n",
    "\n",
    "frcnn_visualizer.draw_boxes(\n",
    "    output_dict.get(\"boxes\"),\n",
    "    output_dict.pop(\"obj_ids\"),\n",
    "    output_dict.pop(\"obj_probs\"),\n",
    "    output_dict.pop(\"attr_ids\"),\n",
    "    output_dict.pop(\"attr_probs\"),\n",
    ")\n",
    "showarray(frcnn_visualizer._get_buffer())"
   ]
  },
  {
   "cell_type": "code",
   "execution_count": 14,
   "metadata": {},
   "outputs": [],
   "source": [
    "#Very important that the boxes are normalized\n",
    "normalized_boxes = output_dict.get(\"normalized_boxes\")\n",
    "features = output_dict.get(\"roi_features\")"
   ]
  },
  {
   "cell_type": "code",
   "execution_count": 15,
   "metadata": {},
   "outputs": [],
   "source": [
    "lxmert_tokenizer = LxmertTokenizer.from_pretrained(\"unc-nlp/lxmert-base-uncased\")"
   ]
  },
  {
   "cell_type": "code",
   "execution_count": 16,
   "metadata": {},
   "outputs": [],
   "source": [
    "test_question = [\"Where is the cat?\"]\n",
    "\n",
    "inputs = lxmert_tokenizer(\n",
    "    test_question,\n",
    "    padding=\"max_length\",\n",
    "    max_length=20,\n",
    "    truncation=True,\n",
    "    return_token_type_ids=True,\n",
    "    return_attention_mask=True,\n",
    "    add_special_tokens=True,\n",
    "    return_tensors=\"pt\"\n",
    ")"
   ]
  },
  {
   "cell_type": "code",
   "execution_count": 17,
   "metadata": {},
   "outputs": [
    {
     "name": "stdout",
     "output_type": "stream",
     "text": [
      "tensor([[ 101, 2073, 2003, 1996, 4937, 1029,  102,    0,    0,    0,    0,    0,\n",
      "            0,    0,    0,    0,    0,    0,    0,    0]])\n",
      "tensor([[1, 1, 1, 1, 1, 1, 1, 0, 0, 0, 0, 0, 0, 0, 0, 0, 0, 0, 0, 0]])\n"
     ]
    }
   ],
   "source": [
    "print(inputs.input_ids)\n",
    "print(inputs.attention_mask)"
   ]
  },
  {
   "cell_type": "code",
   "execution_count": 18,
   "metadata": {},
   "outputs": [],
   "source": [
    "lxmert_vqa = LxmertForQuestionAnswering.from_pretrained(\"unc-nlp/lxmert-vqa-uncased\")"
   ]
  },
  {
   "cell_type": "code",
   "execution_count": 19,
   "metadata": {},
   "outputs": [
    {
     "data": {
      "text/plain": [
       "LxmertForQuestionAnsweringOutput(loss=None, question_answering_score=tensor([[-3.0494, -0.2973,  2.2342,  ...,  0.0078,  2.1437,  0.1003]],\n",
       "       grad_fn=<AddmmBackward>), language_hidden_states=None, vision_hidden_states=None, language_attentions=None, vision_attentions=None, cross_encoder_attentions=None)"
      ]
     },
     "execution_count": 19,
     "metadata": {},
     "output_type": "execute_result"
    }
   ],
   "source": [
    "output_vqa = lxmert_vqa(\n",
    "    input_ids=inputs.input_ids,\n",
    "    attention_mask=inputs.attention_mask,\n",
    "    visual_feats=features,\n",
    "    visual_pos=normalized_boxes,\n",
    "    token_type_ids=inputs.token_type_ids,\n",
    "    output_attentions=False,\n",
    ")\n",
    "\n",
    "output_vqa"
   ]
  },
  {
   "cell_type": "code",
   "execution_count": 20,
   "metadata": {},
   "outputs": [
    {
     "data": {
      "text/plain": [
       "3129"
      ]
     },
     "execution_count": 20,
     "metadata": {},
     "output_type": "execute_result"
    }
   ],
   "source": [
    "len(output_vqa[\"question_answering_score\"][0])"
   ]
  },
  {
   "cell_type": "code",
   "execution_count": 21,
   "metadata": {},
   "outputs": [
    {
     "data": {
      "text/plain": [
       "tensor([2534])"
      ]
     },
     "execution_count": 21,
     "metadata": {},
     "output_type": "execute_result"
    }
   ],
   "source": [
    "# get prediction\n",
    "pred_vqa = output_vqa[\"question_answering_score\"].argmax(-1)\n",
    "\n",
    "pred_vqa"
   ]
  },
  {
   "cell_type": "code",
   "execution_count": 22,
   "metadata": {},
   "outputs": [
    {
     "data": {
      "text/plain": [
       "'desk'"
      ]
     },
     "execution_count": 22,
     "metadata": {},
     "output_type": "execute_result"
    }
   ],
   "source": [
    "vqa_answers[2534]"
   ]
  },
  {
   "cell_type": "code",
   "execution_count": 23,
   "metadata": {},
   "outputs": [
    {
     "name": "stdout",
     "output_type": "stream",
     "text": [
      "Question: ['Where is the cat?']\n",
      "prediction from LXMERT VQA: desk\n"
     ]
    }
   ],
   "source": [
    "print(\"Question:\", test_question)\n",
    "print(\"prediction from LXMERT VQA:\", vqa_answers[pred_vqa])"
   ]
  },
  {
   "cell_type": "code",
   "execution_count": 24,
   "metadata": {},
   "outputs": [
    {
     "name": "stdout",
     "output_type": "stream",
     "text": [
      "Question: ['Where is the cat?']\n",
      "prediction from LXMERT VQA: desk\n",
      "Question: ['What is near the disk?']\n",
      "prediction from LXMERT VQA: cat\n",
      "Question: ['What is the color of the table?']\n",
      "prediction from LXMERT VQA: brown\n",
      "Question: ['What is the color of the cat?']\n",
      "prediction from LXMERT VQA: black and white\n",
      "Question: ['What is the shape of the monitor?']\n",
      "prediction from LXMERT VQA: rectangle\n",
      "Question: ['What is the color of the keyboard?']\n",
      "prediction from LXMERT VQA: white\n"
     ]
    }
   ],
   "source": [
    "test_questions_for_url2 = [\n",
    "    \"Where is the cat?\",\n",
    "    \"What is near the disk?\",\n",
    "    \"What is the color of the table?\",\n",
    "    \"What is the color of the cat?\",\n",
    "    \"What is the shape of the monitor?\",\n",
    "    \"What is the color of the keyboard?\",\n",
    "]\n",
    "\n",
    "for test_question in test_questions_for_url2:\n",
    "    # run lxmert\n",
    "    test_question = [test_question]\n",
    "\n",
    "    inputs = lxmert_tokenizer(\n",
    "        test_question,\n",
    "        padding=\"max_length\",\n",
    "        max_length=20,\n",
    "        truncation=True,\n",
    "        return_token_type_ids=True,\n",
    "        return_attention_mask=True,\n",
    "        add_special_tokens=True,\n",
    "        return_tensors=\"pt\"\n",
    "    )\n",
    "\n",
    "    # run lxmert(s)\n",
    "    output_vqa = lxmert_vqa(\n",
    "        input_ids=inputs.input_ids,\n",
    "        attention_mask=inputs.attention_mask,\n",
    "        visual_feats=features,\n",
    "        visual_pos=normalized_boxes,\n",
    "        token_type_ids=inputs.token_type_ids,\n",
    "        output_attentions=False,\n",
    "    )\n",
    "    # get prediction\n",
    "    pred_vqa = output_vqa[\"question_answering_score\"].argmax(-1)\n",
    "    print(\"Question:\", test_question)\n",
    "    print(\"prediction from LXMERT VQA:\", vqa_answers[pred_vqa])"
   ]
  },
  {
   "cell_type": "markdown",
   "metadata": {},
   "source": [
    "### Step 2. GQA 데이터셋 버전 모델 테스트해 보기"
   ]
  },
  {
   "cell_type": "code",
   "execution_count": 25,
   "metadata": {},
   "outputs": [
    {
     "name": "stdout",
     "output_type": "stream",
     "text": [
      "1842\n",
      "['cat food', 'elephant', 'gloves', 'football', 'dock', 'shops', 'water', 'light blue', 'chair', 'players', 'tourist', 'magnet', 'railroad', 'ski lift', 'mirror', 'leggings', 'hurdle', 'shuttle', 'wildflowers', 'flowers', 'cooking pot', 'pipe', 'swan', 'girl', 'celery', 'brown', 'ambulance', 'steps', 'power line', 'asphalt']\n"
     ]
    }
   ],
   "source": [
    "# GQA answer definition\n",
    "GQA_URL = \"https://raw.githubusercontent.com/airsplay/lxmert/master/data/gqa/trainval_label2ans.json\"\n",
    "gqa_answers = utils.get_data(GQA_URL)\n",
    "print(len(gqa_answers))\n",
    "print(gqa_answers[:30])"
   ]
  },
  {
   "cell_type": "code",
   "execution_count": 26,
   "metadata": {},
   "outputs": [
    {
     "data": {
      "application/vnd.jupyter.widget-view+json": {
       "model_id": "7bd11945267d44eba3fbe94dc7ddcf13",
       "version_major": 2,
       "version_minor": 0
      },
      "text/plain": [
       "HBox(children=(FloatProgress(value=0.0, description='Downloading', max=880.0, style=ProgressStyle(description_…"
      ]
     },
     "metadata": {},
     "output_type": "display_data"
    },
    {
     "name": "stdout",
     "output_type": "stream",
     "text": [
      "\n"
     ]
    },
    {
     "data": {
      "application/vnd.jupyter.widget-view+json": {
       "model_id": "e2684c10ba6e457cb64ee8329bfc0df2",
       "version_major": 2,
       "version_minor": 0
      },
      "text/plain": [
       "HBox(children=(FloatProgress(value=0.0, description='Downloading', max=848002819.0, style=ProgressStyle(descri…"
      ]
     },
     "metadata": {},
     "output_type": "display_data"
    },
    {
     "name": "stdout",
     "output_type": "stream",
     "text": [
      "\n"
     ]
    }
   ],
   "source": [
    "lxmert_gqa = LxmertForQuestionAnswering.from_pretrained(\"unc-nlp/lxmert-gqa-uncased\")"
   ]
  },
  {
   "cell_type": "code",
   "execution_count": 27,
   "metadata": {},
   "outputs": [
    {
     "data": {
      "text/plain": [
       "LxmertForQuestionAnsweringOutput(loss=None, question_answering_score=tensor([[2.1278, 0.1617, 1.1929,  ..., 1.1576, 0.2529, 2.8312]],\n",
       "       grad_fn=<AddmmBackward>), language_hidden_states=None, vision_hidden_states=None, language_attentions=None, vision_attentions=None, cross_encoder_attentions=None)"
      ]
     },
     "execution_count": 27,
     "metadata": {},
     "output_type": "execute_result"
    }
   ],
   "source": [
    "output_gqa = lxmert_gqa(\n",
    "    input_ids=inputs.input_ids,\n",
    "    attention_mask=inputs.attention_mask,\n",
    "    visual_feats=features,\n",
    "    visual_pos=normalized_boxes,\n",
    "    token_type_ids=inputs.token_type_ids,\n",
    "    output_attentions=False,\n",
    ")\n",
    "\n",
    "output_gqa"
   ]
  },
  {
   "cell_type": "code",
   "execution_count": 28,
   "metadata": {},
   "outputs": [
    {
     "data": {
      "text/plain": [
       "1842"
      ]
     },
     "execution_count": 28,
     "metadata": {},
     "output_type": "execute_result"
    }
   ],
   "source": [
    "len(output_gqa[\"question_answering_score\"][0])"
   ]
  },
  {
   "cell_type": "code",
   "execution_count": 29,
   "metadata": {},
   "outputs": [
    {
     "data": {
      "text/plain": [
       "tensor([549])"
      ]
     },
     "execution_count": 29,
     "metadata": {},
     "output_type": "execute_result"
    }
   ],
   "source": [
    "# get prediction\n",
    "pred_gqa = output_gqa[\"question_answering_score\"].argmax(-1)\n",
    "\n",
    "pred_gqa"
   ]
  },
  {
   "cell_type": "code",
   "execution_count": 32,
   "metadata": {},
   "outputs": [
    {
     "data": {
      "text/plain": [
       "'white'"
      ]
     },
     "execution_count": 32,
     "metadata": {},
     "output_type": "execute_result"
    }
   ],
   "source": [
    "gqa_answers[549]"
   ]
  },
  {
   "cell_type": "code",
   "execution_count": 31,
   "metadata": {},
   "outputs": [
    {
     "name": "stdout",
     "output_type": "stream",
     "text": [
      "Question: ['What is the color of the keyboard?']\n",
      "prediction from LXMERT VQA: white\n"
     ]
    }
   ],
   "source": [
    "print(\"Question:\", test_question)\n",
    "print(\"prediction from LXMERT VQA:\", gqa_answers[pred_gqa])"
   ]
  },
  {
   "cell_type": "code",
   "execution_count": 33,
   "metadata": {
    "scrolled": false
   },
   "outputs": [
    {
     "name": "stdout",
     "output_type": "stream",
     "text": [
      "Question: ['Where is the cat?']\n",
      "prediction from LXMERT VQA: desk\n",
      "Question: ['What is near the disk?']\n",
      "prediction from LXMERT VQA: can\n",
      "Question: ['What is the color of the table?']\n",
      "prediction from LXMERT VQA: brown\n",
      "Question: ['What is the color of the cat?']\n",
      "prediction from LXMERT VQA: black\n",
      "Question: ['What is the shape of the monitor?']\n",
      "prediction from LXMERT VQA: square\n",
      "Question: ['What is the color of the keyboard?']\n",
      "prediction from LXMERT VQA: white\n"
     ]
    }
   ],
   "source": [
    "test_questions_for_url2 = [\n",
    "    \"Where is the cat?\",\n",
    "    \"What is near the disk?\",\n",
    "    \"What is the color of the table?\",\n",
    "    \"What is the color of the cat?\",\n",
    "    \"What is the shape of the monitor?\",\n",
    "    \"What is the color of the keyboard?\",\n",
    "]\n",
    "\n",
    "for test_question in test_questions_for_url2:\n",
    "    # run lxmert\n",
    "    test_question = [test_question]\n",
    "\n",
    "    inputs = lxmert_tokenizer(\n",
    "        test_question,\n",
    "        padding=\"max_length\",\n",
    "        max_length=20,\n",
    "        truncation=True,\n",
    "        return_token_type_ids=True,\n",
    "        return_attention_mask=True,\n",
    "        add_special_tokens=True,\n",
    "        return_tensors=\"pt\"\n",
    "    )\n",
    "\n",
    "    # run lxmert(s)\n",
    "    output_gqa = lxmert_gqa(\n",
    "        input_ids=inputs.input_ids,\n",
    "        attention_mask=inputs.attention_mask,\n",
    "        visual_feats=features,\n",
    "        visual_pos=normalized_boxes,\n",
    "        token_type_ids=inputs.token_type_ids,\n",
    "        output_attentions=False,\n",
    "    )\n",
    "    # get prediction\n",
    "    pred_gqa = output_gqa[\"question_answering_score\"].argmax(-1)\n",
    "    print(\"Question:\", test_question)\n",
    "    print(\"prediction from LXMERT VQA:\", gqa_answers[pred_gqa])"
   ]
  },
  {
   "cell_type": "markdown",
   "metadata": {},
   "source": [
    "### Step 3. 내가 선택한 이미지로 VQA/GQA 버전 비교해 보기"
   ]
  },
  {
   "cell_type": "code",
   "execution_count": 34,
   "metadata": {},
   "outputs": [
    {
     "name": "stdout",
     "output_type": "stream",
     "text": [
      "loading configuration file cache\n"
     ]
    }
   ],
   "source": [
    "# 위 이미지의 URL\n",
    "URL = \"https://victorzhou.com/static/5039afcd70dc9b7daa858da7aed6423c/07af8/baseball.webp\"\n",
    "#https://raw.githubusercontent.com/airsplay/py-bottom-up-attention/master/demo/data/images/input.jpg\"\n",
    "\n",
    "frcnn_cfg = Config.from_pretrained(\"unc-nlp/frcnn-vg-finetuned\")\n",
    "image_preprocess = Preprocess(frcnn_cfg)\n",
    "\n",
    "images, sizes, scales_yx = image_preprocess(URL)"
   ]
  },
  {
   "cell_type": "code",
   "execution_count": 35,
   "metadata": {},
   "outputs": [
    {
     "name": "stdout",
     "output_type": "stream",
     "text": [
      "tensor([[[[-1.0980e+01, -8.8754e+00, -5.1390e+00,  ...,  5.0267e+00,\n",
      "            1.8239e+00,  1.9897e-02],\n",
      "          [-1.2784e+01, -1.0589e+01, -6.6919e+00,  ...,  1.0888e+01,\n",
      "            8.1664e+00,  6.6337e+00],\n",
      "          [-1.5986e+01, -1.3631e+01, -9.4490e+00,  ...,  2.1294e+01,\n",
      "            1.9428e+01,  1.8376e+01],\n",
      "          ...,\n",
      "          [-2.6305e+01, -3.0666e+01, -3.8407e+01,  ..., -7.3477e+01,\n",
      "           -7.1876e+01, -7.0974e+01],\n",
      "          [-3.0575e+01, -3.4454e+01, -4.1341e+01,  ..., -7.6680e+01,\n",
      "           -7.5078e+01, -7.4176e+01],\n",
      "          [-3.2980e+01, -3.6588e+01, -4.2993e+01,  ..., -7.8484e+01,\n",
      "           -7.6882e+01, -7.5980e+01]],\n",
      "\n",
      "         [[-1.8947e+01, -1.8646e+01, -1.8112e+01,  ..., -3.7741e+00,\n",
      "           -6.4432e+00, -7.9465e+00],\n",
      "          [-2.0450e+01, -2.0059e+01, -1.9364e+01,  ...,  4.8438e-01,\n",
      "           -2.0242e+00, -3.4371e+00],\n",
      "          [-2.3118e+01, -2.2567e+01, -2.1588e+01,  ...,  8.0452e+00,\n",
      "            5.8215e+00,  4.5691e+00],\n",
      "          ...,\n",
      "          [-1.6271e+01, -2.0031e+01, -2.6705e+01,  ..., -6.0251e+01,\n",
      "           -5.8027e+01, -5.6775e+01],\n",
      "          [-2.0541e+01, -2.3819e+01, -2.9639e+01,  ..., -6.3365e+01,\n",
      "           -6.0856e+01, -5.9443e+01],\n",
      "          [-2.2947e+01, -2.5953e+01, -3.1291e+01,  ..., -6.5119e+01,\n",
      "           -6.2450e+01, -6.0947e+01]],\n",
      "\n",
      "         [[-3.2772e+01, -3.1870e+01, -3.0268e+01,  ..., -2.9930e+01,\n",
      "           -3.3667e+01, -3.5772e+01],\n",
      "          [-3.5177e+01, -3.4094e+01, -3.2172e+01,  ..., -2.4621e+01,\n",
      "           -2.7715e+01, -2.9459e+01],\n",
      "          [-3.9447e+01, -3.8043e+01, -3.5551e+01,  ..., -1.5194e+01,\n",
      "           -1.7149e+01, -1.8250e+01],\n",
      "          ...,\n",
      "          [ 2.9903e+01,  2.6745e+01,  2.1139e+01,  ..., -3.4344e+00,\n",
      "           -2.3667e+00, -1.7654e+00],\n",
      "          [ 2.5633e+01,  2.2957e+01,  1.8205e+01,  ..., -6.6369e+00,\n",
      "           -5.5692e+00, -4.9679e+00],\n",
      "          [ 2.3228e+01,  2.0823e+01,  1.6553e+01,  ..., -8.4406e+00,\n",
      "           -7.3730e+00, -6.7717e+00]]]])\n",
      "tensor([[ 800, 1199]])\n"
     ]
    }
   ],
   "source": [
    "print(images)\n",
    "print(sizes)"
   ]
  },
  {
   "cell_type": "code",
   "execution_count": 36,
   "metadata": {},
   "outputs": [],
   "source": [
    "test_questions_for_url = [\n",
    "    \"Where is this scene?\",\n",
    "    \"what is in the the man's hand?\",\n",
    "    \"What's the color of his shoes?\"\n",
    "]"
   ]
  },
  {
   "cell_type": "code",
   "execution_count": 37,
   "metadata": {},
   "outputs": [
    {
     "name": "stdout",
     "output_type": "stream",
     "text": [
      "loading configuration file cache\n",
      "loading weights file https://cdn.huggingface.co/unc-nlp/frcnn-vg-finetuned/pytorch_model.bin from cache at /home/aiffel/.cache/torch/transformers/57f6df6abe353be2773f2700159c65615babf39ab5b48114d2b49267672ae10f.77b59256a4cf8343ae0f923246a81489fc8d82f98d082edc2d2037c977c0d9d0\n",
      "All model checkpoint weights were used when initializing GeneralizedRCNN.\n",
      "\n",
      "All the weights of GeneralizedRCNN were initialized from the model checkpoint at unc-nlp/frcnn-vg-finetuned.\n",
      "If your task is similar to the task the model of the checkpoint was trained on, you can already use GeneralizedRCNN for predictions without further training.\n"
     ]
    }
   ],
   "source": [
    "frcnn_cfg = Config.from_pretrained(\"unc-nlp/frcnn-vg-finetuned\")\n",
    "\n",
    "frcnn = GeneralizedRCNN.from_pretrained(\"unc-nlp/frcnn-vg-finetuned\", config=frcnn_cfg)"
   ]
  },
  {
   "cell_type": "code",
   "execution_count": 38,
   "metadata": {},
   "outputs": [
    {
     "data": {
      "text/plain": [
       "36"
      ]
     },
     "execution_count": 38,
     "metadata": {},
     "output_type": "execute_result"
    }
   ],
   "source": [
    "frcnn_cfg.max_detections  # object detection 모델이 검출할 최대 object 개수"
   ]
  },
  {
   "cell_type": "code",
   "execution_count": 39,
   "metadata": {},
   "outputs": [],
   "source": [
    "output_dict = frcnn(\n",
    "    images, \n",
    "    sizes, \n",
    "    scales_yx=scales_yx, \n",
    "    padding=\"max_detections\",\n",
    "    max_detections=frcnn_cfg.max_detections,\n",
    "    return_tensors=\"pt\"\n",
    ")"
   ]
  },
  {
   "cell_type": "code",
   "execution_count": 40,
   "metadata": {},
   "outputs": [
    {
     "name": "stdout",
     "output_type": "stream",
     "text": [
      "tensor([[[  0.0000,   2.0407, 274.6104, 182.1488],\n",
      "         [  0.0000, 217.7988, 413.0470, 425.9659],\n",
      "         [184.8578, 207.4609, 366.9070, 331.0841],\n",
      "         [324.1681, 143.2587, 445.1615, 263.5240],\n",
      "         [  0.0000,   0.0000, 480.1631, 128.5651],\n",
      "         [100.2951,   0.0000, 606.2798, 173.7782],\n",
      "         [ 80.8130, 186.1715, 572.2657, 415.2486],\n",
      "         [211.7264, 157.4513, 327.0757, 339.6904],\n",
      "         [156.3593, 366.0060, 225.8546, 410.6599],\n",
      "         [290.0950,   0.0000, 640.0000, 128.8814],\n",
      "         [336.2984, 130.4366, 406.3761, 192.1133],\n",
      "         [  0.0000,  99.8539, 222.4162, 196.1639],\n",
      "         [139.6467, 100.7368, 342.2992, 420.4933],\n",
      "         [  0.0000, 208.2957, 208.4796, 424.8371],\n",
      "         [183.6804, 220.8962, 236.1689, 281.0630],\n",
      "         [323.6458, 212.5383, 640.0000, 427.0000],\n",
      "         [316.4463, 108.7807, 432.1108, 228.7371],\n",
      "         [191.7892, 129.5119, 478.3678, 388.3340],\n",
      "         [391.0062, 303.8357, 447.4328, 374.1375],\n",
      "         [ 65.4513,  85.9112, 103.2114, 121.9664],\n",
      "         [176.9924, 357.3648, 615.9352, 427.0000],\n",
      "         [207.3768, 102.0462, 260.5212, 133.2059],\n",
      "         [189.1706,  29.4952, 394.7591, 363.5741],\n",
      "         [ 77.1078,   1.6303, 416.2232, 243.3961],\n",
      "         [135.8023,   0.0000, 620.7859,  83.3644],\n",
      "         [195.6631, 135.5761, 312.0745, 265.3445],\n",
      "         [ 73.4784, 301.2919, 566.4908, 427.0000],\n",
      "         [  0.0000, 301.9442, 345.0848, 427.0000],\n",
      "         [  0.0000,  84.7100, 291.4227, 275.8512],\n",
      "         [  0.9513, 109.9692, 432.0315, 369.2266],\n",
      "         [216.6178, 298.3208, 430.5667, 379.6268],\n",
      "         [ 53.0317,  10.3207, 450.7039,  80.1647],\n",
      "         [447.6711,   1.3711, 640.0000, 162.3510],\n",
      "         [ 54.4884, 362.1321, 436.6120, 426.6453],\n",
      "         [  0.0000, 141.6210,  61.2027, 205.9480],\n",
      "         [192.3163, 239.4848, 227.0879, 278.2235]]])\n",
      "-------------\n",
      "torch.Size([1, 36, 4])\n"
     ]
    }
   ],
   "source": [
    "print(output_dict.get(\"boxes\"))\n",
    "print('-------------')\n",
    "print(output_dict.get(\"boxes\").shape)"
   ]
  },
  {
   "cell_type": "code",
   "execution_count": 41,
   "metadata": {},
   "outputs": [
    {
     "name": "stdout",
     "output_type": "stream",
     "text": [
      "tensor([[[0.0000e+00, 0.0000e+00, 9.5200e-02,  ..., 3.8798e+00,\n",
      "          9.4746e-01, 2.8658e-03],\n",
      "         [0.0000e+00, 0.0000e+00, 7.8400e-02,  ..., 0.0000e+00,\n",
      "          0.0000e+00, 3.5329e-01],\n",
      "         [0.0000e+00, 0.0000e+00, 0.0000e+00,  ..., 0.0000e+00,\n",
      "          1.9615e-01, 1.4310e+00],\n",
      "         ...,\n",
      "         [0.0000e+00, 2.0911e-01, 2.2367e-01,  ..., 0.0000e+00,\n",
      "          9.6169e-03, 1.8682e+00],\n",
      "         [0.0000e+00, 1.0256e+00, 4.9034e-01,  ..., 3.1306e-01,\n",
      "          3.5772e-01, 1.9084e+00],\n",
      "         [0.0000e+00, 0.0000e+00, 4.1982e-04,  ..., 0.0000e+00,\n",
      "          6.2705e-01, 3.7211e+00]]])\n",
      "-------------\n",
      "torch.Size([1, 36, 2048])\n"
     ]
    }
   ],
   "source": [
    "print(output_dict.get(\"roi_features\"))\n",
    "print('-------------')\n",
    "print(output_dict.get(\"roi_features\").shape)"
   ]
  },
  {
   "cell_type": "code",
   "execution_count": 42,
   "metadata": {},
   "outputs": [
    {
     "data": {
      "image/jpeg": "[encoded data removed]",
      "text/plain": [
       "<IPython.core.display.Image object>"
      ]
     },
     "metadata": {},
     "output_type": "display_data"
    }
   ],
   "source": [
    "# for visualizing output\n",
    "def showarray(a, fmt='jpeg'):\n",
    "    a = np.uint8(np.clip(a, 0, 255))\n",
    "    f = io.BytesIO()\n",
    "    PIL.Image.fromarray(a).save(f, fmt)\n",
    "    display(Image(data=f.getvalue()))\n",
    "\n",
    "#image viz\n",
    "frcnn_visualizer = SingleImageViz(URL, id2obj=objids, id2attr=attrids)\n",
    "\n",
    "frcnn_visualizer.draw_boxes(\n",
    "    output_dict.get(\"boxes\"),\n",
    "    output_dict.pop(\"obj_ids\"),\n",
    "    output_dict.pop(\"obj_probs\"),\n",
    "    output_dict.pop(\"attr_ids\"),\n",
    "    output_dict.pop(\"attr_probs\"),\n",
    ")\n",
    "showarray(frcnn_visualizer._get_buffer())"
   ]
  },
  {
   "cell_type": "code",
   "execution_count": 43,
   "metadata": {},
   "outputs": [],
   "source": [
    "#Very important that the boxes are normalized\n",
    "normalized_boxes = output_dict.get(\"normalized_boxes\")\n",
    "features = output_dict.get(\"roi_features\")"
   ]
  },
  {
   "cell_type": "code",
   "execution_count": 44,
   "metadata": {},
   "outputs": [],
   "source": [
    "lxmert_tokenizer = LxmertTokenizer.from_pretrained(\"unc-nlp/lxmert-base-uncased\")"
   ]
  },
  {
   "cell_type": "code",
   "execution_count": 45,
   "metadata": {},
   "outputs": [],
   "source": [
    "test_question = [\"where is this place?\"]\n",
    "\n",
    "inputs = lxmert_tokenizer(\n",
    "    test_question,\n",
    "    padding=\"max_length\",\n",
    "    max_length=20,\n",
    "    truncation=True,\n",
    "    return_token_type_ids=True,\n",
    "    return_attention_mask=True,\n",
    "    add_special_tokens=True,\n",
    "    return_tensors=\"pt\"\n",
    ")"
   ]
  },
  {
   "cell_type": "code",
   "execution_count": 46,
   "metadata": {},
   "outputs": [
    {
     "name": "stdout",
     "output_type": "stream",
     "text": [
      "tensor([[ 101, 2073, 2003, 2023, 2173, 1029,  102,    0,    0,    0,    0,    0,\n",
      "            0,    0,    0,    0,    0,    0,    0,    0]])\n",
      "tensor([[1, 1, 1, 1, 1, 1, 1, 0, 0, 0, 0, 0, 0, 0, 0, 0, 0, 0, 0, 0]])\n"
     ]
    }
   ],
   "source": [
    "print(inputs.input_ids)\n",
    "print(inputs.attention_mask)"
   ]
  },
  {
   "cell_type": "code",
   "execution_count": 47,
   "metadata": {},
   "outputs": [],
   "source": [
    "lxmert_vqa = LxmertForQuestionAnswering.from_pretrained(\"unc-nlp/lxmert-vqa-uncased\")"
   ]
  },
  {
   "cell_type": "code",
   "execution_count": 48,
   "metadata": {},
   "outputs": [
    {
     "data": {
      "text/plain": [
       "LxmertForQuestionAnsweringOutput(loss=None, question_answering_score=tensor([[-1.1927, -1.2928, -0.6509,  ...,  0.7750,  0.2018, -0.7250]],\n",
       "       grad_fn=<AddmmBackward>), language_hidden_states=None, vision_hidden_states=None, language_attentions=None, vision_attentions=None, cross_encoder_attentions=None)"
      ]
     },
     "execution_count": 48,
     "metadata": {},
     "output_type": "execute_result"
    }
   ],
   "source": [
    "output_vqa = lxmert_vqa(\n",
    "    input_ids=inputs.input_ids,\n",
    "    attention_mask=inputs.attention_mask,\n",
    "    visual_feats=features,\n",
    "    visual_pos=normalized_boxes,\n",
    "    token_type_ids=inputs.token_type_ids,\n",
    "    output_attentions=False,\n",
    ")\n",
    "\n",
    "output_vqa"
   ]
  },
  {
   "cell_type": "code",
   "execution_count": 49,
   "metadata": {},
   "outputs": [
    {
     "data": {
      "text/plain": [
       "3129"
      ]
     },
     "execution_count": 49,
     "metadata": {},
     "output_type": "execute_result"
    }
   ],
   "source": [
    "len(output_vqa[\"question_answering_score\"][0])"
   ]
  },
  {
   "cell_type": "code",
   "execution_count": 50,
   "metadata": {},
   "outputs": [
    {
     "data": {
      "text/plain": [
       "tensor([2605])"
      ]
     },
     "execution_count": 50,
     "metadata": {},
     "output_type": "execute_result"
    }
   ],
   "source": [
    "# get prediction\n",
    "pred_vqa = output_vqa[\"question_answering_score\"].argmax(-1)\n",
    "\n",
    "pred_vqa"
   ]
  },
  {
   "cell_type": "code",
   "execution_count": 52,
   "metadata": {},
   "outputs": [
    {
     "data": {
      "text/plain": [
       "'baseball field'"
      ]
     },
     "execution_count": 52,
     "metadata": {},
     "output_type": "execute_result"
    }
   ],
   "source": [
    "vqa_answers[2605]"
   ]
  },
  {
   "cell_type": "code",
   "execution_count": 53,
   "metadata": {},
   "outputs": [
    {
     "name": "stdout",
     "output_type": "stream",
     "text": [
      "Question: ['where is this place?']\n",
      "prediction from LXMERT VQA: baseball field\n"
     ]
    }
   ],
   "source": [
    "print(\"Question:\", test_question)\n",
    "print(\"prediction from LXMERT VQA:\", vqa_answers[pred_vqa])"
   ]
  },
  {
   "cell_type": "code",
   "execution_count": 54,
   "metadata": {
    "scrolled": true
   },
   "outputs": [
    {
     "name": "stdout",
     "output_type": "stream",
     "text": [
      "Question: ['Where is this scene?']\n",
      "prediction from LXMERT VQA: baseball field\n",
      "Question: [\"what is in the the man's hand?\"]\n",
      "prediction from LXMERT VQA: glove\n",
      "Question: [\"What's the color of his shoes?\"]\n",
      "prediction from LXMERT VQA: black\n"
     ]
    }
   ],
   "source": [
    "test_questions_for_url = [\n",
    "    \"Where is this scene?\",\n",
    "    \"what is in the the man's hand?\",\n",
    "    \"What's the color of his shoes?\"\n",
    "]\n",
    "\n",
    "for test_question in test_questions_for_url:\n",
    "    # run lxmert\n",
    "    test_question = [test_question]\n",
    "\n",
    "    inputs = lxmert_tokenizer(\n",
    "        test_question,\n",
    "        padding=\"max_length\",\n",
    "        max_length=20,\n",
    "        truncation=True,\n",
    "        return_token_type_ids=True,\n",
    "        return_attention_mask=True,\n",
    "        add_special_tokens=True,\n",
    "        return_tensors=\"pt\"\n",
    "    )\n",
    "\n",
    "    # run lxmert(s)\n",
    "    output_vqa = lxmert_vqa(\n",
    "        input_ids=inputs.input_ids,\n",
    "        attention_mask=inputs.attention_mask,\n",
    "        visual_feats=features,\n",
    "        visual_pos=normalized_boxes,\n",
    "        token_type_ids=inputs.token_type_ids,\n",
    "        output_attentions=False,\n",
    "    )\n",
    "    # get prediction\n",
    "    pred_vqa = output_vqa[\"question_answering_score\"].argmax(-1)\n",
    "    print(\"Question:\", test_question)\n",
    "    print(\"prediction from LXMERT VQA:\", vqa_answers[pred_vqa])"
   ]
  },
  {
   "cell_type": "code",
   "execution_count": null,
   "metadata": {},
   "outputs": [],
   "source": [
    "#gqa"
   ]
  },
  {
   "cell_type": "code",
   "execution_count": 55,
   "metadata": {},
   "outputs": [],
   "source": [
    "test_question = [\"where is this place?\"]\n",
    "\n",
    "inputs = lxmert_tokenizer(\n",
    "    test_question,\n",
    "    padding=\"max_length\",\n",
    "    max_length=20,\n",
    "    truncation=True,\n",
    "    return_token_type_ids=True,\n",
    "    return_attention_mask=True,\n",
    "    add_special_tokens=True,\n",
    "    return_tensors=\"pt\"\n",
    ")"
   ]
  },
  {
   "cell_type": "code",
   "execution_count": 58,
   "metadata": {},
   "outputs": [],
   "source": [
    "lxmert_gqa = LxmertForQuestionAnswering.from_pretrained(\"unc-nlp/lxmert-gqa-uncased\")"
   ]
  },
  {
   "cell_type": "code",
   "execution_count": 59,
   "metadata": {},
   "outputs": [
    {
     "data": {
      "text/plain": [
       "LxmertForQuestionAnsweringOutput(loss=None, question_answering_score=tensor([[1.4940, 0.2513, 0.5050,  ..., 0.4455, 3.3715, 0.3797]],\n",
       "       grad_fn=<AddmmBackward>), language_hidden_states=None, vision_hidden_states=None, language_attentions=None, vision_attentions=None, cross_encoder_attentions=None)"
      ]
     },
     "execution_count": 59,
     "metadata": {},
     "output_type": "execute_result"
    }
   ],
   "source": [
    "output_gqa = lxmert_gqa(\n",
    "    input_ids=inputs.input_ids,\n",
    "    attention_mask=inputs.attention_mask,\n",
    "    visual_feats=features,\n",
    "    visual_pos=normalized_boxes,\n",
    "    token_type_ids=inputs.token_type_ids,\n",
    "    output_attentions=False,\n",
    ")\n",
    "\n",
    "output_gqa"
   ]
  },
  {
   "cell_type": "code",
   "execution_count": 60,
   "metadata": {},
   "outputs": [
    {
     "data": {
      "text/plain": [
       "tensor([61])"
      ]
     },
     "execution_count": 60,
     "metadata": {},
     "output_type": "execute_result"
    }
   ],
   "source": [
    "# get prediction\n",
    "pred_gqa = output_gqa[\"question_answering_score\"].argmax(-1)\n",
    "\n",
    "pred_gqa"
   ]
  },
  {
   "cell_type": "code",
   "execution_count": 61,
   "metadata": {},
   "outputs": [
    {
     "data": {
      "text/plain": [
       "'stadium'"
      ]
     },
     "execution_count": 61,
     "metadata": {},
     "output_type": "execute_result"
    }
   ],
   "source": [
    "gqa_answers[61]"
   ]
  },
  {
   "cell_type": "code",
   "execution_count": 62,
   "metadata": {},
   "outputs": [
    {
     "name": "stdout",
     "output_type": "stream",
     "text": [
      "Question: ['where is this place?']\n",
      "prediction from LXMERT VQA: stadium\n"
     ]
    }
   ],
   "source": [
    "print(\"Question:\", test_question)\n",
    "print(\"prediction from LXMERT VQA:\", gqa_answers[pred_gqa])"
   ]
  },
  {
   "cell_type": "code",
   "execution_count": 63,
   "metadata": {
    "scrolled": true
   },
   "outputs": [
    {
     "name": "stdout",
     "output_type": "stream",
     "text": [
      "Question: ['Where is this scene?']\n",
      "prediction from LXMERT VQA: stadium\n",
      "Question: [\"what is in the the man's hand?\"]\n",
      "prediction from LXMERT VQA: glove\n",
      "Question: [\"What's the color of his shoes?\"]\n",
      "prediction from LXMERT VQA: black\n"
     ]
    }
   ],
   "source": [
    "for test_question in test_questions_for_url:\n",
    "    # run lxmert\n",
    "    test_question = [test_question]\n",
    "\n",
    "    inputs = lxmert_tokenizer(\n",
    "        test_question,\n",
    "        padding=\"max_length\",\n",
    "        max_length=20,\n",
    "        truncation=True,\n",
    "        return_token_type_ids=True,\n",
    "        return_attention_mask=True,\n",
    "        add_special_tokens=True,\n",
    "        return_tensors=\"pt\"\n",
    "    )\n",
    "\n",
    "    # run lxmert(s)\n",
    "    output_gqa = lxmert_gqa(\n",
    "        input_ids=inputs.input_ids,\n",
    "        attention_mask=inputs.attention_mask,\n",
    "        visual_feats=features,\n",
    "        visual_pos=normalized_boxes,\n",
    "        token_type_ids=inputs.token_type_ids,\n",
    "        output_attentions=False,\n",
    "    )\n",
    "    # get prediction\n",
    "    pred_gqa = output_gqa[\"question_answering_score\"].argmax(-1)\n",
    "    print(\"Question:\", test_question)\n",
    "    print(\"prediction from LXMERT VQA:\", gqa_answers[pred_gqa])"
   ]
  },
  {
   "cell_type": "markdown",
   "metadata": {},
   "source": [
    "- VQA와 GQA 모두 만족할 만한 답을 출력하였다. 이 장소가 어디냐는 질문에 baseball field와 stadium이라는 답변을 내놓았으며 더 구체적인 VQA가 우수하다고 할 수 있다. 이는 VQA가 얼룩 고양이 색깔을 묻는 질문에서 검은색과 하얀색 모두를 얘기했지만, GQA는 하나만 이야기한 것을 보아도 알 수 있다"
   ]
  },
  {
   "cell_type": "markdown",
   "metadata": {},
   "source": [
    "- 이미지 bounding box 시각화 및 question에 대한 answer 출력이 정상적으로 진행됨\n",
    "- GQA 버전 모델을 활용하여 question에 대한 answer 출력이 정상적으로 진행됨\n",
    "- 선택한 이미지에 대해 두 모델의 답안이 어떻게 달라지는지 비교분석 결과를 제출함"
   ]
  }
 ],
 "metadata": {
  "kernelspec": {
   "display_name": "aiffelnew",
   "language": "python",
   "name": "aiffelnew"
  },
  "language_info": {
   "codemirror_mode": {
    "name": "ipython",
    "version": 3
   },
   "file_extension": ".py",
   "mimetype": "text/x-python",
   "name": "python",
   "nbconvert_exporter": "python",
   "pygments_lexer": "ipython3",
   "version": "3.7.6"
  }
 },
 "nbformat": 4,
 "nbformat_minor": 4
}
