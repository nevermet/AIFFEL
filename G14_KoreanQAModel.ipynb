{
 "cells": [
  {
   "cell_type": "markdown",
   "metadata": {},
   "source": [
    "## G14. 한국어 QA 모델 만들기"
   ]
  },
  {
   "cell_type": "code",
   "execution_count": 1,
   "metadata": {},
   "outputs": [],
   "source": [
    "from tensorflow.keras.utils import get_file\n",
    "from tensorflow.keras.preprocessing.sequence import pad_sequences\n",
    "from tensorflow.keras.utils import to_categorical\n",
    "import numpy as np\n",
    "import tarfile\n",
    "from nltk import FreqDist\n",
    "from functools import reduce\n",
    "import os\n",
    "import re"
   ]
  },
  {
   "cell_type": "code",
   "execution_count": 7,
   "metadata": {},
   "outputs": [],
   "source": [
    "TRAIN_FILE = os.getenv('HOME') + '/aiffel/babi_memory_net/e-28-korean/qa1_single-supporting-fact_train_kor.txt'\n",
    "TEST_FILE = os.getenv('HOME') + '/aiffel/babi_memory_net/e-28-korean/qa1_single-supporting-fact_test_kor.txt'"
   ]
  },
  {
   "cell_type": "code",
   "execution_count": 8,
   "metadata": {},
   "outputs": [
    {
     "name": "stdout",
     "output_type": "stream",
     "text": [
      "1 필웅이는 화장실로 갔습니다.\n",
      "2 은경이는 복도로 이동했습니다.\n",
      "3 필웅이는 어디야? \t화장실\t1\n",
      "4 수종이는 복도로 복귀했습니다.\n",
      "5 경임이는 정원으로 갔습니다.\n",
      "6 수종이는 어디야? \t복도\t4\n",
      "7 은경이는 사무실로 갔습니다.\n",
      "8 경임이는 화장실로 뛰어갔습니다.\n",
      "9 수종이는 어디야? \t복도\t4\n",
      "10 필웅이는 복도로 갔습니다.\n"
     ]
    }
   ],
   "source": [
    "i = 0\n",
    "lines = open(TRAIN_FILE , \"rb\")\n",
    "for line in lines:\n",
    "    line = line.decode(\"utf-8\").strip()\n",
    "    i = i + 1\n",
    "    print(line)\n",
    "    if i == 10:\n",
    "        break"
   ]
  },
  {
   "cell_type": "code",
   "execution_count": 6,
   "metadata": {},
   "outputs": [],
   "source": [
    "def read_data(dir):\n",
    "    stories, questions, answers = [], [], [] # 각각 스토리, 질문, 답변을 저장할 예정\n",
    "    story_temp = [] # 현재 시점의 스토리 임시 저장\n",
    "    lines = open(dir, \"rb\")\n",
    "\n",
    "    for line in lines:\n",
    "        line = line.decode(\"utf-8\") # b' 제거\n",
    "        line = line.strip() # '\\n' 제거\n",
    "        idx, text = line.split(\" \", 1) # 맨 앞에 있는 id number 분리\n",
    "        # 여기까지는 모든 줄에 적용되는 전처리\n",
    "\n",
    "        if int(idx) == 1:\n",
    "            story_temp = []\n",
    "        \n",
    "        if \"\\t\" in text: # 현재 읽는 줄이 질문 (tab) 답변 (tab)인 경우\n",
    "            question, answer, _ = text.split(\"\\t\") # 질문과 답변을 각각 저장\n",
    "            stories.append([x for x in story_temp if x]) # 지금까지의 누적 스토리를 스토리에 저장\n",
    "            questions.append(question)\n",
    "            answers.append(answer)\n",
    "\n",
    "        else: # 현재 읽는 줄이 스토리인 경우\n",
    "            story_temp.append(text) # 임시 저장\n",
    "\n",
    "    lines.close()\n",
    "    return stories, questions, answers"
   ]
  },
  {
   "cell_type": "code",
   "execution_count": 9,
   "metadata": {},
   "outputs": [],
   "source": [
    "train_data = read_data(TRAIN_FILE)\n",
    "test_data = read_data(TEST_FILE)"
   ]
  },
  {
   "cell_type": "code",
   "execution_count": 10,
   "metadata": {},
   "outputs": [],
   "source": [
    "train_stories, train_questions, train_answers = read_data(TRAIN_FILE)\n",
    "test_stories, test_questions, test_answers = read_data(TEST_FILE)"
   ]
  },
  {
   "cell_type": "code",
   "execution_count": 11,
   "metadata": {},
   "outputs": [
    {
     "name": "stdout",
     "output_type": "stream",
     "text": [
      "10000\n",
      "10000\n",
      "10000\n",
      "1000\n",
      "1000\n",
      "1000\n"
     ]
    }
   ],
   "source": [
    "print(len(train_stories))\n",
    "print(len(train_questions))\n",
    "print(len(train_answers))\n",
    "print(len(test_stories))\n",
    "print(len(test_questions))\n",
    "print(len(test_answers))"
   ]
  },
  {
   "cell_type": "code",
   "execution_count": 12,
   "metadata": {},
   "outputs": [
    {
     "data": {
      "text/plain": [
       "['수종이는 화장실로 뛰어갔습니다.',\n",
       " '경임이는 사무실로 갔습니다.',\n",
       " '은경이는 부엌으로 이동했습니다.',\n",
       " '경임이는 화장실로 갔습니다.',\n",
       " '수종이는 복도로 갔습니다.',\n",
       " '필웅이는 부엌으로 가버렸습니다.',\n",
       " '수종이는 부엌으로 이동했습니다.',\n",
       " '수종이는 화장실로 가버렸습니다.']"
      ]
     },
     "execution_count": 12,
     "metadata": {},
     "output_type": "execute_result"
    }
   ],
   "source": [
    "train_stories[3878]"
   ]
  },
  {
   "cell_type": "code",
   "execution_count": 13,
   "metadata": {},
   "outputs": [
    {
     "data": {
      "text/plain": [
       "['필웅이는 어디야? ', '수종이는 어디야? ', '수종이는 어디야? ', '수종이는 어디야? ', '경임이는 어디야? ']"
      ]
     },
     "execution_count": 13,
     "metadata": {},
     "output_type": "execute_result"
    }
   ],
   "source": [
    "train_questions[:5]"
   ]
  },
  {
   "cell_type": "code",
   "execution_count": 14,
   "metadata": {},
   "outputs": [
    {
     "data": {
      "text/plain": [
       "['화장실', '복도', '복도', '사무실', '화장실']"
      ]
     },
     "execution_count": 14,
     "metadata": {},
     "output_type": "execute_result"
    }
   ],
   "source": [
    "train_answers[:5]"
   ]
  },
  {
   "cell_type": "markdown",
   "metadata": {},
   "source": [
    "### Step 1. 토크나이저 변경하기"
   ]
  },
  {
   "cell_type": "code",
   "execution_count": 16,
   "metadata": {},
   "outputs": [],
   "source": [
    "from ckonlpy.tag import Twitter\n",
    "\n",
    "twitter = Twitter()\n",
    "twitter.add_dictionary('수종이', 'Noun')\n",
    "twitter.add_dictionary('경임이', 'Noun')\n",
    "twitter.add_dictionary('은경이', 'Noun')\n",
    "twitter.add_dictionary('필웅이', 'Noun')\n"
   ]
  },
  {
   "cell_type": "code",
   "execution_count": 18,
   "metadata": {},
   "outputs": [],
   "source": [
    "def tokenize(sent):\n",
    "    return twitter.morphs(sent)"
   ]
  },
  {
   "cell_type": "code",
   "execution_count": 19,
   "metadata": {},
   "outputs": [],
   "source": [
    "def preprocess_data(train_data, test_data):\n",
    "    counter = FreqDist()\n",
    "    \n",
    "    # 두 문장의 story를 하나의 문장으로 통합하는 함수\n",
    "    flatten = lambda data: reduce(lambda x, y: x + y, data)\n",
    "\n",
    "    # 각 샘플의 길이를 저장하는 리스트\n",
    "    story_len = []\n",
    "    question_len = []\n",
    "    \n",
    "    for stories, questions, answers in [train_data, test_data]:\n",
    "        for story in stories:\n",
    "            stories = tokenize(flatten(story)) # 스토리의 문장들을 펼친 후 토큰화\n",
    "            story_len.append(len(stories)) # 각 story의 길이 저장\n",
    "            for word in stories: # 단어 집합에 단어 추가\n",
    "                counter[word] += 1\n",
    "        for question in questions:\n",
    "            question = tokenize(question)\n",
    "            question_len.append(len(question))\n",
    "            for word in question:\n",
    "                counter[word] += 1\n",
    "        for answer in answers:\n",
    "            answer = tokenize(answer)\n",
    "            for word in answer:\n",
    "                counter[word] += 1\n",
    "\n",
    "    # 단어장 생성\n",
    "    word2idx = {word : (idx + 1) for idx, (word, _) in enumerate(counter.most_common())}\n",
    "    idx2word = {idx : word for word, idx in word2idx.items()}\n",
    "\n",
    "    # 가장 긴 샘플의 길이\n",
    "    story_max_len = np.max(story_len)\n",
    "    question_max_len = np.max(question_len)\n",
    "\n",
    "    return word2idx, idx2word, story_max_len, question_max_len"
   ]
  },
  {
   "cell_type": "code",
   "execution_count": 20,
   "metadata": {},
   "outputs": [],
   "source": [
    "word2idx, idx2word, story_max_len, question_max_len = preprocess_data(train_data, test_data)"
   ]
  },
  {
   "cell_type": "code",
   "execution_count": 21,
   "metadata": {},
   "outputs": [
    {
     "name": "stdout",
     "output_type": "stream",
     "text": [
      "{'는': 1, '.': 2, '로': 3, '했습니다': 4, '으로': 5, '경임이': 6, '은경이': 7, '수종이': 8, '필웅이': 9, '이동': 10, '가버렸습니다': 11, '뛰어갔습니다': 12, '복귀': 13, '화장실': 14, '정원': 15, '복도': 16, '갔습니다': 17, '사무실': 18, '부엌': 19, '침실': 20, '어디': 21, '야': 22, '?': 23}\n"
     ]
    }
   ],
   "source": [
    "print(word2idx)"
   ]
  },
  {
   "cell_type": "code",
   "execution_count": 22,
   "metadata": {},
   "outputs": [],
   "source": [
    "vocab_size = len(word2idx) + 1"
   ]
  },
  {
   "cell_type": "code",
   "execution_count": 23,
   "metadata": {},
   "outputs": [
    {
     "name": "stdout",
     "output_type": "stream",
     "text": [
      "스토리의 최대 길이 : 70\n",
      "질문의 최대 길이 : 5\n"
     ]
    }
   ],
   "source": [
    "print('스토리의 최대 길이 :',story_max_len)\n",
    "print('질문의 최대 길이 :',question_max_len)"
   ]
  },
  {
   "cell_type": "code",
   "execution_count": 24,
   "metadata": {},
   "outputs": [],
   "source": [
    "def vectorize(data, word2idx, story_maxlen, question_maxlen):\n",
    "    Xs, Xq, Y = [], [], []\n",
    "    flatten = lambda data: reduce(lambda x, y: x + y, data)\n",
    "\n",
    "    stories, questions, answers = data\n",
    "    for story, question, answer in zip(stories, questions, answers):\n",
    "        xs = [word2idx[w] for w in tokenize(flatten(story))]\n",
    "        xq = [word2idx[w] for w in tokenize(question)]\n",
    "        Xs.append(xs)\n",
    "        Xq.append(xq)\n",
    "        Y.append(word2idx[answer])\n",
    "\n",
    "    # 스토리와 질문은 각각의 최대 길이로 패딩\n",
    "    # 정답은 원-핫 인코딩\n",
    "    return pad_sequences(Xs, maxlen=story_maxlen),\\\n",
    "           pad_sequences(Xq, maxlen=question_maxlen),\\\n",
    "           to_categorical(Y, num_classes=len(word2idx) + 1)"
   ]
  },
  {
   "cell_type": "code",
   "execution_count": 25,
   "metadata": {},
   "outputs": [],
   "source": [
    "Xstrain, Xqtrain, Ytrain = vectorize(train_data, word2idx, story_max_len, question_max_len)\n",
    "Xstest, Xqtest, Ytest = vectorize(test_data, word2idx, story_max_len, question_max_len)"
   ]
  },
  {
   "cell_type": "code",
   "execution_count": 26,
   "metadata": {},
   "outputs": [
    {
     "name": "stdout",
     "output_type": "stream",
     "text": [
      "(10000, 70) (10000, 5) (10000, 24) (1000, 70) (1000, 5) (1000, 24)\n"
     ]
    }
   ],
   "source": [
    "print(Xstrain.shape, Xqtrain.shape, Ytrain.shape, Xstest.shape, Xqtest.shape, Ytest.shape)"
   ]
  },
  {
   "cell_type": "code",
   "execution_count": 27,
   "metadata": {},
   "outputs": [],
   "source": [
    "from tensorflow.keras.models import Sequential, Model\n",
    "from tensorflow.keras.layers import Embedding\n",
    "from tensorflow.keras.layers import Permute, dot, add, concatenate\n",
    "from tensorflow.keras.layers import LSTM, Dense, Dropout, Input, Activation\n",
    "import matplotlib.pyplot as plt"
   ]
  },
  {
   "cell_type": "code",
   "execution_count": 28,
   "metadata": {},
   "outputs": [],
   "source": [
    "# 에포크 횟수\n",
    "train_epochs = 120\n",
    "# 배치 크기\n",
    "batch_size = 32\n",
    "# 임베딩 크기\n",
    "embed_size = 50\n",
    "# LSTM의 크기\n",
    "lstm_size = 64\n",
    "# 과적합 방지 기법인 드롭아웃 적용 비율\n",
    "dropout_rate = 0.30"
   ]
  },
  {
   "cell_type": "code",
   "execution_count": 29,
   "metadata": {},
   "outputs": [
    {
     "name": "stdout",
     "output_type": "stream",
     "text": [
      "Stories : Tensor(\"input_1:0\", shape=(None, 70), dtype=float32)\n",
      "Question: Tensor(\"input_2:0\", shape=(None, 5), dtype=float32)\n"
     ]
    }
   ],
   "source": [
    "input_sequence = Input((story_max_len,))\n",
    "question = Input((question_max_len,))\n",
    " \n",
    "print('Stories :', input_sequence)\n",
    "print('Question:', question)"
   ]
  },
  {
   "cell_type": "code",
   "execution_count": 30,
   "metadata": {},
   "outputs": [],
   "source": [
    "# 스토리를 위한 첫번째 임베딩. 그림에서의 Embedding A\n",
    "input_encoder_m = Sequential()\n",
    "input_encoder_m.add(Embedding(input_dim=vocab_size,\n",
    "                              output_dim=embed_size))\n",
    "input_encoder_m.add(Dropout(dropout_rate))\n",
    "# 결과 : (samples, story_max_len, embed_size) / 샘플의 수, 문장의 최대 길이, 임베딩 벡터의 차원\n",
    " \n",
    "# 스토리를 위한 두번째 임베딩. 그림에서의 Embedding C\n",
    "# 임베딩 벡터의 차원을 question_max_len(질문의 최대 길이)로 한다.\n",
    "input_encoder_c = Sequential()\n",
    "input_encoder_c.add(Embedding(input_dim=vocab_size,\n",
    "                              output_dim=question_max_len))\n",
    "input_encoder_c.add(Dropout(dropout_rate))\n",
    "# 결과 : (samples, story_max_len, question_max_len) / 샘플의 수, 문장의 최대 길이, 질문의 최대 길이(임베딩 벡터의 차원)"
   ]
  },
  {
   "cell_type": "code",
   "execution_count": 31,
   "metadata": {},
   "outputs": [],
   "source": [
    "# 질문을 위한 임베딩. 그림에서의 Embedding B\n",
    "question_encoder = Sequential()\n",
    "question_encoder.add(Embedding(input_dim=vocab_size,\n",
    "                               output_dim=embed_size,\n",
    "                               input_length=question_max_len))\n",
    "question_encoder.add(Dropout(dropout_rate))\n",
    "# 결과 : (samples, question_max_len, embed_size) / 샘플의 수, 질문의 최대 길이, 임베딩 벡터의 차원"
   ]
  },
  {
   "cell_type": "code",
   "execution_count": 32,
   "metadata": {},
   "outputs": [
    {
     "name": "stdout",
     "output_type": "stream",
     "text": [
      "Input encoded m Tensor(\"sequential/dropout/cond/Identity:0\", shape=(None, 70, 50), dtype=float32)\n",
      "Input encoded c Tensor(\"sequential_1/dropout_1/cond/Identity:0\", shape=(None, 70, 5), dtype=float32)\n",
      "Question encoded Tensor(\"sequential_2/dropout_2/cond/Identity:0\", shape=(None, 5, 50), dtype=float32)\n"
     ]
    }
   ],
   "source": [
    "# 실질적인 임베딩 과정\n",
    "input_encoded_m = input_encoder_m(input_sequence)\n",
    "input_encoded_c = input_encoder_c(input_sequence)\n",
    "question_encoded = question_encoder(question)\n",
    "\n",
    "print('Input encoded m', input_encoded_m)\n",
    "print('Input encoded c', input_encoded_c)\n",
    "print('Question encoded', question_encoded)"
   ]
  },
  {
   "cell_type": "code",
   "execution_count": 33,
   "metadata": {},
   "outputs": [
    {
     "name": "stdout",
     "output_type": "stream",
     "text": [
      "Match shape Tensor(\"activation/truediv:0\", shape=(None, 70, 5), dtype=float32)\n"
     ]
    }
   ],
   "source": [
    "# 스토리 단어들과 질문 단어들 간의 유사도를 구하는 과정\n",
    "# 유사도는 내적을 사용한다.\n",
    "match = dot([input_encoded_m, question_encoded], axes=-1, normalize=False)\n",
    "match = Activation('softmax')(match)\n",
    "print('Match shape', match)\n",
    "# 결과 : (samples, story_max_len, question_max_len) / 샘플의 수, 문장의 최대 길이, 질문의 최대 길이"
   ]
  },
  {
   "cell_type": "code",
   "execution_count": 34,
   "metadata": {},
   "outputs": [
    {
     "name": "stdout",
     "output_type": "stream",
     "text": [
      "Response shape Tensor(\"permute/transpose:0\", shape=(None, 5, 70), dtype=float32)\n"
     ]
    }
   ],
   "source": [
    "# 매칭 유사도 행렬과 질문에 대한 임베딩을 더한다.\n",
    "response = add([match, input_encoded_c])  # (samples, story_maxlen, question_max_len)\n",
    "response = Permute((2, 1))(response)  # (samples, question_max_len, story_maxlen)\n",
    "print('Response shape', response)"
   ]
  },
  {
   "cell_type": "code",
   "execution_count": 35,
   "metadata": {},
   "outputs": [
    {
     "name": "stdout",
     "output_type": "stream",
     "text": [
      "Answer shape Tensor(\"concatenate/concat:0\", shape=(None, 5, 120), dtype=float32)\n"
     ]
    }
   ],
   "source": [
    "# concatenate the response vector with the question vector sequence\n",
    "answer = concatenate([response, question_encoded])\n",
    "print('Answer shape', answer)\n",
    " \n",
    "answer = LSTM(lstm_size)(answer)  # Generate tensors of shape 32\n",
    "answer = Dropout(dropout_rate)(answer)\n",
    "answer = Dense(vocab_size)(answer)  # (samples, vocab_size)\n",
    "# we output a probability distribution over the vocabulary\n",
    "answer = Activation('softmax')(answer)"
   ]
  },
  {
   "cell_type": "code",
   "execution_count": 36,
   "metadata": {},
   "outputs": [
    {
     "name": "stdout",
     "output_type": "stream",
     "text": [
      "Epoch 1/120\n",
      "313/313 [==============================] - 1s 4ms/step - loss: 1.8909 - acc: 0.1701 - val_loss: 1.7973 - val_acc: 0.1490\n",
      "Epoch 2/120\n",
      "313/313 [==============================] - 1s 2ms/step - loss: 1.7131 - acc: 0.2598 - val_loss: 1.6094 - val_acc: 0.3420\n",
      "Epoch 3/120\n",
      "313/313 [==============================] - 1s 2ms/step - loss: 1.6209 - acc: 0.3268 - val_loss: 1.5719 - val_acc: 0.3590\n",
      "Epoch 4/120\n",
      "313/313 [==============================] - 1s 2ms/step - loss: 1.5520 - acc: 0.3818 - val_loss: 1.5034 - val_acc: 0.4170\n",
      "Epoch 5/120\n",
      "313/313 [==============================] - 1s 2ms/step - loss: 1.4655 - acc: 0.4451 - val_loss: 1.3857 - val_acc: 0.4940\n",
      "Epoch 6/120\n",
      "313/313 [==============================] - 1s 2ms/step - loss: 1.4123 - acc: 0.4666 - val_loss: 1.3673 - val_acc: 0.4970\n",
      "Epoch 7/120\n",
      "313/313 [==============================] - 1s 3ms/step - loss: 1.3659 - acc: 0.4966 - val_loss: 1.3135 - val_acc: 0.5160\n",
      "Epoch 8/120\n",
      "313/313 [==============================] - 1s 2ms/step - loss: 1.3230 - acc: 0.5051 - val_loss: 1.2792 - val_acc: 0.5110\n",
      "Epoch 9/120\n",
      "313/313 [==============================] - 1s 2ms/step - loss: 1.2991 - acc: 0.5072 - val_loss: 1.2945 - val_acc: 0.5070\n",
      "Epoch 10/120\n",
      "313/313 [==============================] - 1s 2ms/step - loss: 1.2802 - acc: 0.5167 - val_loss: 1.2590 - val_acc: 0.5170\n",
      "Epoch 11/120\n",
      "313/313 [==============================] - 1s 3ms/step - loss: 1.2516 - acc: 0.5180 - val_loss: 1.2542 - val_acc: 0.5110\n",
      "Epoch 12/120\n",
      "313/313 [==============================] - 1s 2ms/step - loss: 1.2493 - acc: 0.5151 - val_loss: 1.2338 - val_acc: 0.5200\n",
      "Epoch 13/120\n",
      "313/313 [==============================] - 1s 2ms/step - loss: 1.2208 - acc: 0.5236 - val_loss: 1.2322 - val_acc: 0.5240\n",
      "Epoch 14/120\n",
      "313/313 [==============================] - 1s 2ms/step - loss: 1.2147 - acc: 0.5181 - val_loss: 1.2409 - val_acc: 0.5280\n",
      "Epoch 15/120\n",
      "313/313 [==============================] - 1s 2ms/step - loss: 1.2064 - acc: 0.5253 - val_loss: 1.2143 - val_acc: 0.5150\n",
      "Epoch 16/120\n",
      "313/313 [==============================] - 1s 2ms/step - loss: 1.1896 - acc: 0.5250 - val_loss: 1.2154 - val_acc: 0.5210\n",
      "Epoch 17/120\n",
      "313/313 [==============================] - 1s 2ms/step - loss: 1.1834 - acc: 0.5244 - val_loss: 1.2185 - val_acc: 0.5210\n",
      "Epoch 18/120\n",
      "313/313 [==============================] - 1s 3ms/step - loss: 1.1572 - acc: 0.5312 - val_loss: 1.2152 - val_acc: 0.5110\n",
      "Epoch 19/120\n",
      "313/313 [==============================] - 1s 3ms/step - loss: 1.1576 - acc: 0.5333 - val_loss: 1.2102 - val_acc: 0.5220\n",
      "Epoch 20/120\n",
      "313/313 [==============================] - 1s 3ms/step - loss: 1.1468 - acc: 0.5363 - val_loss: 1.2112 - val_acc: 0.5270\n",
      "Epoch 21/120\n",
      "313/313 [==============================] - 1s 2ms/step - loss: 1.1273 - acc: 0.5383 - val_loss: 1.2075 - val_acc: 0.5220\n",
      "Epoch 22/120\n",
      "313/313 [==============================] - 1s 3ms/step - loss: 1.1139 - acc: 0.5470 - val_loss: 1.2045 - val_acc: 0.5150\n",
      "Epoch 23/120\n",
      "313/313 [==============================] - 1s 2ms/step - loss: 1.1099 - acc: 0.5480 - val_loss: 1.2194 - val_acc: 0.5080\n",
      "Epoch 24/120\n",
      "313/313 [==============================] - 1s 2ms/step - loss: 1.0993 - acc: 0.5464 - val_loss: 1.1984 - val_acc: 0.5210\n",
      "Epoch 25/120\n",
      "313/313 [==============================] - 1s 3ms/step - loss: 1.1041 - acc: 0.5462 - val_loss: 1.2001 - val_acc: 0.5060\n",
      "Epoch 26/120\n",
      "313/313 [==============================] - 1s 3ms/step - loss: 1.0887 - acc: 0.5454 - val_loss: 1.2087 - val_acc: 0.5080\n",
      "Epoch 27/120\n",
      "313/313 [==============================] - 1s 3ms/step - loss: 1.0776 - acc: 0.5524 - val_loss: 1.1982 - val_acc: 0.5110\n",
      "Epoch 28/120\n",
      "313/313 [==============================] - 1s 2ms/step - loss: 1.0711 - acc: 0.5567 - val_loss: 1.2123 - val_acc: 0.5180\n",
      "Epoch 29/120\n",
      "313/313 [==============================] - 1s 3ms/step - loss: 1.0583 - acc: 0.5609 - val_loss: 1.2147 - val_acc: 0.5070\n",
      "Epoch 30/120\n",
      "313/313 [==============================] - 1s 3ms/step - loss: 1.0490 - acc: 0.5638 - val_loss: 1.2204 - val_acc: 0.5030\n",
      "Epoch 31/120\n",
      "313/313 [==============================] - 1s 3ms/step - loss: 1.0432 - acc: 0.5706 - val_loss: 1.2227 - val_acc: 0.5080\n",
      "Epoch 32/120\n",
      "313/313 [==============================] - 1s 2ms/step - loss: 1.0291 - acc: 0.5741 - val_loss: 1.2178 - val_acc: 0.5050\n",
      "Epoch 33/120\n",
      "313/313 [==============================] - 1s 3ms/step - loss: 1.0239 - acc: 0.5774 - val_loss: 1.2294 - val_acc: 0.5040\n",
      "Epoch 34/120\n",
      "313/313 [==============================] - 1s 2ms/step - loss: 1.0145 - acc: 0.5784 - val_loss: 1.2255 - val_acc: 0.5120\n",
      "Epoch 35/120\n",
      "313/313 [==============================] - 1s 2ms/step - loss: 1.0014 - acc: 0.5827 - val_loss: 1.2220 - val_acc: 0.5150\n",
      "Epoch 36/120\n",
      "313/313 [==============================] - 1s 2ms/step - loss: 0.9871 - acc: 0.5852 - val_loss: 1.2298 - val_acc: 0.5010\n",
      "Epoch 37/120\n",
      "313/313 [==============================] - 1s 2ms/step - loss: 0.9921 - acc: 0.5845 - val_loss: 1.2278 - val_acc: 0.5130\n",
      "Epoch 38/120\n",
      "313/313 [==============================] - 1s 3ms/step - loss: 0.9738 - acc: 0.5868 - val_loss: 1.2503 - val_acc: 0.5020\n",
      "Epoch 39/120\n",
      "313/313 [==============================] - 1s 2ms/step - loss: 0.9692 - acc: 0.6012 - val_loss: 1.2603 - val_acc: 0.5040\n",
      "Epoch 40/120\n",
      "313/313 [==============================] - 1s 3ms/step - loss: 0.9634 - acc: 0.5943 - val_loss: 1.2441 - val_acc: 0.5140\n",
      "Epoch 41/120\n",
      "313/313 [==============================] - 1s 2ms/step - loss: 0.9570 - acc: 0.5986 - val_loss: 1.2517 - val_acc: 0.5070\n",
      "Epoch 42/120\n",
      "313/313 [==============================] - 1s 3ms/step - loss: 0.9311 - acc: 0.6119 - val_loss: 1.2549 - val_acc: 0.4930\n",
      "Epoch 43/120\n",
      "313/313 [==============================] - 1s 3ms/step - loss: 0.9315 - acc: 0.6134 - val_loss: 1.2337 - val_acc: 0.5090\n",
      "Epoch 44/120\n",
      "313/313 [==============================] - 1s 2ms/step - loss: 0.9195 - acc: 0.6208 - val_loss: 1.2438 - val_acc: 0.5100\n",
      "Epoch 45/120\n",
      "313/313 [==============================] - 1s 3ms/step - loss: 0.9068 - acc: 0.6331 - val_loss: 1.2408 - val_acc: 0.5310\n",
      "Epoch 46/120\n",
      "313/313 [==============================] - 1s 2ms/step - loss: 0.8699 - acc: 0.6517 - val_loss: 1.2120 - val_acc: 0.5370\n",
      "Epoch 47/120\n",
      "313/313 [==============================] - 1s 2ms/step - loss: 0.8390 - acc: 0.6666 - val_loss: 1.1872 - val_acc: 0.5640\n",
      "Epoch 48/120\n",
      "313/313 [==============================] - 1s 3ms/step - loss: 0.7498 - acc: 0.7165 - val_loss: 1.0206 - val_acc: 0.6650\n",
      "Epoch 49/120\n",
      "313/313 [==============================] - 1s 2ms/step - loss: 0.6511 - acc: 0.7650 - val_loss: 0.8606 - val_acc: 0.7100\n",
      "Epoch 50/120\n",
      "313/313 [==============================] - 1s 3ms/step - loss: 0.5666 - acc: 0.7980 - val_loss: 0.7591 - val_acc: 0.7410\n",
      "Epoch 51/120\n",
      "313/313 [==============================] - 1s 2ms/step - loss: 0.5223 - acc: 0.8143 - val_loss: 0.7151 - val_acc: 0.7510\n",
      "Epoch 52/120\n",
      "313/313 [==============================] - 1s 2ms/step - loss: 0.4751 - acc: 0.8297 - val_loss: 0.6506 - val_acc: 0.7710\n",
      "Epoch 53/120\n",
      "313/313 [==============================] - 1s 3ms/step - loss: 0.4428 - acc: 0.8405 - val_loss: 0.6206 - val_acc: 0.7900\n",
      "Epoch 54/120\n",
      "313/313 [==============================] - 1s 2ms/step - loss: 0.4012 - acc: 0.8575 - val_loss: 0.5670 - val_acc: 0.8090\n",
      "Epoch 55/120\n",
      "313/313 [==============================] - 1s 2ms/step - loss: 0.3647 - acc: 0.8723 - val_loss: 0.5158 - val_acc: 0.8180\n",
      "Epoch 56/120\n",
      "313/313 [==============================] - 1s 3ms/step - loss: 0.3424 - acc: 0.8768 - val_loss: 0.5035 - val_acc: 0.8190\n",
      "Epoch 57/120\n",
      "313/313 [==============================] - 1s 2ms/step - loss: 0.3164 - acc: 0.8864 - val_loss: 0.4943 - val_acc: 0.8280\n",
      "Epoch 58/120\n",
      "313/313 [==============================] - 1s 3ms/step - loss: 0.2984 - acc: 0.8955 - val_loss: 0.4794 - val_acc: 0.8380\n",
      "Epoch 59/120\n",
      "313/313 [==============================] - 1s 2ms/step - loss: 0.2872 - acc: 0.8968 - val_loss: 0.4856 - val_acc: 0.8430\n",
      "Epoch 60/120\n",
      "313/313 [==============================] - 1s 2ms/step - loss: 0.2653 - acc: 0.9037 - val_loss: 0.4645 - val_acc: 0.8380\n",
      "Epoch 61/120\n",
      "313/313 [==============================] - 1s 2ms/step - loss: 0.2531 - acc: 0.9078 - val_loss: 0.4641 - val_acc: 0.8490\n",
      "Epoch 62/120\n"
     ]
    },
    {
     "name": "stdout",
     "output_type": "stream",
     "text": [
      "313/313 [==============================] - 1s 2ms/step - loss: 0.2410 - acc: 0.9114 - val_loss: 0.4858 - val_acc: 0.8470\n",
      "Epoch 63/120\n",
      "313/313 [==============================] - 1s 2ms/step - loss: 0.2375 - acc: 0.9128 - val_loss: 0.4454 - val_acc: 0.8490\n",
      "Epoch 64/120\n",
      "313/313 [==============================] - 1s 2ms/step - loss: 0.2135 - acc: 0.9239 - val_loss: 0.4366 - val_acc: 0.8610\n",
      "Epoch 65/120\n",
      "313/313 [==============================] - 1s 2ms/step - loss: 0.2051 - acc: 0.9275 - val_loss: 0.4490 - val_acc: 0.8510\n",
      "Epoch 66/120\n",
      "313/313 [==============================] - 1s 3ms/step - loss: 0.1972 - acc: 0.9290 - val_loss: 0.4735 - val_acc: 0.8610\n",
      "Epoch 67/120\n",
      "313/313 [==============================] - 1s 2ms/step - loss: 0.1916 - acc: 0.9322 - val_loss: 0.4560 - val_acc: 0.8520\n",
      "Epoch 68/120\n",
      "313/313 [==============================] - 1s 3ms/step - loss: 0.1844 - acc: 0.9358 - val_loss: 0.4372 - val_acc: 0.8660\n",
      "Epoch 69/120\n",
      "313/313 [==============================] - 1s 3ms/step - loss: 0.1683 - acc: 0.9421 - val_loss: 0.4312 - val_acc: 0.8670\n",
      "Epoch 70/120\n",
      "313/313 [==============================] - 1s 2ms/step - loss: 0.1670 - acc: 0.9424 - val_loss: 0.4654 - val_acc: 0.8590\n",
      "Epoch 71/120\n",
      "313/313 [==============================] - 1s 2ms/step - loss: 0.1590 - acc: 0.9464 - val_loss: 0.4382 - val_acc: 0.8730\n",
      "Epoch 72/120\n",
      "313/313 [==============================] - 1s 2ms/step - loss: 0.1473 - acc: 0.9475 - val_loss: 0.4466 - val_acc: 0.8660\n",
      "Epoch 73/120\n",
      "313/313 [==============================] - 1s 2ms/step - loss: 0.1476 - acc: 0.9500 - val_loss: 0.4446 - val_acc: 0.8670\n",
      "Epoch 74/120\n",
      "313/313 [==============================] - 1s 3ms/step - loss: 0.1384 - acc: 0.9509 - val_loss: 0.4008 - val_acc: 0.8760\n",
      "Epoch 75/120\n",
      "313/313 [==============================] - 1s 2ms/step - loss: 0.1285 - acc: 0.9571 - val_loss: 0.4788 - val_acc: 0.8790\n",
      "Epoch 76/120\n",
      "313/313 [==============================] - 1s 2ms/step - loss: 0.1293 - acc: 0.9558 - val_loss: 0.4444 - val_acc: 0.8810\n",
      "Epoch 77/120\n",
      "313/313 [==============================] - 1s 2ms/step - loss: 0.1208 - acc: 0.9586 - val_loss: 0.3784 - val_acc: 0.8830\n",
      "Epoch 78/120\n",
      "313/313 [==============================] - 1s 2ms/step - loss: 0.1115 - acc: 0.9609 - val_loss: 0.4139 - val_acc: 0.8860\n",
      "Epoch 79/120\n",
      "313/313 [==============================] - 1s 2ms/step - loss: 0.1111 - acc: 0.9631 - val_loss: 0.3954 - val_acc: 0.8840\n",
      "Epoch 80/120\n",
      "313/313 [==============================] - 1s 2ms/step - loss: 0.1070 - acc: 0.9640 - val_loss: 0.3835 - val_acc: 0.8950\n",
      "Epoch 81/120\n",
      "313/313 [==============================] - 1s 2ms/step - loss: 0.1003 - acc: 0.9658 - val_loss: 0.3957 - val_acc: 0.8870\n",
      "Epoch 82/120\n",
      "313/313 [==============================] - 1s 3ms/step - loss: 0.0961 - acc: 0.9674 - val_loss: 0.4522 - val_acc: 0.8840\n",
      "Epoch 83/120\n",
      "313/313 [==============================] - 1s 3ms/step - loss: 0.1004 - acc: 0.9687 - val_loss: 0.3837 - val_acc: 0.8930\n",
      "Epoch 84/120\n",
      "313/313 [==============================] - 1s 2ms/step - loss: 0.0871 - acc: 0.9687 - val_loss: 0.3825 - val_acc: 0.8940\n",
      "Epoch 85/120\n",
      "313/313 [==============================] - 1s 2ms/step - loss: 0.0865 - acc: 0.9724 - val_loss: 0.3740 - val_acc: 0.8980\n",
      "Epoch 86/120\n",
      "313/313 [==============================] - 1s 2ms/step - loss: 0.0825 - acc: 0.9708 - val_loss: 0.4017 - val_acc: 0.8950\n",
      "Epoch 87/120\n",
      "313/313 [==============================] - 1s 3ms/step - loss: 0.0748 - acc: 0.9739 - val_loss: 0.3715 - val_acc: 0.9020\n",
      "Epoch 88/120\n",
      "313/313 [==============================] - 1s 2ms/step - loss: 0.0813 - acc: 0.9733 - val_loss: 0.3721 - val_acc: 0.8990\n",
      "Epoch 89/120\n",
      "313/313 [==============================] - 1s 2ms/step - loss: 0.0731 - acc: 0.9746 - val_loss: 0.3563 - val_acc: 0.9150\n",
      "Epoch 90/120\n",
      "313/313 [==============================] - 1s 2ms/step - loss: 0.0735 - acc: 0.9749 - val_loss: 0.4006 - val_acc: 0.8980\n",
      "Epoch 91/120\n",
      "313/313 [==============================] - 1s 3ms/step - loss: 0.0736 - acc: 0.9765 - val_loss: 0.4075 - val_acc: 0.9020\n",
      "Epoch 92/120\n",
      "313/313 [==============================] - 1s 3ms/step - loss: 0.0664 - acc: 0.9785 - val_loss: 0.3848 - val_acc: 0.9030\n",
      "Epoch 93/120\n",
      "313/313 [==============================] - 1s 2ms/step - loss: 0.0682 - acc: 0.9780 - val_loss: 0.3776 - val_acc: 0.9090\n",
      "Epoch 94/120\n",
      "313/313 [==============================] - 1s 2ms/step - loss: 0.0636 - acc: 0.9807 - val_loss: 0.3834 - val_acc: 0.9110\n",
      "Epoch 95/120\n",
      "313/313 [==============================] - 1s 3ms/step - loss: 0.0613 - acc: 0.9806 - val_loss: 0.3678 - val_acc: 0.9090\n",
      "Epoch 96/120\n",
      "313/313 [==============================] - 1s 3ms/step - loss: 0.0637 - acc: 0.9796 - val_loss: 0.3799 - val_acc: 0.9150\n",
      "Epoch 97/120\n",
      "313/313 [==============================] - 1s 3ms/step - loss: 0.0628 - acc: 0.9790 - val_loss: 0.3959 - val_acc: 0.9080\n",
      "Epoch 98/120\n",
      "313/313 [==============================] - 1s 3ms/step - loss: 0.0586 - acc: 0.9824 - val_loss: 0.4144 - val_acc: 0.9090\n",
      "Epoch 99/120\n",
      "313/313 [==============================] - 1s 3ms/step - loss: 0.0567 - acc: 0.9819 - val_loss: 0.4146 - val_acc: 0.9000\n",
      "Epoch 100/120\n",
      "313/313 [==============================] - 1s 3ms/step - loss: 0.0590 - acc: 0.9804 - val_loss: 0.4022 - val_acc: 0.9130\n",
      "Epoch 101/120\n",
      "313/313 [==============================] - 1s 2ms/step - loss: 0.0510 - acc: 0.9833 - val_loss: 0.3762 - val_acc: 0.9060\n",
      "Epoch 102/120\n",
      "313/313 [==============================] - 1s 2ms/step - loss: 0.0528 - acc: 0.9832 - val_loss: 0.3829 - val_acc: 0.9120\n",
      "Epoch 103/120\n",
      "313/313 [==============================] - 1s 2ms/step - loss: 0.0568 - acc: 0.9821 - val_loss: 0.3799 - val_acc: 0.9180\n",
      "Epoch 104/120\n",
      "313/313 [==============================] - 1s 2ms/step - loss: 0.0486 - acc: 0.9847 - val_loss: 0.4052 - val_acc: 0.9070\n",
      "Epoch 105/120\n",
      "313/313 [==============================] - 1s 2ms/step - loss: 0.0559 - acc: 0.9820 - val_loss: 0.3994 - val_acc: 0.9090\n",
      "Epoch 106/120\n",
      "313/313 [==============================] - 1s 2ms/step - loss: 0.0460 - acc: 0.9856 - val_loss: 0.4465 - val_acc: 0.9090\n",
      "Epoch 107/120\n",
      "313/313 [==============================] - 1s 2ms/step - loss: 0.0430 - acc: 0.9859 - val_loss: 0.3738 - val_acc: 0.9230\n",
      "Epoch 108/120\n",
      "313/313 [==============================] - 1s 3ms/step - loss: 0.0503 - acc: 0.9844 - val_loss: 0.3861 - val_acc: 0.9160\n",
      "Epoch 109/120\n",
      "313/313 [==============================] - 1s 3ms/step - loss: 0.0477 - acc: 0.9843 - val_loss: 0.4026 - val_acc: 0.9140\n",
      "Epoch 110/120\n",
      "313/313 [==============================] - 1s 2ms/step - loss: 0.0466 - acc: 0.9858 - val_loss: 0.3783 - val_acc: 0.9160\n",
      "Epoch 111/120\n",
      "313/313 [==============================] - 1s 2ms/step - loss: 0.0497 - acc: 0.9851 - val_loss: 0.3979 - val_acc: 0.9150\n",
      "Epoch 112/120\n",
      "313/313 [==============================] - 1s 2ms/step - loss: 0.0425 - acc: 0.9865 - val_loss: 0.3700 - val_acc: 0.9210\n",
      "Epoch 113/120\n",
      "313/313 [==============================] - 1s 2ms/step - loss: 0.0423 - acc: 0.9867 - val_loss: 0.4178 - val_acc: 0.9090\n",
      "Epoch 114/120\n",
      "313/313 [==============================] - 1s 2ms/step - loss: 0.0493 - acc: 0.9848 - val_loss: 0.4098 - val_acc: 0.9130\n",
      "Epoch 115/120\n",
      "313/313 [==============================] - 1s 2ms/step - loss: 0.0387 - acc: 0.9880 - val_loss: 0.3844 - val_acc: 0.9160\n",
      "Epoch 116/120\n",
      "313/313 [==============================] - 1s 3ms/step - loss: 0.0424 - acc: 0.9878 - val_loss: 0.4427 - val_acc: 0.9080\n",
      "Epoch 117/120\n",
      "313/313 [==============================] - 1s 2ms/step - loss: 0.0420 - acc: 0.9887 - val_loss: 0.3624 - val_acc: 0.9220\n",
      "Epoch 118/120\n",
      "313/313 [==============================] - 1s 2ms/step - loss: 0.0392 - acc: 0.9874 - val_loss: 0.4338 - val_acc: 0.9100\n",
      "Epoch 119/120\n",
      "313/313 [==============================] - 1s 2ms/step - loss: 0.0365 - acc: 0.9888 - val_loss: 0.4158 - val_acc: 0.9160\n",
      "Epoch 120/120\n",
      "313/313 [==============================] - 1s 2ms/step - loss: 0.0360 - acc: 0.9894 - val_loss: 0.3504 - val_acc: 0.9220\n"
     ]
    }
   ],
   "source": [
    "import os\n",
    "\n",
    "# 모델 컴파일\n",
    "model = Model([input_sequence, question], answer)\n",
    "model.compile(optimizer='rmsprop', loss='categorical_crossentropy',\n",
    "              metrics=['acc'])\n",
    " \n",
    "# 테스트 데이터를 검증 데이터로 사용하면서 모델 훈련 시작\n",
    "history = model.fit([Xstrain, Xqtrain],\n",
    "         Ytrain, batch_size, train_epochs,\n",
    "         validation_data=([Xstest, Xqtest], Ytest))\n",
    " \n",
    "# 훈련 후에는 모델 저장\n",
    "model_path = os.getenv('HOME')+'/aiffel/babi_memory_net/model_ko.h5'\n",
    "model.save(model_path)"
   ]
  },
  {
   "cell_type": "code",
   "execution_count": 37,
   "metadata": {},
   "outputs": [
    {
     "name": "stdout",
     "output_type": "stream",
     "text": [
      "32/32 [==============================] - 0s 1ms/step - loss: 0.3504 - acc: 0.9220\n",
      "\n",
      " 테스트 정확도: 0.9220\n"
     ]
    }
   ],
   "source": [
    "print(\"\\n 테스트 정확도: %.4f\" % (model.evaluate([Xstest, Xqtest], Ytest)[1]))"
   ]
  },
  {
   "cell_type": "code",
   "execution_count": 38,
   "metadata": {},
   "outputs": [
    {
     "data": {
      "image/png": "[encoded data removed]",
      "text/plain": [
       "<Figure size 432x288 with 2 Axes>"
      ]
     },
     "metadata": {
      "needs_background": "light"
     },
     "output_type": "display_data"
    }
   ],
   "source": [
    "# plot accuracy and loss plot\n",
    "plt.subplot(211)\n",
    "plt.title(\"Accuracy\")\n",
    "plt.plot(history.history[\"acc\"], color=\"g\", label=\"train\")\n",
    "plt.plot(history.history[\"val_acc\"], color=\"b\", label=\"validation\")\n",
    "plt.legend(loc=\"best\")\n",
    "\n",
    "plt.subplot(212)\n",
    "plt.title(\"Loss\")\n",
    "plt.plot(history.history[\"loss\"], color=\"g\", label=\"train\")\n",
    "plt.plot(history.history[\"val_loss\"], color=\"b\", label=\"validation\")\n",
    "plt.legend(loc=\"best\")\n",
    "\n",
    "plt.tight_layout()\n",
    "plt.show()\n",
    "\n",
    "# labels\n",
    "ytest = np.argmax(Ytest, axis=1)\n",
    "\n",
    "# get predictions\n",
    "Ytest_ = model.predict([Xstest, Xqtest])\n",
    "ytest_ = np.argmax(Ytest_, axis=1)"
   ]
  },
  {
   "cell_type": "code",
   "execution_count": 39,
   "metadata": {},
   "outputs": [
    {
     "name": "stdout",
     "output_type": "stream",
     "text": [
      "질문                |실제값  |예측값\n",
      "---------------------------------------\n",
      "은경이 는 어디 야 ?        : 복도      복도\n",
      "필웅이 는 어디 야 ?        : 화장실     화장실\n",
      "경임이 는 어디 야 ?        : 부엌      부엌\n",
      "경임이 는 어디 야 ?        : 복도      복도\n",
      "경임이 는 어디 야 ?        : 부엌      부엌\n",
      "경임이 는 어디 야 ?        : 복도      복도\n",
      "경임이 는 어디 야 ?        : 정원      정원\n",
      "수종이 는 어디 야 ?        : 복도      복도\n",
      "경임이 는 어디 야 ?        : 사무실     사무실\n",
      "수종이 는 어디 야 ?        : 사무실     복도\n",
      "필웅이 는 어디 야 ?        : 부엌      부엌\n",
      "필웅이 는 어디 야 ?        : 정원      정원\n",
      "수종이 는 어디 야 ?        : 사무실     사무실\n",
      "필웅이 는 어디 야 ?        : 침실      침실\n",
      "필웅이 는 어디 야 ?        : 침실      침실\n",
      "은경이 는 어디 야 ?        : 부엌      부엌\n",
      "은경이 는 어디 야 ?        : 정원      정원\n",
      "은경이 는 어디 야 ?        : 부엌      부엌\n",
      "수종이 는 어디 야 ?        : 사무실     사무실\n",
      "은경이 는 어디 야 ?        : 부엌      복도\n",
      "필웅이 는 어디 야 ?        : 복도      복도\n",
      "은경이 는 어디 야 ?        : 사무실     사무실\n",
      "은경이 는 어디 야 ?        : 사무실     사무실\n",
      "경임이 는 어디 야 ?        : 복도      복도\n",
      "수종이 는 어디 야 ?        : 침실      침실\n",
      "경임이 는 어디 야 ?        : 침실      침실\n",
      "필웅이 는 어디 야 ?        : 침실      침실\n",
      "수종이 는 어디 야 ?        : 부엌      부엌\n",
      "수종이 는 어디 야 ?        : 부엌      부엌\n",
      "수종이 는 어디 야 ?        : 부엌      화장실\n"
     ]
    }
   ],
   "source": [
    "NUM_DISPLAY = 30\n",
    "\n",
    "print(\"{:18}|{:5}|{}\".format(\"질문\", \"실제값\", \"예측값\"))\n",
    "print(39 * \"-\")\n",
    "\n",
    "for i in range(NUM_DISPLAY):\n",
    "    question = \" \".join([idx2word[x] for x in Xqtest[i].tolist()])\n",
    "    label = idx2word[ytest[i]]\n",
    "    prediction = idx2word[ytest_[i]]\n",
    "    print(\"{:20}: {:7} {}\".format(question, label, prediction))"
   ]
  },
  {
   "cell_type": "markdown",
   "metadata": {},
   "source": [
    "### Step 2. 형태소 분석 후 불용어 처리하기"
   ]
  },
  {
   "cell_type": "code",
   "execution_count": 40,
   "metadata": {},
   "outputs": [],
   "source": [
    "from ckonlpy.tag import Postprocessor\n",
    "\n",
    "stopwords = {'는',  '로', '으로', '야'}\n",
    "postprocessor = Postprocessor(\n",
    "    base_tagger = twitter,\n",
    "    stopwords = stopwords)"
   ]
  },
  {
   "cell_type": "code",
   "execution_count": 47,
   "metadata": {},
   "outputs": [],
   "source": [
    "def tokenize_stopwords(sentence):\n",
    "    sentence_list = []\n",
    "    sentence = postprocessor.pos(sentence)\n",
    "    \n",
    "    for a in range(len(sentence)):\n",
    "        s1 = sentence[a][0]\n",
    "        sentence_list.append(s1)\n",
    "        \n",
    "    return sentence_list"
   ]
  },
  {
   "cell_type": "code",
   "execution_count": 48,
   "metadata": {},
   "outputs": [],
   "source": [
    "def preprocess_data(train_data, test_data):\n",
    "    counter = FreqDist()\n",
    "    \n",
    "    # 두 문장의 story를 하나의 문장으로 통합하는 함수\n",
    "    flatten = lambda data: reduce(lambda x, y: x + y, data)\n",
    "\n",
    "    # 각 샘플의 길이를 저장하는 리스트\n",
    "    story_len = []\n",
    "    question_len = []\n",
    "    story_list = []\n",
    "    question_list = []\n",
    "    \n",
    "    for stories, questions, answers in [train_data, test_data]:\n",
    "        for story in stories:\n",
    "            first_stories = postprocessor.pos(flatten(story))\n",
    "            story_len.append(len(first_stories))\n",
    "            for a in range(len(first_stories)):\n",
    "                stories_1 = first_stories[a][0]\n",
    "                story_list.append(stories_1)\n",
    "        for word in story_list: # 단어 집합에 단어 추가\n",
    "            counter[word] += 1\n",
    "        for question in questions:\n",
    "            first_question = postprocessor.pos(flatten(question))\n",
    "            question_len.append(len(first_question))\n",
    "            for a in range(len(first_question)):\n",
    "                question_1 = first_question[a][0]\n",
    "                question_list.append(question_1)\n",
    "        for word in question_list:\n",
    "             counter[word] += 1\n",
    "        for answer in answers:\n",
    "            answer = tokenize_stopwords(answer)\n",
    "            for word in answer:\n",
    "                counter[word] += 1\n",
    "\n",
    "    # 단어장 생성\n",
    "    word2idx = {word : (idx + 1) for idx, (word, _) in enumerate(counter.most_common())}\n",
    "    idx2word = {idx : word for word, idx in word2idx.items()}\n",
    "\n",
    "    # 가장 긴 샘플의 길이\n",
    "    story_max_len = np.max(story_len)\n",
    "    question_max_len = np.max(question_len)\n",
    "\n",
    "    return word2idx, idx2word, story_max_len, question_max_len"
   ]
  },
  {
   "cell_type": "code",
   "execution_count": 49,
   "metadata": {},
   "outputs": [],
   "source": [
    "word2idx, idx2word, story_max_len, question_max_len = preprocess_data(train_data, test_data)"
   ]
  },
  {
   "cell_type": "code",
   "execution_count": 50,
   "metadata": {},
   "outputs": [],
   "source": [
    "vocab_size = len(word2idx) + 1"
   ]
  },
  {
   "cell_type": "code",
   "execution_count": 51,
   "metadata": {},
   "outputs": [
    {
     "name": "stdout",
     "output_type": "stream",
     "text": [
      "{'.': 1, '했습니다': 2, '경임이': 3, '은경이': 4, '수종이': 5, '필웅이': 6, '이동': 7, '뛰어갔습니다': 8, '가버렸습니다': 9, '복귀': 10, '갔습니다': 11, '화장실': 12, '복도': 13, '정원': 14, '사무실': 15, '부엌': 16, '침실': 17, '어디': 18, '?': 19}\n"
     ]
    }
   ],
   "source": [
    "print(word2idx)"
   ]
  },
  {
   "cell_type": "code",
   "execution_count": 52,
   "metadata": {},
   "outputs": [],
   "source": [
    "def vectorize(data, word2idx, story_maxlen, question_maxlen):\n",
    "    Xs, Xq, Y = [], [], []\n",
    "    flatten = lambda data: reduce(lambda x, y: x + y, data)\n",
    "\n",
    "    stories, questions, answers = data\n",
    "    for story, question, answer in zip(stories, questions, answers):\n",
    "        xs = [word2idx[w] for w in tokenize_stopwords(flatten(story))]\n",
    "        xq = [word2idx[w] for w in tokenize_stopwords(question)]\n",
    "        Xs.append(xs)\n",
    "        Xq.append(xq)\n",
    "        Y.append(word2idx[answer])\n",
    "\n",
    "    # 스토리와 질문은 각각의 최대 길이로 패딩\n",
    "    # 정답은 원-핫 인코딩\n",
    "    return pad_sequences(Xs, maxlen=story_maxlen),\\\n",
    "           pad_sequences(Xq, maxlen=question_maxlen),\\\n",
    "           to_categorical(Y, num_classes=len(word2idx) + 1)"
   ]
  },
  {
   "cell_type": "code",
   "execution_count": 53,
   "metadata": {},
   "outputs": [],
   "source": [
    "Xstrain, Xqtrain, Ytrain = vectorize(train_data, word2idx, story_max_len, question_max_len)\n",
    "Xstest, Xqtest, Ytest = vectorize(test_data, word2idx, story_max_len, question_max_len)"
   ]
  },
  {
   "cell_type": "code",
   "execution_count": 54,
   "metadata": {},
   "outputs": [
    {
     "name": "stdout",
     "output_type": "stream",
     "text": [
      "(10000, 50) (10000, 3) (10000, 20) (1000, 50) (1000, 3) (1000, 20)\n"
     ]
    }
   ],
   "source": [
    "print(Xstrain.shape, Xqtrain.shape, Ytrain.shape, Xstest.shape, Xqtest.shape, Ytest.shape)"
   ]
  },
  {
   "cell_type": "code",
   "execution_count": 55,
   "metadata": {},
   "outputs": [],
   "source": [
    "# 에포크 횟수\n",
    "train_epochs = 120\n",
    "# 배치 크기\n",
    "batch_size = 32\n",
    "# 임베딩 크기\n",
    "embed_size = 50\n",
    "# LSTM의 크기\n",
    "lstm_size = 64\n",
    "# 과적합 방지 기법인 드롭아웃 적용 비율\n",
    "dropout_rate = 0.30"
   ]
  },
  {
   "cell_type": "code",
   "execution_count": 56,
   "metadata": {},
   "outputs": [
    {
     "name": "stdout",
     "output_type": "stream",
     "text": [
      "Stories : Tensor(\"input_3:0\", shape=(None, 50), dtype=float32)\n",
      "Question: Tensor(\"input_4:0\", shape=(None, 3), dtype=float32)\n"
     ]
    }
   ],
   "source": [
    "input_sequence = Input((story_max_len,))\n",
    "question = Input((question_max_len,))\n",
    " \n",
    "print('Stories :', input_sequence)\n",
    "print('Question:', question)"
   ]
  },
  {
   "cell_type": "code",
   "execution_count": 57,
   "metadata": {},
   "outputs": [],
   "source": [
    "# 스토리를 위한 첫번째 임베딩. 그림에서의 Embedding A\n",
    "input_encoder_m = Sequential()\n",
    "input_encoder_m.add(Embedding(input_dim=vocab_size,\n",
    "                              output_dim=embed_size))\n",
    "input_encoder_m.add(Dropout(dropout_rate))\n",
    "# 결과 : (samples, story_max_len, embed_size) / 샘플의 수, 문장의 최대 길이, 임베딩 벡터의 차원\n",
    " \n",
    "# 스토리를 위한 두번째 임베딩. 그림에서의 Embedding C\n",
    "# 임베딩 벡터의 차원을 question_max_len(질문의 최대 길이)로 한다.\n",
    "input_encoder_c = Sequential()\n",
    "input_encoder_c.add(Embedding(input_dim=vocab_size,\n",
    "                              output_dim=question_max_len))\n",
    "input_encoder_c.add(Dropout(dropout_rate))\n",
    "# 결과 : (samples, story_max_len, question_max_len) / 샘플의 수, 문장의 최대 길이, 질문의 최대 길이(임베딩 벡터의 차원)"
   ]
  },
  {
   "cell_type": "code",
   "execution_count": 58,
   "metadata": {},
   "outputs": [],
   "source": [
    "# 질문을 위한 임베딩. 그림에서의 Embedding B\n",
    "question_encoder = Sequential()\n",
    "question_encoder.add(Embedding(input_dim=vocab_size,\n",
    "                               output_dim=embed_size,\n",
    "                               input_length=question_max_len))\n",
    "question_encoder.add(Dropout(dropout_rate))\n",
    "# 결과 : (samples, question_max_len, embed_size) / 샘플의 수, 질문의 최대 길이, 임베딩 벡터의 차원"
   ]
  },
  {
   "cell_type": "code",
   "execution_count": 59,
   "metadata": {},
   "outputs": [
    {
     "name": "stdout",
     "output_type": "stream",
     "text": [
      "Input encoded m Tensor(\"sequential_3/dropout_4/cond/Identity:0\", shape=(None, 50, 50), dtype=float32)\n",
      "Input encoded c Tensor(\"sequential_4/dropout_5/cond/Identity:0\", shape=(None, 50, 3), dtype=float32)\n",
      "Question encoded Tensor(\"sequential_5/dropout_6/cond/Identity:0\", shape=(None, 3, 50), dtype=float32)\n"
     ]
    }
   ],
   "source": [
    "# 실질적인 임베딩 과정\n",
    "input_encoded_m = input_encoder_m(input_sequence)\n",
    "input_encoded_c = input_encoder_c(input_sequence)\n",
    "question_encoded = question_encoder(question)\n",
    "\n",
    "print('Input encoded m', input_encoded_m)\n",
    "print('Input encoded c', input_encoded_c)\n",
    "print('Question encoded', question_encoded)"
   ]
  },
  {
   "cell_type": "code",
   "execution_count": 60,
   "metadata": {},
   "outputs": [
    {
     "name": "stdout",
     "output_type": "stream",
     "text": [
      "Match shape Tensor(\"activation_2/truediv:0\", shape=(None, 50, 3), dtype=float32)\n"
     ]
    }
   ],
   "source": [
    "# 스토리 단어들과 질문 단어들 간의 유사도를 구하는 과정\n",
    "# 유사도는 내적을 사용한다.\n",
    "match = dot([input_encoded_m, question_encoded], axes=-1, normalize=False)\n",
    "match = Activation('softmax')(match)\n",
    "print('Match shape', match)\n",
    "# 결과 : (samples, story_max_len, question_max_len) / 샘플의 수, 문장의 최대 길이, 질문의 최대 길이"
   ]
  },
  {
   "cell_type": "code",
   "execution_count": 61,
   "metadata": {},
   "outputs": [
    {
     "name": "stdout",
     "output_type": "stream",
     "text": [
      "Response shape Tensor(\"permute_1/transpose:0\", shape=(None, 3, 50), dtype=float32)\n"
     ]
    }
   ],
   "source": [
    "# 매칭 유사도 행렬과 질문에 대한 임베딩을 더한다.\n",
    "response = add([match, input_encoded_c])  # (samples, story_maxlen, question_max_len)\n",
    "response = Permute((2, 1))(response)  # (samples, question_max_len, story_maxlen)\n",
    "print('Response shape', response)"
   ]
  },
  {
   "cell_type": "code",
   "execution_count": 62,
   "metadata": {},
   "outputs": [
    {
     "name": "stdout",
     "output_type": "stream",
     "text": [
      "Answer shape Tensor(\"concatenate_1/concat:0\", shape=(None, 3, 100), dtype=float32)\n"
     ]
    }
   ],
   "source": [
    "# concatenate the response vector with the question vector sequence\n",
    "answer = concatenate([response, question_encoded])\n",
    "print('Answer shape', answer)\n",
    " \n",
    "answer = LSTM(lstm_size)(answer)  # Generate tensors of shape 32\n",
    "answer = Dropout(dropout_rate)(answer)\n",
    "answer = Dense(vocab_size)(answer)  # (samples, vocab_size)\n",
    "# we output a probability distribution over the vocabulary\n",
    "answer = Activation('softmax')(answer)"
   ]
  },
  {
   "cell_type": "code",
   "execution_count": 63,
   "metadata": {},
   "outputs": [
    {
     "name": "stdout",
     "output_type": "stream",
     "text": [
      "Epoch 1/120\n",
      "313/313 [==============================] - 2s 6ms/step - loss: 1.8768 - acc: 0.1718 - val_loss: 1.8064 - val_acc: 0.1680\n",
      "Epoch 2/120\n",
      "313/313 [==============================] - 1s 2ms/step - loss: 1.7778 - acc: 0.2046 - val_loss: 1.7042 - val_acc: 0.2430\n",
      "Epoch 3/120\n",
      "313/313 [==============================] - 1s 2ms/step - loss: 1.6465 - acc: 0.2945 - val_loss: 1.5617 - val_acc: 0.3670\n",
      "Epoch 4/120\n",
      "313/313 [==============================] - 1s 2ms/step - loss: 1.5541 - acc: 0.3528 - val_loss: 1.5007 - val_acc: 0.3810\n",
      "Epoch 5/120\n",
      "313/313 [==============================] - 1s 2ms/step - loss: 1.5197 - acc: 0.3709 - val_loss: 1.5008 - val_acc: 0.3780\n",
      "Epoch 6/120\n",
      "313/313 [==============================] - 1s 2ms/step - loss: 1.5123 - acc: 0.3761 - val_loss: 1.5012 - val_acc: 0.3860\n",
      "Epoch 7/120\n",
      "313/313 [==============================] - 1s 2ms/step - loss: 1.4924 - acc: 0.3933 - val_loss: 1.4753 - val_acc: 0.4130\n",
      "Epoch 8/120\n",
      "313/313 [==============================] - 1s 2ms/step - loss: 1.4514 - acc: 0.4224 - val_loss: 1.4149 - val_acc: 0.4640\n",
      "Epoch 9/120\n",
      "313/313 [==============================] - 1s 2ms/step - loss: 1.3935 - acc: 0.4511 - val_loss: 1.3707 - val_acc: 0.4670\n",
      "Epoch 10/120\n",
      "313/313 [==============================] - 1s 2ms/step - loss: 1.3712 - acc: 0.4560 - val_loss: 1.3543 - val_acc: 0.4690\n",
      "Epoch 11/120\n",
      "313/313 [==============================] - 1s 3ms/step - loss: 1.3528 - acc: 0.4665 - val_loss: 1.3209 - val_acc: 0.4830\n",
      "Epoch 12/120\n",
      "313/313 [==============================] - 1s 3ms/step - loss: 1.3330 - acc: 0.4818 - val_loss: 1.3276 - val_acc: 0.4980\n",
      "Epoch 13/120\n",
      "313/313 [==============================] - 1s 2ms/step - loss: 1.3159 - acc: 0.4888 - val_loss: 1.2974 - val_acc: 0.4880\n",
      "Epoch 14/120\n",
      "313/313 [==============================] - 1s 2ms/step - loss: 1.2999 - acc: 0.4997 - val_loss: 1.2826 - val_acc: 0.5200\n",
      "Epoch 15/120\n",
      "313/313 [==============================] - 1s 2ms/step - loss: 1.2825 - acc: 0.5069 - val_loss: 1.3036 - val_acc: 0.5070\n",
      "Epoch 16/120\n",
      "313/313 [==============================] - 1s 2ms/step - loss: 1.2760 - acc: 0.5058 - val_loss: 1.3415 - val_acc: 0.5160\n",
      "Epoch 17/120\n",
      "313/313 [==============================] - 1s 3ms/step - loss: 1.2697 - acc: 0.5070 - val_loss: 1.2725 - val_acc: 0.5020\n",
      "Epoch 18/120\n",
      "313/313 [==============================] - 1s 2ms/step - loss: 1.2537 - acc: 0.5148 - val_loss: 1.2672 - val_acc: 0.5180\n",
      "Epoch 19/120\n",
      "313/313 [==============================] - 1s 3ms/step - loss: 1.2453 - acc: 0.5103 - val_loss: 1.2574 - val_acc: 0.5150\n",
      "Epoch 20/120\n",
      "313/313 [==============================] - 1s 2ms/step - loss: 1.2427 - acc: 0.5151 - val_loss: 1.2520 - val_acc: 0.5260\n",
      "Epoch 21/120\n",
      "313/313 [==============================] - 1s 2ms/step - loss: 1.2286 - acc: 0.5145 - val_loss: 1.2328 - val_acc: 0.5210\n",
      "Epoch 22/120\n",
      "313/313 [==============================] - 1s 3ms/step - loss: 1.2267 - acc: 0.5172 - val_loss: 1.2364 - val_acc: 0.5110\n",
      "Epoch 23/120\n",
      "313/313 [==============================] - 1s 2ms/step - loss: 1.2163 - acc: 0.5211 - val_loss: 1.2229 - val_acc: 0.5200\n",
      "Epoch 24/120\n",
      "313/313 [==============================] - 1s 2ms/step - loss: 1.2132 - acc: 0.5181 - val_loss: 1.2477 - val_acc: 0.5180\n",
      "Epoch 25/120\n",
      "313/313 [==============================] - 1s 2ms/step - loss: 1.2003 - acc: 0.5160 - val_loss: 1.2436 - val_acc: 0.5060\n",
      "Epoch 26/120\n",
      "313/313 [==============================] - 1s 2ms/step - loss: 1.1982 - acc: 0.5197 - val_loss: 1.2252 - val_acc: 0.5160\n",
      "Epoch 27/120\n",
      "313/313 [==============================] - 1s 2ms/step - loss: 1.1972 - acc: 0.5236 - val_loss: 1.2368 - val_acc: 0.5180\n",
      "Epoch 28/120\n",
      "313/313 [==============================] - 1s 2ms/step - loss: 1.1889 - acc: 0.5298 - val_loss: 1.2109 - val_acc: 0.5170\n",
      "Epoch 29/120\n",
      "313/313 [==============================] - 1s 2ms/step - loss: 1.1766 - acc: 0.5319 - val_loss: 1.2175 - val_acc: 0.5250\n",
      "Epoch 30/120\n",
      "313/313 [==============================] - 1s 2ms/step - loss: 1.1808 - acc: 0.5268 - val_loss: 1.2166 - val_acc: 0.5230\n",
      "Epoch 31/120\n",
      "313/313 [==============================] - 1s 2ms/step - loss: 1.1663 - acc: 0.5341 - val_loss: 1.2112 - val_acc: 0.5240\n",
      "Epoch 32/120\n",
      "313/313 [==============================] - 1s 2ms/step - loss: 1.1443 - acc: 0.5471 - val_loss: 1.1950 - val_acc: 0.5420\n",
      "Epoch 33/120\n",
      "313/313 [==============================] - 1s 2ms/step - loss: 1.1081 - acc: 0.5743 - val_loss: 1.0878 - val_acc: 0.6120\n",
      "Epoch 34/120\n",
      "313/313 [==============================] - 1s 2ms/step - loss: 1.0271 - acc: 0.6202 - val_loss: 0.9847 - val_acc: 0.6760\n",
      "Epoch 35/120\n",
      "313/313 [==============================] - 1s 2ms/step - loss: 0.8936 - acc: 0.6850 - val_loss: 0.7959 - val_acc: 0.7370\n",
      "Epoch 36/120\n",
      "313/313 [==============================] - 1s 2ms/step - loss: 0.7865 - acc: 0.7316 - val_loss: 0.6916 - val_acc: 0.7570\n",
      "Epoch 37/120\n",
      "313/313 [==============================] - 1s 2ms/step - loss: 0.7106 - acc: 0.7542 - val_loss: 0.6464 - val_acc: 0.7810\n",
      "Epoch 38/120\n",
      "313/313 [==============================] - 1s 2ms/step - loss: 0.6469 - acc: 0.7736 - val_loss: 0.6017 - val_acc: 0.7930\n",
      "Epoch 39/120\n",
      "313/313 [==============================] - 1s 2ms/step - loss: 0.5895 - acc: 0.7913 - val_loss: 0.5915 - val_acc: 0.7940\n",
      "Epoch 40/120\n",
      "313/313 [==============================] - 1s 2ms/step - loss: 0.5512 - acc: 0.8033 - val_loss: 0.5010 - val_acc: 0.8170\n",
      "Epoch 41/120\n",
      "313/313 [==============================] - 1s 2ms/step - loss: 0.5217 - acc: 0.8151 - val_loss: 0.4891 - val_acc: 0.8270\n",
      "Epoch 42/120\n",
      "313/313 [==============================] - 1s 3ms/step - loss: 0.5019 - acc: 0.8204 - val_loss: 0.4919 - val_acc: 0.8250\n",
      "Epoch 43/120\n",
      "313/313 [==============================] - 1s 2ms/step - loss: 0.4714 - acc: 0.8305 - val_loss: 0.4446 - val_acc: 0.8400\n",
      "Epoch 44/120\n",
      "313/313 [==============================] - 1s 2ms/step - loss: 0.4603 - acc: 0.8303 - val_loss: 0.4322 - val_acc: 0.8360\n",
      "Epoch 45/120\n",
      "313/313 [==============================] - 1s 2ms/step - loss: 0.4443 - acc: 0.8411 - val_loss: 0.4181 - val_acc: 0.8340\n",
      "Epoch 46/120\n",
      "313/313 [==============================] - 1s 2ms/step - loss: 0.4260 - acc: 0.8414 - val_loss: 0.4418 - val_acc: 0.8400\n",
      "Epoch 47/120\n",
      "313/313 [==============================] - 1s 2ms/step - loss: 0.4148 - acc: 0.8481 - val_loss: 0.3943 - val_acc: 0.8480\n",
      "Epoch 48/120\n",
      "313/313 [==============================] - 1s 2ms/step - loss: 0.4032 - acc: 0.8505 - val_loss: 0.4033 - val_acc: 0.8520\n",
      "Epoch 49/120\n",
      "313/313 [==============================] - 1s 3ms/step - loss: 0.3885 - acc: 0.8568 - val_loss: 0.4034 - val_acc: 0.8470\n",
      "Epoch 50/120\n",
      "313/313 [==============================] - 1s 2ms/step - loss: 0.3730 - acc: 0.8601 - val_loss: 0.3847 - val_acc: 0.8490\n",
      "Epoch 51/120\n",
      "313/313 [==============================] - 1s 3ms/step - loss: 0.3627 - acc: 0.8654 - val_loss: 0.3795 - val_acc: 0.8570\n",
      "Epoch 52/120\n",
      "313/313 [==============================] - 1s 2ms/step - loss: 0.3496 - acc: 0.8693 - val_loss: 0.3558 - val_acc: 0.8700\n",
      "Epoch 53/120\n",
      "313/313 [==============================] - 1s 2ms/step - loss: 0.3361 - acc: 0.8788 - val_loss: 0.3674 - val_acc: 0.8560\n",
      "Epoch 54/120\n",
      "313/313 [==============================] - 1s 2ms/step - loss: 0.3321 - acc: 0.8776 - val_loss: 0.3209 - val_acc: 0.8850\n",
      "Epoch 55/120\n",
      "313/313 [==============================] - 1s 2ms/step - loss: 0.3144 - acc: 0.8832 - val_loss: 0.3065 - val_acc: 0.8840\n",
      "Epoch 56/120\n",
      "313/313 [==============================] - 1s 2ms/step - loss: 0.2920 - acc: 0.8937 - val_loss: 0.3109 - val_acc: 0.8860\n",
      "Epoch 57/120\n",
      "313/313 [==============================] - 1s 2ms/step - loss: 0.2945 - acc: 0.8924 - val_loss: 0.2952 - val_acc: 0.8910\n",
      "Epoch 58/120\n",
      "313/313 [==============================] - 1s 3ms/step - loss: 0.2752 - acc: 0.8978 - val_loss: 0.2847 - val_acc: 0.9080\n",
      "Epoch 59/120\n",
      "313/313 [==============================] - 1s 3ms/step - loss: 0.2769 - acc: 0.9022 - val_loss: 0.2778 - val_acc: 0.9010\n",
      "Epoch 60/120\n",
      "313/313 [==============================] - 1s 3ms/step - loss: 0.2564 - acc: 0.9094 - val_loss: 0.2945 - val_acc: 0.9060\n",
      "Epoch 61/120\n",
      "313/313 [==============================] - 1s 2ms/step - loss: 0.2537 - acc: 0.9080 - val_loss: 0.2613 - val_acc: 0.9080\n",
      "Epoch 62/120\n"
     ]
    },
    {
     "name": "stdout",
     "output_type": "stream",
     "text": [
      "313/313 [==============================] - 1s 2ms/step - loss: 0.2483 - acc: 0.9132 - val_loss: 0.2713 - val_acc: 0.9090\n",
      "Epoch 63/120\n",
      "313/313 [==============================] - 1s 2ms/step - loss: 0.2398 - acc: 0.9133 - val_loss: 0.2692 - val_acc: 0.9100\n",
      "Epoch 64/120\n",
      "313/313 [==============================] - 1s 2ms/step - loss: 0.2395 - acc: 0.9118 - val_loss: 0.2692 - val_acc: 0.9080\n",
      "Epoch 65/120\n",
      "313/313 [==============================] - 1s 2ms/step - loss: 0.2299 - acc: 0.9165 - val_loss: 0.2781 - val_acc: 0.9080\n",
      "Epoch 66/120\n",
      "313/313 [==============================] - 1s 2ms/step - loss: 0.2256 - acc: 0.9205 - val_loss: 0.2429 - val_acc: 0.9220\n",
      "Epoch 67/120\n",
      "313/313 [==============================] - 1s 2ms/step - loss: 0.2157 - acc: 0.9202 - val_loss: 0.2354 - val_acc: 0.9190\n",
      "Epoch 68/120\n",
      "313/313 [==============================] - 1s 2ms/step - loss: 0.2046 - acc: 0.9263 - val_loss: 0.2356 - val_acc: 0.9150\n",
      "Epoch 69/120\n",
      "313/313 [==============================] - 1s 2ms/step - loss: 0.2009 - acc: 0.9287 - val_loss: 0.2534 - val_acc: 0.9130\n",
      "Epoch 70/120\n",
      "313/313 [==============================] - 1s 2ms/step - loss: 0.1948 - acc: 0.9318 - val_loss: 0.2279 - val_acc: 0.9190\n",
      "Epoch 71/120\n",
      "313/313 [==============================] - 1s 3ms/step - loss: 0.1880 - acc: 0.9329 - val_loss: 0.2232 - val_acc: 0.9220\n",
      "Epoch 72/120\n",
      "313/313 [==============================] - 1s 3ms/step - loss: 0.1845 - acc: 0.9346 - val_loss: 0.2687 - val_acc: 0.9180\n",
      "Epoch 73/120\n",
      "313/313 [==============================] - 1s 2ms/step - loss: 0.1744 - acc: 0.9399 - val_loss: 0.2143 - val_acc: 0.9330\n",
      "Epoch 74/120\n",
      "313/313 [==============================] - 1s 2ms/step - loss: 0.1849 - acc: 0.9343 - val_loss: 0.2199 - val_acc: 0.9190\n",
      "Epoch 75/120\n",
      "313/313 [==============================] - 1s 2ms/step - loss: 0.1791 - acc: 0.9356 - val_loss: 0.2001 - val_acc: 0.9360\n",
      "Epoch 76/120\n",
      "313/313 [==============================] - 1s 2ms/step - loss: 0.1660 - acc: 0.9421 - val_loss: 0.1958 - val_acc: 0.9290\n",
      "Epoch 77/120\n",
      "313/313 [==============================] - 1s 2ms/step - loss: 0.1580 - acc: 0.9451 - val_loss: 0.1992 - val_acc: 0.9310\n",
      "Epoch 78/120\n",
      "313/313 [==============================] - 1s 2ms/step - loss: 0.1627 - acc: 0.9434 - val_loss: 0.2080 - val_acc: 0.9310\n",
      "Epoch 79/120\n",
      "313/313 [==============================] - 1s 2ms/step - loss: 0.1595 - acc: 0.9404 - val_loss: 0.2298 - val_acc: 0.9180\n",
      "Epoch 80/120\n",
      "313/313 [==============================] - 1s 2ms/step - loss: 0.1450 - acc: 0.9464 - val_loss: 0.1799 - val_acc: 0.9390\n",
      "Epoch 81/120\n",
      "313/313 [==============================] - 1s 2ms/step - loss: 0.1556 - acc: 0.9455 - val_loss: 0.1693 - val_acc: 0.9400\n",
      "Epoch 82/120\n",
      "313/313 [==============================] - 1s 2ms/step - loss: 0.1430 - acc: 0.9487 - val_loss: 0.2179 - val_acc: 0.9210\n",
      "Epoch 83/120\n",
      "313/313 [==============================] - 1s 3ms/step - loss: 0.1420 - acc: 0.9495 - val_loss: 0.1659 - val_acc: 0.9450\n",
      "Epoch 84/120\n",
      "313/313 [==============================] - 1s 2ms/step - loss: 0.1388 - acc: 0.9538 - val_loss: 0.1812 - val_acc: 0.9430\n",
      "Epoch 85/120\n",
      "313/313 [==============================] - 1s 2ms/step - loss: 0.1422 - acc: 0.9509 - val_loss: 0.1768 - val_acc: 0.9470\n",
      "Epoch 86/120\n",
      "313/313 [==============================] - 1s 2ms/step - loss: 0.1295 - acc: 0.9540 - val_loss: 0.2052 - val_acc: 0.9350\n",
      "Epoch 87/120\n",
      "313/313 [==============================] - 1s 2ms/step - loss: 0.1300 - acc: 0.9562 - val_loss: 0.1670 - val_acc: 0.9450\n",
      "Epoch 88/120\n",
      "313/313 [==============================] - 1s 2ms/step - loss: 0.1227 - acc: 0.9560 - val_loss: 0.1674 - val_acc: 0.9460\n",
      "Epoch 89/120\n",
      "313/313 [==============================] - 1s 2ms/step - loss: 0.1274 - acc: 0.9567 - val_loss: 0.1815 - val_acc: 0.9390\n",
      "Epoch 90/120\n",
      "313/313 [==============================] - 1s 2ms/step - loss: 0.1190 - acc: 0.9595 - val_loss: 0.1791 - val_acc: 0.9380\n",
      "Epoch 91/120\n",
      "313/313 [==============================] - 1s 2ms/step - loss: 0.1260 - acc: 0.9585 - val_loss: 0.1729 - val_acc: 0.9360\n",
      "Epoch 92/120\n",
      "313/313 [==============================] - 1s 3ms/step - loss: 0.1250 - acc: 0.9582 - val_loss: 0.1900 - val_acc: 0.9400\n",
      "Epoch 93/120\n",
      "313/313 [==============================] - 1s 2ms/step - loss: 0.1124 - acc: 0.9619 - val_loss: 0.1850 - val_acc: 0.9320\n",
      "Epoch 94/120\n",
      "313/313 [==============================] - 1s 3ms/step - loss: 0.1184 - acc: 0.9594 - val_loss: 0.1937 - val_acc: 0.9410\n",
      "Epoch 95/120\n",
      "313/313 [==============================] - 1s 2ms/step - loss: 0.1094 - acc: 0.9613 - val_loss: 0.2004 - val_acc: 0.9410\n",
      "Epoch 96/120\n",
      "313/313 [==============================] - 1s 2ms/step - loss: 0.1190 - acc: 0.9616 - val_loss: 0.1592 - val_acc: 0.9450\n",
      "Epoch 97/120\n",
      "313/313 [==============================] - 1s 2ms/step - loss: 0.1090 - acc: 0.9625 - val_loss: 0.1787 - val_acc: 0.9490\n",
      "Epoch 98/120\n",
      "313/313 [==============================] - 1s 2ms/step - loss: 0.1005 - acc: 0.9655 - val_loss: 0.1613 - val_acc: 0.9460\n",
      "Epoch 99/120\n",
      "313/313 [==============================] - 1s 2ms/step - loss: 0.1007 - acc: 0.9666 - val_loss: 0.1660 - val_acc: 0.9480\n",
      "Epoch 100/120\n",
      "313/313 [==============================] - 1s 2ms/step - loss: 0.1025 - acc: 0.9640 - val_loss: 0.1625 - val_acc: 0.9530\n",
      "Epoch 101/120\n",
      "313/313 [==============================] - 1s 3ms/step - loss: 0.0963 - acc: 0.9674 - val_loss: 0.1571 - val_acc: 0.9490\n",
      "Epoch 102/120\n",
      "313/313 [==============================] - 1s 2ms/step - loss: 0.1045 - acc: 0.9669 - val_loss: 0.1600 - val_acc: 0.9480\n",
      "Epoch 103/120\n",
      "313/313 [==============================] - 1s 2ms/step - loss: 0.0951 - acc: 0.9678 - val_loss: 0.1702 - val_acc: 0.9520\n",
      "Epoch 104/120\n",
      "313/313 [==============================] - 1s 2ms/step - loss: 0.0911 - acc: 0.9678 - val_loss: 0.1588 - val_acc: 0.9510\n",
      "Epoch 105/120\n",
      "313/313 [==============================] - 1s 2ms/step - loss: 0.0945 - acc: 0.9679 - val_loss: 0.1742 - val_acc: 0.9530\n",
      "Epoch 106/120\n",
      "313/313 [==============================] - 1s 2ms/step - loss: 0.0955 - acc: 0.9662 - val_loss: 0.1804 - val_acc: 0.9430\n",
      "Epoch 107/120\n",
      "313/313 [==============================] - 1s 2ms/step - loss: 0.0949 - acc: 0.9662 - val_loss: 0.1541 - val_acc: 0.9520\n",
      "Epoch 108/120\n",
      "313/313 [==============================] - 1s 2ms/step - loss: 0.0946 - acc: 0.9664 - val_loss: 0.1692 - val_acc: 0.9470\n",
      "Epoch 109/120\n",
      "313/313 [==============================] - 1s 2ms/step - loss: 0.0905 - acc: 0.9682 - val_loss: 0.1832 - val_acc: 0.9430\n",
      "Epoch 110/120\n",
      "313/313 [==============================] - 1s 2ms/step - loss: 0.0888 - acc: 0.9714 - val_loss: 0.1640 - val_acc: 0.9480\n",
      "Epoch 111/120\n",
      "313/313 [==============================] - 1s 3ms/step - loss: 0.0819 - acc: 0.9716 - val_loss: 0.1555 - val_acc: 0.9540\n",
      "Epoch 112/120\n",
      "313/313 [==============================] - 1s 3ms/step - loss: 0.0853 - acc: 0.9692 - val_loss: 0.1618 - val_acc: 0.9510\n",
      "Epoch 113/120\n",
      "313/313 [==============================] - 1s 3ms/step - loss: 0.0820 - acc: 0.9736 - val_loss: 0.1691 - val_acc: 0.9480\n",
      "Epoch 114/120\n",
      "313/313 [==============================] - 1s 3ms/step - loss: 0.0803 - acc: 0.9728 - val_loss: 0.1733 - val_acc: 0.9500\n",
      "Epoch 115/120\n",
      "313/313 [==============================] - 1s 3ms/step - loss: 0.0765 - acc: 0.9738 - val_loss: 0.1527 - val_acc: 0.9470\n",
      "Epoch 116/120\n",
      "313/313 [==============================] - 1s 3ms/step - loss: 0.0821 - acc: 0.9743 - val_loss: 0.1849 - val_acc: 0.9450\n",
      "Epoch 117/120\n",
      "313/313 [==============================] - 1s 2ms/step - loss: 0.0763 - acc: 0.9738 - val_loss: 0.1729 - val_acc: 0.9440\n",
      "Epoch 118/120\n",
      "313/313 [==============================] - 1s 2ms/step - loss: 0.0850 - acc: 0.9706 - val_loss: 0.1598 - val_acc: 0.9520\n",
      "Epoch 119/120\n",
      "313/313 [==============================] - 1s 2ms/step - loss: 0.0781 - acc: 0.9733 - val_loss: 0.1563 - val_acc: 0.9520\n",
      "Epoch 120/120\n",
      "313/313 [==============================] - 1s 2ms/step - loss: 0.0779 - acc: 0.9724 - val_loss: 0.1374 - val_acc: 0.9600\n"
     ]
    }
   ],
   "source": [
    "# 모델 컴파일\n",
    "model = Model([input_sequence, question], answer)\n",
    "model.compile(optimizer='rmsprop', loss='categorical_crossentropy',\n",
    "              metrics=['acc'])\n",
    " \n",
    "# 테스트 데이터를 검증 데이터로 사용하면서 모델 훈련 시작\n",
    "history = model.fit([Xstrain, Xqtrain],\n",
    "         Ytrain, batch_size, train_epochs,\n",
    "         validation_data=([Xstest, Xqtest], Ytest))\n",
    " \n",
    "# 훈련 후에는 모델 저장\n",
    "model_path = os.getenv('HOME')+'/aiffel/babi_memory_net/model_ko_stopwords.h5'\n",
    "model.save(model_path)"
   ]
  },
  {
   "cell_type": "markdown",
   "metadata": {},
   "source": [
    "### Step 3. 한국어에서의 모델 정확도 확인해 보기"
   ]
  },
  {
   "cell_type": "code",
   "execution_count": 64,
   "metadata": {},
   "outputs": [
    {
     "name": "stdout",
     "output_type": "stream",
     "text": [
      "32/32 [==============================] - 0s 1ms/step - loss: 0.1374 - acc: 0.9600\n",
      "\n",
      " 테스트 정확도: 0.9600\n"
     ]
    }
   ],
   "source": [
    "print(\"\\n 테스트 정확도: %.4f\" % (model.evaluate([Xstest, Xqtest], Ytest)[1]))"
   ]
  },
  {
   "cell_type": "code",
   "execution_count": 65,
   "metadata": {},
   "outputs": [
    {
     "data": {
      "image/png": "[encoded data removed]",
      "text/plain": [
       "<Figure size 432x288 with 2 Axes>"
      ]
     },
     "metadata": {
      "needs_background": "light"
     },
     "output_type": "display_data"
    }
   ],
   "source": [
    "# plot accuracy and loss plot\n",
    "plt.subplot(211)\n",
    "plt.title(\"Accuracy\")\n",
    "plt.plot(history.history[\"acc\"], color=\"g\", label=\"train\")\n",
    "plt.plot(history.history[\"val_acc\"], color=\"b\", label=\"validation\")\n",
    "plt.legend(loc=\"best\")\n",
    "\n",
    "plt.subplot(212)\n",
    "plt.title(\"Loss\")\n",
    "plt.plot(history.history[\"loss\"], color=\"g\", label=\"train\")\n",
    "plt.plot(history.history[\"val_loss\"], color=\"b\", label=\"validation\")\n",
    "plt.legend(loc=\"best\")\n",
    "\n",
    "plt.tight_layout()\n",
    "plt.show()\n",
    "\n",
    "# labels\n",
    "ytest = np.argmax(Ytest, axis=1)\n",
    "\n",
    "# get predictions\n",
    "Ytest_ = model.predict([Xstest, Xqtest])\n",
    "ytest_ = np.argmax(Ytest_, axis=1)"
   ]
  },
  {
   "cell_type": "code",
   "execution_count": 66,
   "metadata": {},
   "outputs": [
    {
     "name": "stdout",
     "output_type": "stream",
     "text": [
      "질문                |실제값  |예측값\n",
      "---------------------------------------\n",
      "은경이 어디 ?            : 복도      복도\n",
      "필웅이 어디 ?            : 화장실     화장실\n",
      "경임이 어디 ?            : 부엌      부엌\n",
      "경임이 어디 ?            : 복도      복도\n",
      "경임이 어디 ?            : 부엌      부엌\n",
      "경임이 어디 ?            : 복도      복도\n",
      "경임이 어디 ?            : 정원      정원\n",
      "수종이 어디 ?            : 복도      복도\n",
      "경임이 어디 ?            : 사무실     사무실\n",
      "수종이 어디 ?            : 사무실     정원\n",
      "필웅이 어디 ?            : 부엌      부엌\n",
      "필웅이 어디 ?            : 정원      정원\n",
      "수종이 어디 ?            : 사무실     사무실\n",
      "필웅이 어디 ?            : 침실      침실\n",
      "필웅이 어디 ?            : 침실      침실\n",
      "은경이 어디 ?            : 부엌      부엌\n",
      "은경이 어디 ?            : 정원      정원\n",
      "은경이 어디 ?            : 부엌      부엌\n",
      "수종이 어디 ?            : 사무실     사무실\n",
      "은경이 어디 ?            : 부엌      화장실\n",
      "필웅이 어디 ?            : 복도      복도\n",
      "은경이 어디 ?            : 사무실     사무실\n",
      "은경이 어디 ?            : 사무실     사무실\n",
      "경임이 어디 ?            : 복도      복도\n",
      "수종이 어디 ?            : 침실      침실\n",
      "경임이 어디 ?            : 침실      침실\n",
      "필웅이 어디 ?            : 침실      침실\n",
      "수종이 어디 ?            : 부엌      부엌\n",
      "수종이 어디 ?            : 부엌      부엌\n",
      "수종이 어디 ?            : 부엌      부엌\n"
     ]
    }
   ],
   "source": [
    "NUM_DISPLAY = 30\n",
    "\n",
    "print(\"{:18}|{:5}|{}\".format(\"질문\", \"실제값\", \"예측값\"))\n",
    "print(39 * \"-\")\n",
    "\n",
    "for i in range(NUM_DISPLAY):\n",
    "    question = \" \".join([idx2word[x] for x in Xqtest[i].tolist()])\n",
    "    label = idx2word[ytest[i]]\n",
    "    prediction = idx2word[ytest_[i]]\n",
    "    print(\"{:20}: {:7} {}\".format(question, label, prediction))"
   ]
  },
  {
   "cell_type": "markdown",
   "metadata": {},
   "source": [
    "- 한국어 특성에 따른 토큰화, 임베딩을 거쳐 데이터셋을 적절히 구성함\n",
    "- validation loss가 안정적으로 수렴하는 것을 확인하고 이를 시각화 함\n",
    "- 추론 태스크의 정확도 96% 달성 (불용어 처리전 92.2%)"
   ]
  }
 ],
 "metadata": {
  "kernelspec": {
   "display_name": "aiffel",
   "language": "python",
   "name": "aiffel"
  },
  "language_info": {
   "codemirror_mode": {
    "name": "ipython",
    "version": 3
   },
   "file_extension": ".py",
   "mimetype": "text/x-python",
   "name": "python",
   "nbconvert_exporter": "python",
   "pygments_lexer": "ipython3",
   "version": "3.7.6"
  }
 },
 "nbformat": 4,
 "nbformat_minor": 4
}
