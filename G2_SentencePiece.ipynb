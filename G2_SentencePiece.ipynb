{
 "cells": [
  {
   "cell_type": "markdown",
   "metadata": {},
   "source": [
    "## NLG2. 프로젝트: SentencePiece 사용하기"
   ]
  },
  {
   "cell_type": "markdown",
   "metadata": {},
   "source": [
    "### Step1. SentencePiece 설치하기"
   ]
  },
  {
   "cell_type": "code",
   "execution_count": 1,
   "metadata": {},
   "outputs": [],
   "source": [
    "import pandas as pd\n",
    "import urllib.request\n",
    "%matplotlib inline\n",
    "import matplotlib.pyplot as plt\n",
    "import re\n",
    "from konlpy.tag import Okt\n",
    "from tensorflow import keras\n",
    "from tensorflow.keras.preprocessing.text import Tokenizer\n",
    "import numpy as np\n",
    "from tensorflow.keras.preprocessing.sequence import pad_sequences\n",
    "from collections import Counter\n",
    "\n",
    "import tensorflow as tf\n",
    "import sentencepiece as spm\n",
    "import os"
   ]
  },
  {
   "cell_type": "markdown",
   "metadata": {},
   "source": [
    "### Step2. SentencePiece 모델 학습"
   ]
  },
  {
   "cell_type": "code",
   "execution_count": 2,
   "metadata": {},
   "outputs": [],
   "source": [
    "path_to_zip = tf.keras.utils.get_file(\n",
    "    'korean_corpus.zip',\n",
    "    origin='https://github.com/jungyeul/korean-parallel-corpora/raw/master/korean-english-news-v1/korean-english-park.train.tar.gz',\n",
    "    extract=True)\n",
    "\n",
    "path_to_file = os.path.dirname(path_to_zip)+\"/korean-english-park.train.ko\"\n",
    "with open(path_to_file, \"r\") as f:\n",
    "    raw = f.read().splitlines()\n",
    "    \n",
    "min_len = 999\n",
    "max_len = 0\n",
    "sum_len = 0\n",
    "\n",
    "for sen in raw:\n",
    "    length = len(sen)\n",
    "    if min_len > length: min_len = length\n",
    "    if max_len < length: max_len = length\n",
    "    sum_len += length\n",
    "    \n",
    "cleaned_corpus = list(set(raw)) #중복제거\n",
    "filtered_corpus = [s for s in cleaned_corpus if (len(s) < max_len) & (len(s) >= min_len)]"
   ]
  },
  {
   "cell_type": "code",
   "execution_count": 3,
   "metadata": {},
   "outputs": [
    {
     "name": "stdout",
     "output_type": "stream",
     "text": [
      "-rw-r--r-- 1 aiffel aiffel 416099 10월 13 17:27 korean_spm.model\r\n",
      "-rw-r--r-- 1 aiffel aiffel 187188 10월 13 17:27 korean_spm.vocab\r\n"
     ]
    }
   ],
   "source": [
    "temp_file = os.getenv('HOME')+'/aiffel/sp_tokenizer/data/korean-english-park.train.ko.temp'\n",
    "\n",
    "vocab_size = 10000 #E9에서 10000개로 수행해서 일치시킴\n",
    "\n",
    "with open(temp_file, 'w') as f:\n",
    "    for row in filtered_corpus:\n",
    "        f.write(str(row)+'\\n')\n",
    "\n",
    "spm.SentencePieceTrainer.Train(\n",
    "    '--input={} --model_prefix=korean_spm --vocab_size={}'.format(temp_file, vocab_size)\n",
    ")\n",
    "\n",
    "!ls -l korean_spm*"
   ]
  },
  {
   "cell_type": "code",
   "execution_count": 4,
   "metadata": {},
   "outputs": [
    {
     "data": {
      "text/plain": [
       "True"
      ]
     },
     "execution_count": 4,
     "metadata": {},
     "output_type": "execute_result"
    }
   ],
   "source": [
    "s = spm.SentencePieceProcessor()\n",
    "s.Load('korean_spm.model')"
   ]
  },
  {
   "cell_type": "markdown",
   "metadata": {},
   "source": [
    "### Step 3. Tokenizer함수 작성"
   ]
  },
  {
   "cell_type": "code",
   "execution_count": 5,
   "metadata": {},
   "outputs": [],
   "source": [
    "def sp_tokenize(s, corpus):\n",
    "    \n",
    "    tensor = []\n",
    "    \n",
    "    for sen in corpus:\n",
    "        tensor.append(s.EncodeAsIds(sen))\n",
    "        \n",
    "    with open(\"./korean_spm.vocab\", 'r') as f:\n",
    "        vocab = f.readlines()\n",
    "        \n",
    "    word_index = {}\n",
    "    index_word = {}\n",
    "    \n",
    "    for idx, line in enumerate(vocab):\n",
    "        word = line.split(\"\\t\")[0]\n",
    "        \n",
    "        word_index.update({idx:word})\n",
    "        index_word.update({word:idx})\n",
    "        \n",
    "    #E9에서 pre, maxlen=60으로 패딩하였으므로 맞춤\n",
    "    tensor = tf.keras.preprocessing.sequence.pad_sequences(tensor, padding = 'pre', maxlen=60)\n",
    "    \n",
    "    return tensor, word_index, index_word"
   ]
  },
  {
   "cell_type": "markdown",
   "metadata": {},
   "source": [
    "### Step 4. 네이버 영화리뷰 감정분석 문제에 SentencePiece 적용해 보기"
   ]
  },
  {
   "cell_type": "code",
   "execution_count": 6,
   "metadata": {
    "scrolled": true
   },
   "outputs": [
    {
     "data": {
      "text/html": [
       "<div>\n",
       "<style scoped>\n",
       "    .dataframe tbody tr th:only-of-type {\n",
       "        vertical-align: middle;\n",
       "    }\n",
       "\n",
       "    .dataframe tbody tr th {\n",
       "        vertical-align: top;\n",
       "    }\n",
       "\n",
       "    .dataframe thead th {\n",
       "        text-align: right;\n",
       "    }\n",
       "</style>\n",
       "<table border=\"1\" class=\"dataframe\">\n",
       "  <thead>\n",
       "    <tr style=\"text-align: right;\">\n",
       "      <th></th>\n",
       "      <th>id</th>\n",
       "      <th>document</th>\n",
       "      <th>label</th>\n",
       "    </tr>\n",
       "  </thead>\n",
       "  <tbody>\n",
       "    <tr>\n",
       "      <th>0</th>\n",
       "      <td>9976970</td>\n",
       "      <td>아 더빙.. 진짜 짜증나네요 목소리</td>\n",
       "      <td>0</td>\n",
       "    </tr>\n",
       "    <tr>\n",
       "      <th>1</th>\n",
       "      <td>3819312</td>\n",
       "      <td>흠...포스터보고 초딩영화줄....오버연기조차 가볍지 않구나</td>\n",
       "      <td>1</td>\n",
       "    </tr>\n",
       "    <tr>\n",
       "      <th>2</th>\n",
       "      <td>10265843</td>\n",
       "      <td>너무재밓었다그래서보는것을추천한다</td>\n",
       "      <td>0</td>\n",
       "    </tr>\n",
       "    <tr>\n",
       "      <th>3</th>\n",
       "      <td>9045019</td>\n",
       "      <td>교도소 이야기구먼 ..솔직히 재미는 없다..평점 조정</td>\n",
       "      <td>0</td>\n",
       "    </tr>\n",
       "    <tr>\n",
       "      <th>4</th>\n",
       "      <td>6483659</td>\n",
       "      <td>사이몬페그의 익살스런 연기가 돋보였던 영화!스파이더맨에서 늙어보이기만 했던 커스틴 ...</td>\n",
       "      <td>1</td>\n",
       "    </tr>\n",
       "  </tbody>\n",
       "</table>\n",
       "</div>"
      ],
      "text/plain": [
       "         id                                           document  label\n",
       "0   9976970                                아 더빙.. 진짜 짜증나네요 목소리      0\n",
       "1   3819312                  흠...포스터보고 초딩영화줄....오버연기조차 가볍지 않구나      1\n",
       "2  10265843                                  너무재밓었다그래서보는것을추천한다      0\n",
       "3   9045019                      교도소 이야기구먼 ..솔직히 재미는 없다..평점 조정      0\n",
       "4   6483659  사이몬페그의 익살스런 연기가 돋보였던 영화!스파이더맨에서 늙어보이기만 했던 커스틴 ...      1"
      ]
     },
     "execution_count": 6,
     "metadata": {},
     "output_type": "execute_result"
    }
   ],
   "source": [
    "#데이타 읽어오기\n",
    "train_data = pd.read_table('~/aiffel/sp_tokenizer/ratings_train.txt')\n",
    "test_data = pd.read_table('~/aiffel/sp_tokenizer/ratings_test.txt')\n",
    "\n",
    "train_data.head()"
   ]
  },
  {
   "cell_type": "code",
   "execution_count": 7,
   "metadata": {
    "scrolled": true
   },
   "outputs": [
    {
     "data": {
      "text/html": [
       "<div>\n",
       "<style scoped>\n",
       "    .dataframe tbody tr th:only-of-type {\n",
       "        vertical-align: middle;\n",
       "    }\n",
       "\n",
       "    .dataframe tbody tr th {\n",
       "        vertical-align: top;\n",
       "    }\n",
       "\n",
       "    .dataframe thead th {\n",
       "        text-align: right;\n",
       "    }\n",
       "</style>\n",
       "<table border=\"1\" class=\"dataframe\">\n",
       "  <thead>\n",
       "    <tr style=\"text-align: right;\">\n",
       "      <th></th>\n",
       "      <th>id</th>\n",
       "      <th>document</th>\n",
       "      <th>label</th>\n",
       "    </tr>\n",
       "  </thead>\n",
       "  <tbody>\n",
       "    <tr>\n",
       "      <th>0</th>\n",
       "      <td>6270596</td>\n",
       "      <td>굳 ㅋ</td>\n",
       "      <td>1</td>\n",
       "    </tr>\n",
       "    <tr>\n",
       "      <th>1</th>\n",
       "      <td>9274899</td>\n",
       "      <td>GDNTOPCLASSINTHECLUB</td>\n",
       "      <td>0</td>\n",
       "    </tr>\n",
       "    <tr>\n",
       "      <th>2</th>\n",
       "      <td>8544678</td>\n",
       "      <td>뭐야 이 평점들은.... 나쁘진 않지만 10점 짜리는 더더욱 아니잖아</td>\n",
       "      <td>0</td>\n",
       "    </tr>\n",
       "    <tr>\n",
       "      <th>3</th>\n",
       "      <td>6825595</td>\n",
       "      <td>지루하지는 않은데 완전 막장임... 돈주고 보기에는....</td>\n",
       "      <td>0</td>\n",
       "    </tr>\n",
       "    <tr>\n",
       "      <th>4</th>\n",
       "      <td>6723715</td>\n",
       "      <td>3D만 아니었어도 별 다섯 개 줬을텐데.. 왜 3D로 나와서 제 심기를 불편하게 하죠??</td>\n",
       "      <td>0</td>\n",
       "    </tr>\n",
       "  </tbody>\n",
       "</table>\n",
       "</div>"
      ],
      "text/plain": [
       "        id                                           document  label\n",
       "0  6270596                                                굳 ㅋ      1\n",
       "1  9274899                               GDNTOPCLASSINTHECLUB      0\n",
       "2  8544678             뭐야 이 평점들은.... 나쁘진 않지만 10점 짜리는 더더욱 아니잖아      0\n",
       "3  6825595                   지루하지는 않은데 완전 막장임... 돈주고 보기에는....      0\n",
       "4  6723715  3D만 아니었어도 별 다섯 개 줬을텐데.. 왜 3D로 나와서 제 심기를 불편하게 하죠??      0"
      ]
     },
     "execution_count": 7,
     "metadata": {},
     "output_type": "execute_result"
    }
   ],
   "source": [
    "test_data.head()"
   ]
  },
  {
   "cell_type": "code",
   "execution_count": 8,
   "metadata": {},
   "outputs": [
    {
     "name": "stdout",
     "output_type": "stream",
     "text": [
      "False\n"
     ]
    }
   ],
   "source": [
    "train_data = train_data.dropna(how = 'any') # Null 값이 존재하는 행 제거\n",
    "print(train_data.isnull().values.any()) # Null 값이 존재하는지 확인"
   ]
  },
  {
   "cell_type": "code",
   "execution_count": 9,
   "metadata": {},
   "outputs": [
    {
     "name": "stdout",
     "output_type": "stream",
     "text": [
      "False\n"
     ]
    }
   ],
   "source": [
    "test_data = test_data.dropna(how = 'any') # Null 값이 존재하는 행 제거\n",
    "print(test_data.isnull().values.any()) # Null 값이 존재하는지 확인"
   ]
  },
  {
   "cell_type": "code",
   "execution_count": 10,
   "metadata": {
    "scrolled": true
   },
   "outputs": [],
   "source": [
    "#중복제거\n",
    "train_data.drop_duplicates(subset=['document'], inplace=True)\n",
    "test_data.drop_duplicates(subset=['document'], inplace=True)"
   ]
  },
  {
   "cell_type": "code",
   "execution_count": 11,
   "metadata": {},
   "outputs": [],
   "source": [
    "#tokenize 수행\n",
    "X_train, word_index_train, index_word_train = sp_tokenize(s, train_data.document.values)\n",
    "X_test, word_index_test, index_word_test = sp_tokenize(s, test_data.document.values)\n",
    "\n",
    "y_train = np.array(list(train_data['label']))\n",
    "y_test = np.array(list(test_data['label']))"
   ]
  },
  {
   "cell_type": "code",
   "execution_count": 12,
   "metadata": {},
   "outputs": [
    {
     "name": "stdout",
     "output_type": "stream",
     "text": [
      "Model: \"sequential\"\n",
      "_________________________________________________________________\n",
      "Layer (type)                 Output Shape              Param #   \n",
      "=================================================================\n",
      "embedding (Embedding)        (None, None, 100)         1000000   \n",
      "_________________________________________________________________\n",
      "lstm (LSTM)                  (None, 128)               117248    \n",
      "_________________________________________________________________\n",
      "dense (Dense)                (None, 8)                 1032      \n",
      "_________________________________________________________________\n",
      "dense_1 (Dense)              (None, 1)                 9         \n",
      "=================================================================\n",
      "Total params: 1,118,289\n",
      "Trainable params: 1,118,289\n",
      "Non-trainable params: 0\n",
      "_________________________________________________________________\n"
     ]
    }
   ],
   "source": [
    "vocab_size = 10000  # 어휘 사전의 크기입니다(10개의 단어)\n",
    "word_vector_dim = 100  \n",
    "\n",
    "from tensorflow.keras.initializers import Constant\n",
    "\n",
    "model = keras.Sequential()\n",
    "model.add(keras.layers.Embedding(vocab_size, word_vector_dim, input_shape=(None,)))\n",
    "model.add(keras.layers.LSTM(128))   # 가장 널리 쓰이는 RNN인 LSTM 레이어를 사용하였습니다. 이때 LSTM state 벡터의 차원수는 8로 하였습니다. (변경가능)\n",
    "model.add(keras.layers.Dense(8, activation='relu'))\n",
    "model.add(keras.layers.Dense(1, activation='sigmoid'))  # 최종 출력은 긍정/부정을 나타내는 1dim 입니다.\n",
    "\n",
    "model.summary()"
   ]
  },
  {
   "cell_type": "code",
   "execution_count": 13,
   "metadata": {},
   "outputs": [],
   "source": [
    "# validation set 10000건 분리\n",
    "x_val = X_train[:10000]   \n",
    "y_val = y_train[:10000]\n",
    "\n",
    "# validation set을 제외한 나머지\n",
    "partial_x_train = X_train[10000:]  \n",
    "partial_y_train = y_train[10000:]"
   ]
  },
  {
   "cell_type": "code",
   "execution_count": 14,
   "metadata": {},
   "outputs": [
    {
     "name": "stdout",
     "output_type": "stream",
     "text": [
      "Epoch 1/20\n",
      "1064/1064 [==============================] - 11s 11ms/step - loss: 0.4253 - accuracy: 0.8051 - val_loss: 0.3676 - val_accuracy: 0.8308\n",
      "Epoch 2/20\n",
      "1064/1064 [==============================] - 11s 10ms/step - loss: 0.3432 - accuracy: 0.8495 - val_loss: 0.3421 - val_accuracy: 0.8457\n",
      "Epoch 3/20\n",
      "1064/1064 [==============================] - 11s 10ms/step - loss: 0.3060 - accuracy: 0.8685 - val_loss: 0.3403 - val_accuracy: 0.8480\n",
      "Epoch 4/20\n",
      "1064/1064 [==============================] - 11s 10ms/step - loss: 0.2770 - accuracy: 0.8835 - val_loss: 0.3392 - val_accuracy: 0.8492\n",
      "Epoch 5/20\n",
      "1064/1064 [==============================] - 11s 10ms/step - loss: 0.2513 - accuracy: 0.8961 - val_loss: 0.3524 - val_accuracy: 0.8508\n",
      "Epoch 6/20\n",
      "1064/1064 [==============================] - 11s 10ms/step - loss: 0.2272 - accuracy: 0.9079 - val_loss: 0.3731 - val_accuracy: 0.8485\n",
      "Epoch 7/20\n",
      "1064/1064 [==============================] - 10s 10ms/step - loss: 0.2040 - accuracy: 0.9182 - val_loss: 0.4092 - val_accuracy: 0.8430\n",
      "Epoch 8/20\n",
      "1064/1064 [==============================] - 10s 10ms/step - loss: 0.1829 - accuracy: 0.9274 - val_loss: 0.4168 - val_accuracy: 0.8454\n",
      "Epoch 9/20\n",
      "1064/1064 [==============================] - 11s 10ms/step - loss: 0.1623 - accuracy: 0.9362 - val_loss: 0.4537 - val_accuracy: 0.8413\n",
      "Epoch 10/20\n",
      "1064/1064 [==============================] - 11s 10ms/step - loss: 0.1444 - accuracy: 0.9437 - val_loss: 0.4940 - val_accuracy: 0.8429\n",
      "Epoch 11/20\n",
      "1064/1064 [==============================] - 11s 10ms/step - loss: 0.1285 - accuracy: 0.9512 - val_loss: 0.5780 - val_accuracy: 0.8374\n",
      "Epoch 12/20\n",
      "1064/1064 [==============================] - 11s 10ms/step - loss: 0.1151 - accuracy: 0.9562 - val_loss: 0.5915 - val_accuracy: 0.8396\n",
      "Epoch 13/20\n",
      "1064/1064 [==============================] - 11s 10ms/step - loss: 0.0997 - accuracy: 0.9625 - val_loss: 0.6431 - val_accuracy: 0.8333\n",
      "Epoch 14/20\n",
      "1064/1064 [==============================] - 11s 10ms/step - loss: 0.0905 - accuracy: 0.9665 - val_loss: 0.6902 - val_accuracy: 0.8366\n",
      "Epoch 15/20\n",
      "1064/1064 [==============================] - 11s 10ms/step - loss: 0.0782 - accuracy: 0.9710 - val_loss: 0.7248 - val_accuracy: 0.8375\n",
      "Epoch 16/20\n",
      "1064/1064 [==============================] - 11s 10ms/step - loss: 0.0699 - accuracy: 0.9737 - val_loss: 0.8157 - val_accuracy: 0.8316\n",
      "Epoch 17/20\n",
      "1064/1064 [==============================] - 11s 10ms/step - loss: 0.0636 - accuracy: 0.9760 - val_loss: 0.8527 - val_accuracy: 0.8363\n",
      "Epoch 18/20\n",
      "1064/1064 [==============================] - 11s 10ms/step - loss: 0.0553 - accuracy: 0.9790 - val_loss: 0.9040 - val_accuracy: 0.8360\n",
      "Epoch 19/20\n",
      "1064/1064 [==============================] - 11s 10ms/step - loss: 0.0502 - accuracy: 0.9810 - val_loss: 0.8962 - val_accuracy: 0.8348\n",
      "Epoch 20/20\n",
      "1064/1064 [==============================] - 11s 10ms/step - loss: 0.0457 - accuracy: 0.9826 - val_loss: 1.0165 - val_accuracy: 0.8345\n"
     ]
    }
   ],
   "source": [
    "model.compile(optimizer = 'adam',\n",
    "             loss = 'binary_crossentropy', \n",
    "             metrics=['accuracy'])\n",
    "\n",
    "history = model.fit(partial_x_train, partial_y_train,\n",
    "                    epochs=20, batch_size=128,\n",
    "                    validation_data=(x_val, y_val),\n",
    "                    verbose=1)"
   ]
  },
  {
   "cell_type": "code",
   "execution_count": 15,
   "metadata": {
    "scrolled": true
   },
   "outputs": [
    {
     "name": "stdout",
     "output_type": "stream",
     "text": [
      "1537/1537 - 3s - loss: 1.0380 - accuracy: 0.8294\n",
      "[1.037959337234497, 0.8293834328651428]\n"
     ]
    }
   ],
   "source": [
    "model_results = model.evaluate(X_test,  y_test, verbose=2)\n",
    "\n",
    "print(model_results)"
   ]
  },
  {
   "cell_type": "code",
   "execution_count": 16,
   "metadata": {},
   "outputs": [
    {
     "data": {
      "image/png": "[encoded data removed]",
      "text/plain": [
       "<Figure size 432x288 with 1 Axes>"
      ]
     },
     "metadata": {
      "needs_background": "light"
     },
     "output_type": "display_data"
    }
   ],
   "source": [
    "acc = history.history['accuracy']\n",
    "val_acc = history.history['val_accuracy']\n",
    "loss = history.history['loss']\n",
    "val_loss = history.history['val_loss']\n",
    "\n",
    "epochs = range(1, len(acc) + 1)\n",
    "\n",
    "# 빨간 실선으로 표시\n",
    "plt.plot(epochs, loss, 'r', label='Training loss')\n",
    "# 파란 실선으로 표시\n",
    "plt.plot(epochs, val_loss, 'b', label='Validation loss')\n",
    "plt.title('Training and validation loss')\n",
    "plt.xlabel('Epochs')\n",
    "plt.ylabel('Loss')\n",
    "plt.grid()\n",
    "plt.legend()\n",
    "\n",
    "plt.show()"
   ]
  },
  {
   "cell_type": "code",
   "execution_count": 17,
   "metadata": {
    "scrolled": true
   },
   "outputs": [
    {
     "data": {
      "image/png": "[encoded data removed]",
      "text/plain": [
       "<Figure size 432x288 with 1 Axes>"
      ]
     },
     "metadata": {
      "needs_background": "light"
     },
     "output_type": "display_data"
    }
   ],
   "source": [
    "plt.clf() # 그림 초기화\n",
    "\n",
    "plt.plot(epochs, acc, 'bo', label='Training acc')\n",
    "plt.plot(epochs, val_acc, 'b', label='Validation acc')\n",
    "plt.title(\"Training and validation accuracy\")\n",
    "plt.xlabel('Epochs')\n",
    "plt.ylabel('Accuracy')\n",
    "plt.legend()\n",
    "\n",
    "plt.show()"
   ]
  },
  {
   "cell_type": "markdown",
   "metadata": {},
   "source": [
    "### (보너스) SP 모델 변경"
   ]
  },
  {
   "cell_type": "code",
   "execution_count": 18,
   "metadata": {},
   "outputs": [
    {
     "name": "stdout",
     "output_type": "stream",
     "text": [
      "-rw-r--r-- 1 aiffel aiffel 409499 10월 13 17:31 korean_spm.model\r\n",
      "-rw-r--r-- 1 aiffel aiffel 150722 10월 13 17:31 korean_spm.vocab\r\n"
     ]
    }
   ],
   "source": [
    "spm.SentencePieceTrainer.Train(\n",
    "    '--input={} --model_prefix=korean_spm --vocab_size={} --model_type={}'.format(temp_file, vocab_size,'bpe')\n",
    ")\n",
    "#위 Train에서  --model_type = 'unigram'이 디폴트 적용되어 있습니다. --model_type = 'bpe' 로 옵션을 주어 변경할 수 있습니다.\n",
    "\n",
    "!ls -l korean_spm*"
   ]
  },
  {
   "cell_type": "code",
   "execution_count": 19,
   "metadata": {},
   "outputs": [
    {
     "data": {
      "text/plain": [
       "True"
      ]
     },
     "execution_count": 19,
     "metadata": {},
     "output_type": "execute_result"
    }
   ],
   "source": [
    "s = spm.SentencePieceProcessor()\n",
    "s.Load('korean_spm.model')"
   ]
  },
  {
   "cell_type": "code",
   "execution_count": 20,
   "metadata": {},
   "outputs": [],
   "source": [
    "X_train, word_index_train, index_word_train = sp_tokenize(s, train_data.document.values)\n",
    "X_test, word_index_test, index_word_test = sp_tokenize(s, test_data.document.values)\n"
   ]
  },
  {
   "cell_type": "code",
   "execution_count": 21,
   "metadata": {},
   "outputs": [
    {
     "name": "stdout",
     "output_type": "stream",
     "text": [
      "Epoch 1/20\n",
      "1064/1064 [==============================] - 11s 11ms/step - loss: 0.0408 - accuracy: 0.9843 - val_loss: 1.0630 - val_accuracy: 0.8313\n",
      "Epoch 2/20\n",
      "1064/1064 [==============================] - 11s 10ms/step - loss: 0.0370 - accuracy: 0.9859 - val_loss: 1.0652 - val_accuracy: 0.8338\n",
      "Epoch 3/20\n",
      "1064/1064 [==============================] - 11s 10ms/step - loss: 0.0359 - accuracy: 0.9864 - val_loss: 1.0773 - val_accuracy: 0.8358\n",
      "Epoch 4/20\n",
      "1064/1064 [==============================] - 11s 10ms/step - loss: 0.0306 - accuracy: 0.9885 - val_loss: 1.1288 - val_accuracy: 0.8327\n",
      "Epoch 5/20\n",
      "1064/1064 [==============================] - 11s 10ms/step - loss: 0.0282 - accuracy: 0.9893 - val_loss: 1.1870 - val_accuracy: 0.8330\n",
      "Epoch 6/20\n",
      "1064/1064 [==============================] - 11s 10ms/step - loss: 0.0287 - accuracy: 0.9893 - val_loss: 1.1662 - val_accuracy: 0.8312\n",
      "Epoch 7/20\n",
      "1064/1064 [==============================] - 11s 10ms/step - loss: 0.0245 - accuracy: 0.9907 - val_loss: 1.2104 - val_accuracy: 0.8336\n",
      "Epoch 8/20\n",
      "1064/1064 [==============================] - 11s 10ms/step - loss: 0.0231 - accuracy: 0.9915 - val_loss: 1.2343 - val_accuracy: 0.8302\n",
      "Epoch 9/20\n",
      "1064/1064 [==============================] - 11s 10ms/step - loss: 0.0210 - accuracy: 0.9918 - val_loss: 1.3158 - val_accuracy: 0.8322\n",
      "Epoch 10/20\n",
      "1064/1064 [==============================] - 11s 10ms/step - loss: 0.0189 - accuracy: 0.9927 - val_loss: 1.3073 - val_accuracy: 0.8339\n",
      "Epoch 11/20\n",
      "1064/1064 [==============================] - 11s 10ms/step - loss: 0.0222 - accuracy: 0.9917 - val_loss: 1.2594 - val_accuracy: 0.8335\n",
      "Epoch 12/20\n",
      "1064/1064 [==============================] - 11s 10ms/step - loss: 0.0175 - accuracy: 0.9936 - val_loss: 1.2830 - val_accuracy: 0.8333\n",
      "Epoch 13/20\n",
      "1064/1064 [==============================] - 11s 10ms/step - loss: 0.0164 - accuracy: 0.9938 - val_loss: 1.3291 - val_accuracy: 0.8278\n",
      "Epoch 14/20\n",
      "1064/1064 [==============================] - 11s 10ms/step - loss: 0.0184 - accuracy: 0.9932 - val_loss: 1.2975 - val_accuracy: 0.8312\n",
      "Epoch 15/20\n",
      "1064/1064 [==============================] - 10s 10ms/step - loss: 0.0147 - accuracy: 0.9947 - val_loss: 1.3438 - val_accuracy: 0.8329\n",
      "Epoch 16/20\n",
      "1064/1064 [==============================] - 10s 10ms/step - loss: 0.0127 - accuracy: 0.9951 - val_loss: 1.4157 - val_accuracy: 0.8314\n",
      "Epoch 17/20\n",
      "1064/1064 [==============================] - 10s 10ms/step - loss: 0.0158 - accuracy: 0.9942 - val_loss: 1.3309 - val_accuracy: 0.8309\n",
      "Epoch 18/20\n",
      "1064/1064 [==============================] - 10s 10ms/step - loss: 0.0151 - accuracy: 0.9946 - val_loss: 1.2585 - val_accuracy: 0.8317\n",
      "Epoch 19/20\n",
      "1064/1064 [==============================] - 10s 10ms/step - loss: 0.0131 - accuracy: 0.9950 - val_loss: 1.3410 - val_accuracy: 0.8294\n",
      "Epoch 20/20\n",
      "1064/1064 [==============================] - 10s 10ms/step - loss: 0.0120 - accuracy: 0.9952 - val_loss: 1.3706 - val_accuracy: 0.8307\n"
     ]
    }
   ],
   "source": [
    "history = model.fit(partial_x_train, partial_y_train,\n",
    "                    epochs=20, batch_size=128,\n",
    "                    validation_data=(x_val, y_val),\n",
    "                    verbose=1)"
   ]
  },
  {
   "cell_type": "code",
   "execution_count": 22,
   "metadata": {},
   "outputs": [
    {
     "name": "stdout",
     "output_type": "stream",
     "text": [
      "1537/1537 - 2s - loss: 8.0390 - accuracy: 0.4875\n",
      "[8.039019584655762, 0.48745855689048767]\n"
     ]
    }
   ],
   "source": [
    "model_results = model.evaluate(X_test,  y_test, verbose=2)\n",
    "\n",
    "print(model_results)"
   ]
  },
  {
   "cell_type": "markdown",
   "metadata": {},
   "source": [
    "- E9의 경우 같은 모델로 학습시킨 결과 정확도 84.10% (Mecab tokenizer)\n",
    "- SentencePiece의 경우 이보다 낮은 82.94% (unigram), 48.75%(bpe)의 정확도를 보임\n",
    "- stopwords를 제거하지 않은 것 등의 이유로 정확도가 다소 낮아졌을 가능성이 있음\n"
   ]
  }
 ],
 "metadata": {
  "kernelspec": {
   "display_name": "aiffel",
   "language": "python",
   "name": "aiffel"
  },
  "language_info": {
   "codemirror_mode": {
    "name": "ipython",
    "version": 3
   },
   "file_extension": ".py",
   "mimetype": "text/x-python",
   "name": "python",
   "nbconvert_exporter": "python",
   "pygments_lexer": "ipython3",
   "version": "3.7.6"
  }
 },
 "nbformat": 4,
 "nbformat_minor": 4
}
