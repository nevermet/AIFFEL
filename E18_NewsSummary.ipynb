{
 "cells": [
  {
   "cell_type": "markdown",
   "metadata": {},
   "source": [
    "## E18 프로젝트: 뉴스기사 요약해 보기"
   ]
  },
  {
   "cell_type": "markdown",
   "metadata": {},
   "source": [
    "### Step 1. 데이터 수집하기"
   ]
  },
  {
   "cell_type": "code",
   "execution_count": 1,
   "metadata": {
    "scrolled": true
   },
   "outputs": [],
   "source": [
    "import pandas as pd\n",
    "\n",
    "import urllib.request\n",
    "urllib.request.urlretrieve(\"https://raw.githubusercontent.com/sunnysai12345/News_Summary/master/news_summary_more.csv\", filename=\"news_summary_more.csv\")\n",
    "data = pd.read_csv('news_summary_more.csv', encoding='iso-8859-1')"
   ]
  },
  {
   "cell_type": "code",
   "execution_count": 2,
   "metadata": {
    "scrolled": false
   },
   "outputs": [
    {
     "data": {
      "text/html": [
       "<div>\n",
       "<style scoped>\n",
       "    .dataframe tbody tr th:only-of-type {\n",
       "        vertical-align: middle;\n",
       "    }\n",
       "\n",
       "    .dataframe tbody tr th {\n",
       "        vertical-align: top;\n",
       "    }\n",
       "\n",
       "    .dataframe thead th {\n",
       "        text-align: right;\n",
       "    }\n",
       "</style>\n",
       "<table border=\"1\" class=\"dataframe\">\n",
       "  <thead>\n",
       "    <tr style=\"text-align: right;\">\n",
       "      <th></th>\n",
       "      <th>headlines</th>\n",
       "      <th>text</th>\n",
       "    </tr>\n",
       "  </thead>\n",
       "  <tbody>\n",
       "    <tr>\n",
       "      <th>4978</th>\n",
       "      <td>Not bothered about this race: T-Series on YouT...</td>\n",
       "      <td>Amidst the \"race\" to gain the top spot of the ...</td>\n",
       "    </tr>\n",
       "    <tr>\n",
       "      <th>31513</th>\n",
       "      <td>Tripura govt worse than British: Cong as party...</td>\n",
       "      <td>Claiming that its party offices in Agartala we...</td>\n",
       "    </tr>\n",
       "    <tr>\n",
       "      <th>25698</th>\n",
       "      <td>London metro stop renamed to honour manager Ga...</td>\n",
       "      <td>Southgate Tube station in London has been temp...</td>\n",
       "    </tr>\n",
       "    <tr>\n",
       "      <th>21936</th>\n",
       "      <td>WC-winning Spanish defender PiquÃÂ© confirms ...</td>\n",
       "      <td>Barcelona's Spanish defender Gerard PiquÃÂ© h...</td>\n",
       "    </tr>\n",
       "    <tr>\n",
       "      <th>3444</th>\n",
       "      <td>No signs of atmosphere yet on farthest explore...</td>\n",
       "      <td>Initial data analysis of Ultima Thule, the far...</td>\n",
       "    </tr>\n",
       "    <tr>\n",
       "      <th>27602</th>\n",
       "      <td>BSE to delist 222 companies on July 4</td>\n",
       "      <td>Leading stock exchange BSE will delist 222 com...</td>\n",
       "    </tr>\n",
       "    <tr>\n",
       "      <th>38598</th>\n",
       "      <td>Who is ex-Barcelona player named new boss of R...</td>\n",
       "      <td>Current Spain manager Julen Lopetegui, who has...</td>\n",
       "    </tr>\n",
       "    <tr>\n",
       "      <th>60752</th>\n",
       "      <td>Delhi Metro puts restriction on baggage size</td>\n",
       "      <td>In a first, the Delhi Metro Rail Corporation (...</td>\n",
       "    </tr>\n",
       "    <tr>\n",
       "      <th>77238</th>\n",
       "      <td>Philippine Prez seeks 30,000 troops to fight I...</td>\n",
       "      <td>Philippine President Rodrigo Duterte has reque...</td>\n",
       "    </tr>\n",
       "    <tr>\n",
       "      <th>4830</th>\n",
       "      <td>BJD leaders asked to donate 1 month salary to ...</td>\n",
       "      <td>Odisha CM and Biju Janata Dal (BJD) President ...</td>\n",
       "    </tr>\n",
       "  </tbody>\n",
       "</table>\n",
       "</div>"
      ],
      "text/plain": [
       "                                               headlines  \\\n",
       "4978   Not bothered about this race: T-Series on YouT...   \n",
       "31513  Tripura govt worse than British: Cong as party...   \n",
       "25698  London metro stop renamed to honour manager Ga...   \n",
       "21936  WC-winning Spanish defender PiquÃÂ© confirms ...   \n",
       "3444   No signs of atmosphere yet on farthest explore...   \n",
       "27602              BSE to delist 222 companies on July 4   \n",
       "38598  Who is ex-Barcelona player named new boss of R...   \n",
       "60752       Delhi Metro puts restriction on baggage size   \n",
       "77238  Philippine Prez seeks 30,000 troops to fight I...   \n",
       "4830   BJD leaders asked to donate 1 month salary to ...   \n",
       "\n",
       "                                                    text  \n",
       "4978   Amidst the \"race\" to gain the top spot of the ...  \n",
       "31513  Claiming that its party offices in Agartala we...  \n",
       "25698  Southgate Tube station in London has been temp...  \n",
       "21936  Barcelona's Spanish defender Gerard PiquÃÂ© h...  \n",
       "3444   Initial data analysis of Ultima Thule, the far...  \n",
       "27602  Leading stock exchange BSE will delist 222 com...  \n",
       "38598  Current Spain manager Julen Lopetegui, who has...  \n",
       "60752  In a first, the Delhi Metro Rail Corporation (...  \n",
       "77238  Philippine President Rodrigo Duterte has reque...  \n",
       "4830   Odisha CM and Biju Janata Dal (BJD) President ...  "
      ]
     },
     "execution_count": 2,
     "metadata": {},
     "output_type": "execute_result"
    }
   ],
   "source": [
    "data.sample(10)"
   ]
  },
  {
   "cell_type": "markdown",
   "metadata": {},
   "source": [
    "### Step 2. 데이터 전처리하기 (추상적 요약)"
   ]
  },
  {
   "cell_type": "code",
   "execution_count": 3,
   "metadata": {},
   "outputs": [
    {
     "name": "stderr",
     "output_type": "stream",
     "text": [
      "[nltk_data] Downloading package stopwords to /home/aiffel/nltk_data...\n",
      "[nltk_data]   Package stopwords is already up-to-date!\n"
     ]
    }
   ],
   "source": [
    "import nltk\n",
    "nltk.download('stopwords')\n",
    "from nltk.corpus import stopwords\n",
    "from bs4 import BeautifulSoup\n",
    "import re\n",
    "import numpy as np\n",
    "from tensorflow.keras.preprocessing.text import Tokenizer\n",
    "from tensorflow.keras.preprocessing.sequence import pad_sequences\n"
   ]
  },
  {
   "cell_type": "code",
   "execution_count": 4,
   "metadata": {
    "scrolled": true
   },
   "outputs": [
    {
     "name": "stdout",
     "output_type": "stream",
     "text": [
      "Text 열에서 중복을 배제한 유일한 샘플의 수 : 98360\n",
      "Hedalines 열에서 중복을 배제한 유일한 샘플의 수 : 98280\n"
     ]
    }
   ],
   "source": [
    "print('Text 열에서 중복을 배제한 유일한 샘플의 수 :', data['text'].nunique())\n",
    "print('Hedalines 열에서 중복을 배제한 유일한 샘플의 수 :', data['headlines'].nunique())"
   ]
  },
  {
   "cell_type": "code",
   "execution_count": 5,
   "metadata": {},
   "outputs": [
    {
     "name": "stdout",
     "output_type": "stream",
     "text": [
      "전체 샘플수 :  98360\n"
     ]
    }
   ],
   "source": [
    "data.drop_duplicates(subset = ['text'], inplace = True)\n",
    "print('전체 샘플수 : ', (len(data)))"
   ]
  },
  {
   "cell_type": "code",
   "execution_count": 6,
   "metadata": {},
   "outputs": [
    {
     "name": "stdout",
     "output_type": "stream",
     "text": [
      "headlines    0\n",
      "text         0\n",
      "dtype: int64\n"
     ]
    }
   ],
   "source": [
    "print(data.isnull().sum())"
   ]
  },
  {
   "cell_type": "code",
   "execution_count": 7,
   "metadata": {},
   "outputs": [
    {
     "name": "stdout",
     "output_type": "stream",
     "text": [
      "정규화 사전의 수:  120\n"
     ]
    }
   ],
   "source": [
    "contractions = {\"ain't\": \"is not\", \"aren't\": \"are not\",\"can't\": \"cannot\", \"'cause\": \"because\", \"could've\": \"could have\", \"couldn't\": \"could not\",\n",
    "                           \"didn't\": \"did not\",  \"doesn't\": \"does not\", \"don't\": \"do not\", \"hadn't\": \"had not\", \"hasn't\": \"has not\", \"haven't\": \"have not\",\n",
    "                           \"he'd\": \"he would\",\"he'll\": \"he will\", \"he's\": \"he is\", \"how'd\": \"how did\", \"how'd'y\": \"how do you\", \"how'll\": \"how will\", \"how's\": \"how is\",\n",
    "                           \"I'd\": \"I would\", \"I'd've\": \"I would have\", \"I'll\": \"I will\", \"I'll've\": \"I will have\",\"I'm\": \"I am\", \"I've\": \"I have\", \"i'd\": \"i would\",\n",
    "                           \"i'd've\": \"i would have\", \"i'll\": \"i will\",  \"i'll've\": \"i will have\",\"i'm\": \"i am\", \"i've\": \"i have\", \"isn't\": \"is not\", \"it'd\": \"it would\",\n",
    "                           \"it'd've\": \"it would have\", \"it'll\": \"it will\", \"it'll've\": \"it will have\",\"it's\": \"it is\", \"let's\": \"let us\", \"ma'am\": \"madam\",\n",
    "                           \"mayn't\": \"may not\", \"might've\": \"might have\",\"mightn't\": \"might not\",\"mightn't've\": \"might not have\", \"must've\": \"must have\",\n",
    "                           \"mustn't\": \"must not\", \"mustn't've\": \"must not have\", \"needn't\": \"need not\", \"needn't've\": \"need not have\",\"o'clock\": \"of the clock\",\n",
    "                           \"oughtn't\": \"ought not\", \"oughtn't've\": \"ought not have\", \"shan't\": \"shall not\", \"sha'n't\": \"shall not\", \"shan't've\": \"shall not have\",\n",
    "                           \"she'd\": \"she would\", \"she'd've\": \"she would have\", \"she'll\": \"she will\", \"she'll've\": \"she will have\", \"she's\": \"she is\",\n",
    "                           \"should've\": \"should have\", \"shouldn't\": \"should not\", \"shouldn't've\": \"should not have\", \"so've\": \"so have\",\"so's\": \"so as\",\n",
    "                           \"this's\": \"this is\",\"that'd\": \"that would\", \"that'd've\": \"that would have\", \"that's\": \"that is\", \"there'd\": \"there would\",\n",
    "                           \"there'd've\": \"there would have\", \"there's\": \"there is\", \"here's\": \"here is\",\"they'd\": \"they would\", \"they'd've\": \"they would have\",\n",
    "                           \"they'll\": \"they will\", \"they'll've\": \"they will have\", \"they're\": \"they are\", \"they've\": \"they have\", \"to've\": \"to have\",\n",
    "                           \"wasn't\": \"was not\", \"we'd\": \"we would\", \"we'd've\": \"we would have\", \"we'll\": \"we will\", \"we'll've\": \"we will have\", \"we're\": \"we are\",\n",
    "                           \"we've\": \"we have\", \"weren't\": \"were not\", \"what'll\": \"what will\", \"what'll've\": \"what will have\", \"what're\": \"what are\",\n",
    "                           \"what's\": \"what is\", \"what've\": \"what have\", \"when's\": \"when is\", \"when've\": \"when have\", \"where'd\": \"where did\", \"where's\": \"where is\",\n",
    "                           \"where've\": \"where have\", \"who'll\": \"who will\", \"who'll've\": \"who will have\", \"who's\": \"who is\", \"who've\": \"who have\",\n",
    "                           \"why's\": \"why is\", \"why've\": \"why have\", \"will've\": \"will have\", \"won't\": \"will not\", \"won't've\": \"will not have\",\n",
    "                           \"would've\": \"would have\", \"wouldn't\": \"would not\", \"wouldn't've\": \"would not have\", \"y'all\": \"you all\",\n",
    "                           \"y'all'd\": \"you all would\",\"y'all'd've\": \"you all would have\",\"y'all're\": \"you all are\",\"y'all've\": \"you all have\",\n",
    "                           \"you'd\": \"you would\", \"you'd've\": \"you would have\", \"you'll\": \"you will\", \"you'll've\": \"you will have\",\n",
    "                           \"you're\": \"you are\", \"you've\": \"you have\"}\n",
    "\n",
    "print(\"정규화 사전의 수: \",len(contractions))"
   ]
  },
  {
   "cell_type": "code",
   "execution_count": 8,
   "metadata": {
    "scrolled": false
   },
   "outputs": [
    {
     "name": "stdout",
     "output_type": "stream",
     "text": [
      "불용어 개수 : 179\n",
      "['i', 'me', 'my', 'myself', 'we', 'our', 'ours', 'ourselves', 'you', \"you're\", \"you've\", \"you'll\", \"you'd\", 'your', 'yours', 'yourself', 'yourselves', 'he', 'him', 'his', 'himself', 'she', \"she's\", 'her', 'hers', 'herself', 'it', \"it's\", 'its', 'itself', 'they', 'them', 'their', 'theirs', 'themselves', 'what', 'which', 'who', 'whom', 'this', 'that', \"that'll\", 'these', 'those', 'am', 'is', 'are', 'was', 'were', 'be', 'been', 'being', 'have', 'has', 'had', 'having', 'do', 'does', 'did', 'doing', 'a', 'an', 'the', 'and', 'but', 'if', 'or', 'because', 'as', 'until', 'while', 'of', 'at', 'by', 'for', 'with', 'about', 'against', 'between', 'into', 'through', 'during', 'before', 'after', 'above', 'below', 'to', 'from', 'up', 'down', 'in', 'out', 'on', 'off', 'over', 'under', 'again', 'further', 'then', 'once', 'here', 'there', 'when', 'where', 'why', 'how', 'all', 'any', 'both', 'each', 'few', 'more', 'most', 'other', 'some', 'such', 'no', 'nor', 'not', 'only', 'own', 'same', 'so', 'than', 'too', 'very', 's', 't', 'can', 'will', 'just', 'don', \"don't\", 'should', \"should've\", 'now', 'd', 'll', 'm', 'o', 're', 've', 'y', 'ain', 'aren', \"aren't\", 'couldn', \"couldn't\", 'didn', \"didn't\", 'doesn', \"doesn't\", 'hadn', \"hadn't\", 'hasn', \"hasn't\", 'haven', \"haven't\", 'isn', \"isn't\", 'ma', 'mightn', \"mightn't\", 'mustn', \"mustn't\", 'needn', \"needn't\", 'shan', \"shan't\", 'shouldn', \"shouldn't\", 'wasn', \"wasn't\", 'weren', \"weren't\", 'won', \"won't\", 'wouldn', \"wouldn't\"]\n"
     ]
    }
   ],
   "source": [
    "print('불용어 개수 :', len(stopwords.words('english') ))\n",
    "print(stopwords.words('english'))"
   ]
  },
  {
   "cell_type": "code",
   "execution_count": 9,
   "metadata": {},
   "outputs": [],
   "source": [
    "#데이터 전처리 함수\n",
    "def preprocess_sentence(sentence, remove_stopwords=True):\n",
    "    sentence = sentence.lower() # 텍스트 소문자화\n",
    "    sentence = BeautifulSoup(sentence, \"lxml\").text # <br />, <a href = ...> 등의 html 태그 제거\n",
    "    sentence = re.sub(r'\\([^)]*\\)', '', sentence) # 괄호로 닫힌 문자열 (...) 제거 Ex) my husband (and myself!) for => my husband for\n",
    "    sentence = re.sub('\"','', sentence) # 쌍따옴표 \" 제거\n",
    "    sentence = ' '.join([contractions[t] if t in contractions else t for t in sentence.split(\" \")]) # 약어 정규화\n",
    "    sentence = re.sub(r\"'s\\b\",\"\",sentence) # 소유격 제거. Ex) roland's -> roland\n",
    "    sentence = re.sub(\"[^a-zA-Z]\", \" \", sentence) # 영어 외 문자(숫자, 특수문자 등) 공백으로 변환\n",
    "    sentence = re.sub('[m]{2,}', 'mm', sentence) # m이 3개 이상이면 2개로 변경. Ex) ummmmmmm yeah -> umm yeah\n",
    "    \n",
    "    # 불용어 제거 (Text)\n",
    "    if remove_stopwords:\n",
    "        tokens = ' '.join(word for word in sentence.split() if not word in stopwords.words('english') if len(word) > 1)\n",
    "    # 불용어 미제거 (Summary)\n",
    "    else:\n",
    "        tokens = ' '.join(word for word in sentence.split() if len(word) > 1)\n",
    "    return tokens"
   ]
  },
  {
   "cell_type": "code",
   "execution_count": 10,
   "metadata": {},
   "outputs": [
    {
     "data": {
      "text/plain": [
       "['saurav kant alumnus upgrad iiit pg program machine learning artificial intelligence sr systems engineer infosys almost years work experience program upgrad degree career support helped transition data scientist tech mahindra salary hike upgrad online power learning powered lakh careers',\n",
       " 'kunal shah credit card bill payment platform cred gave users chance win free food swiggy one year pranav kaushik delhi techie bagged reward spending cred coins users get one cred coin per rupee bill paid used avail rewards brands like ixigo bookmyshow ubereats cult fit',\n",
       " 'new zealand defeated india wickets fourth odi hamilton thursday win first match five match odi series india lost international match rohit sharma captaincy consecutive victories dating back march match witnessed india getting seventh lowest total odi cricket history',\n",
       " 'aegon life iterm insurance plan customers enjoy tax benefits premiums paid save taxes plan provides life cover age years also customers options insure critical illnesses disability accidental death benefit rider life cover age years',\n",
       " 'speaking sexual harassment allegations rajkumar hirani sonam kapoor said known hirani many years true metoo movement get derailed metoo movement always believe woman case need reserve judgment added hirani accused assistant worked sanju']"
      ]
     },
     "execution_count": 10,
     "metadata": {},
     "output_type": "execute_result"
    }
   ],
   "source": [
    "clean_text = []\n",
    "\n",
    "#전체 text 데이터에 대한 전처리 : 10분이상 걸릴 수 있음\n",
    "for s in data['text']:\n",
    "    clean_text.append(preprocess_sentence(s))\n",
    "\n",
    "clean_text[:5]"
   ]
  },
  {
   "cell_type": "code",
   "execution_count": 11,
   "metadata": {},
   "outputs": [
    {
     "data": {
      "text/plain": [
       "['upgrad learner switches to career in ml al with salary hike',\n",
       " 'delhi techie wins free food from swiggy for one year on cred',\n",
       " 'new zealand end rohit sharma led india match winning streak',\n",
       " 'aegon life iterm insurance plan helps customers save tax',\n",
       " 'have known hirani for yrs what if metoo claims are not true sonam']"
      ]
     },
     "execution_count": 11,
     "metadata": {},
     "output_type": "execute_result"
    }
   ],
   "source": [
    "clean_summary = []\n",
    "\n",
    "for s in data['headlines']:\n",
    "    clean_summary.append(preprocess_sentence(s, False))\n",
    "\n",
    "clean_summary[:5]"
   ]
  },
  {
   "cell_type": "code",
   "execution_count": 12,
   "metadata": {},
   "outputs": [],
   "source": [
    "data['text'] = clean_text\n",
    "data['headlines'] = clean_summary\n",
    "\n",
    "# 빈 값을 Null 값으로 변환\n",
    "data.replace('', np.nan, inplace=True)"
   ]
  },
  {
   "cell_type": "code",
   "execution_count": 13,
   "metadata": {},
   "outputs": [
    {
     "data": {
      "text/plain": [
       "headlines    0\n",
       "text         0\n",
       "dtype: int64"
      ]
     },
     "execution_count": 13,
     "metadata": {},
     "output_type": "execute_result"
    }
   ],
   "source": [
    "data.isnull().sum()"
   ]
  },
  {
   "cell_type": "code",
   "execution_count": 14,
   "metadata": {
    "scrolled": false
   },
   "outputs": [
    {
     "name": "stdout",
     "output_type": "stream",
     "text": [
      "텍스트의 최소 길이 : 1\n",
      "텍스트의 최대 길이 : 60\n",
      "텍스트의 평균 길이 : 35.09968483123221\n",
      "요약의 최소 길이 : 1\n",
      "요약의 최대 길이 : 16\n",
      "요약의 평균 길이 : 9.299532330215534\n"
     ]
    },
    {
     "data": {
      "image/png": "[encoded data removed]",
      "text/plain": [
       "<Figure size 432x288 with 2 Axes>"
      ]
     },
     "metadata": {
      "needs_background": "light"
     },
     "output_type": "display_data"
    },
    {
     "data": {
      "image/png": "[encoded data removed]",
      "text/plain": [
       "<Figure size 432x288 with 1 Axes>"
      ]
     },
     "metadata": {
      "needs_background": "light"
     },
     "output_type": "display_data"
    },
    {
     "data": {
      "image/png": "[encoded data removed]",
      "text/plain": [
       "<Figure size 432x288 with 1 Axes>"
      ]
     },
     "metadata": {
      "needs_background": "light"
     },
     "output_type": "display_data"
    }
   ],
   "source": [
    "# 길이 분포 출력\n",
    "import matplotlib.pyplot as plt\n",
    "\n",
    "text_len = [len(s.split()) for s in data['text']]\n",
    "summary_len = [len(s.split()) for s in data['headlines']]\n",
    "\n",
    "print('텍스트의 최소 길이 : {}'.format(np.min(text_len)))\n",
    "print('텍스트의 최대 길이 : {}'.format(np.max(text_len)))\n",
    "print('텍스트의 평균 길이 : {}'.format(np.mean(text_len)))\n",
    "print('요약의 최소 길이 : {}'.format(np.min(summary_len)))\n",
    "print('요약의 최대 길이 : {}'.format(np.max(summary_len)))\n",
    "print('요약의 평균 길이 : {}'.format(np.mean(summary_len)))\n",
    "\n",
    "plt.subplot(1,2,1)\n",
    "plt.boxplot(summary_len)\n",
    "plt.title('Summary')\n",
    "plt.subplot(1,2,2)\n",
    "plt.boxplot(text_len)\n",
    "plt.title('Text')\n",
    "plt.tight_layout()\n",
    "plt.show()\n",
    "\n",
    "plt.title('Summary')\n",
    "plt.hist(summary_len, bins = 40)\n",
    "plt.xlabel('length of samples')\n",
    "plt.ylabel('number of samples')\n",
    "plt.show()\n",
    "\n",
    "plt.title('Text')\n",
    "plt.hist(text_len, bins = 40)\n",
    "plt.xlabel('length of samples')\n",
    "plt.ylabel('number of samples')\n",
    "plt.show()"
   ]
  },
  {
   "cell_type": "code",
   "execution_count": 15,
   "metadata": {},
   "outputs": [],
   "source": [
    "text_max_len = 46\n",
    "summary_max_len =14"
   ]
  },
  {
   "cell_type": "code",
   "execution_count": 17,
   "metadata": {},
   "outputs": [],
   "source": [
    "def below_threshold_len(max_len, nested_list):\n",
    "  cnt = 0\n",
    "  for s in nested_list:\n",
    "    if(len(s.split()) <= max_len):\n",
    "        cnt = cnt + 1\n",
    "  print('전체 샘플 중 길이가 %s 이하인 샘플의 비율: %s'%(max_len, (cnt / len(nested_list))))"
   ]
  },
  {
   "cell_type": "code",
   "execution_count": 18,
   "metadata": {},
   "outputs": [
    {
     "name": "stdout",
     "output_type": "stream",
     "text": [
      "전체 샘플 중 길이가 46 이하인 샘플의 비율: 0.9983021553477023\n",
      "전체 샘플 중 길이가 14 이하인 샘플의 비율: 0.9997763318422123\n"
     ]
    }
   ],
   "source": [
    "below_threshold_len(text_max_len, data['text'])\n",
    "below_threshold_len(summary_max_len, data['headlines'])\n"
   ]
  },
  {
   "cell_type": "code",
   "execution_count": 19,
   "metadata": {},
   "outputs": [
    {
     "name": "stdout",
     "output_type": "stream",
     "text": [
      "전체 샘플수 : 98171\n"
     ]
    }
   ],
   "source": [
    "data = data[data['text'].apply(lambda x: len(x.split()) <= text_max_len)]\n",
    "data = data[data['headlines'].apply(lambda x: len(x.split()) <= summary_max_len)]\n",
    "print('전체 샘플수 :',(len(data)))\n"
   ]
  },
  {
   "cell_type": "code",
   "execution_count": 20,
   "metadata": {
    "scrolled": true
   },
   "outputs": [
    {
     "data": {
      "text/html": [
       "<div>\n",
       "<style scoped>\n",
       "    .dataframe tbody tr th:only-of-type {\n",
       "        vertical-align: middle;\n",
       "    }\n",
       "\n",
       "    .dataframe tbody tr th {\n",
       "        vertical-align: top;\n",
       "    }\n",
       "\n",
       "    .dataframe thead th {\n",
       "        text-align: right;\n",
       "    }\n",
       "</style>\n",
       "<table border=\"1\" class=\"dataframe\">\n",
       "  <thead>\n",
       "    <tr style=\"text-align: right;\">\n",
       "      <th></th>\n",
       "      <th>headlines</th>\n",
       "      <th>text</th>\n",
       "      <th>decoder_input</th>\n",
       "      <th>decoder_target</th>\n",
       "    </tr>\n",
       "  </thead>\n",
       "  <tbody>\n",
       "    <tr>\n",
       "      <th>0</th>\n",
       "      <td>upgrad learner switches to career in ml al wit...</td>\n",
       "      <td>saurav kant alumnus upgrad iiit pg program mac...</td>\n",
       "      <td>sostoken upgrad learner switches to career in ...</td>\n",
       "      <td>upgrad learner switches to career in ml al wit...</td>\n",
       "    </tr>\n",
       "    <tr>\n",
       "      <th>1</th>\n",
       "      <td>delhi techie wins free food from swiggy for on...</td>\n",
       "      <td>kunal shah credit card bill payment platform c...</td>\n",
       "      <td>sostoken delhi techie wins free food from swig...</td>\n",
       "      <td>delhi techie wins free food from swiggy for on...</td>\n",
       "    </tr>\n",
       "    <tr>\n",
       "      <th>2</th>\n",
       "      <td>new zealand end rohit sharma led india match w...</td>\n",
       "      <td>new zealand defeated india wickets fourth odi ...</td>\n",
       "      <td>sostoken new zealand end rohit sharma led indi...</td>\n",
       "      <td>new zealand end rohit sharma led india match w...</td>\n",
       "    </tr>\n",
       "    <tr>\n",
       "      <th>3</th>\n",
       "      <td>aegon life iterm insurance plan helps customer...</td>\n",
       "      <td>aegon life iterm insurance plan customers enjo...</td>\n",
       "      <td>sostoken aegon life iterm insurance plan helps...</td>\n",
       "      <td>aegon life iterm insurance plan helps customer...</td>\n",
       "    </tr>\n",
       "    <tr>\n",
       "      <th>4</th>\n",
       "      <td>have known hirani for yrs what if metoo claims...</td>\n",
       "      <td>speaking sexual harassment allegations rajkuma...</td>\n",
       "      <td>sostoken have known hirani for yrs what if met...</td>\n",
       "      <td>have known hirani for yrs what if metoo claims...</td>\n",
       "    </tr>\n",
       "  </tbody>\n",
       "</table>\n",
       "</div>"
      ],
      "text/plain": [
       "                                           headlines  \\\n",
       "0  upgrad learner switches to career in ml al wit...   \n",
       "1  delhi techie wins free food from swiggy for on...   \n",
       "2  new zealand end rohit sharma led india match w...   \n",
       "3  aegon life iterm insurance plan helps customer...   \n",
       "4  have known hirani for yrs what if metoo claims...   \n",
       "\n",
       "                                                text  \\\n",
       "0  saurav kant alumnus upgrad iiit pg program mac...   \n",
       "1  kunal shah credit card bill payment platform c...   \n",
       "2  new zealand defeated india wickets fourth odi ...   \n",
       "3  aegon life iterm insurance plan customers enjo...   \n",
       "4  speaking sexual harassment allegations rajkuma...   \n",
       "\n",
       "                                       decoder_input  \\\n",
       "0  sostoken upgrad learner switches to career in ...   \n",
       "1  sostoken delhi techie wins free food from swig...   \n",
       "2  sostoken new zealand end rohit sharma led indi...   \n",
       "3  sostoken aegon life iterm insurance plan helps...   \n",
       "4  sostoken have known hirani for yrs what if met...   \n",
       "\n",
       "                                      decoder_target  \n",
       "0  upgrad learner switches to career in ml al wit...  \n",
       "1  delhi techie wins free food from swiggy for on...  \n",
       "2  new zealand end rohit sharma led india match w...  \n",
       "3  aegon life iterm insurance plan helps customer...  \n",
       "4  have known hirani for yrs what if metoo claims...  "
      ]
     },
     "execution_count": 20,
     "metadata": {},
     "output_type": "execute_result"
    }
   ],
   "source": [
    "#요약 데이터에는 시작 토큰과 종료 토큰을 추가한다.\n",
    "data['decoder_input'] = data['headlines'].apply(lambda x : 'sostoken '+ x)\n",
    "data['decoder_target'] = data['headlines'].apply(lambda x : x + ' eostoken')\n",
    "data.head()"
   ]
  },
  {
   "cell_type": "code",
   "execution_count": 21,
   "metadata": {},
   "outputs": [],
   "source": [
    "encoder_input = np.array(data['text']) # 인코더의 입력\n",
    "decoder_input = np.array(data['decoder_input']) # 디코더의 입력\n",
    "decoder_target = np.array(data['decoder_target']) # 디코더의 레이블"
   ]
  },
  {
   "cell_type": "code",
   "execution_count": 22,
   "metadata": {},
   "outputs": [
    {
     "name": "stdout",
     "output_type": "stream",
     "text": [
      "[41837 56651   150 ...  4272 95287 97367]\n"
     ]
    }
   ],
   "source": [
    "indices = np.arange(encoder_input.shape[0])\n",
    "np.random.shuffle(indices)\n",
    "print(indices)"
   ]
  },
  {
   "cell_type": "code",
   "execution_count": 23,
   "metadata": {},
   "outputs": [],
   "source": [
    "encoder_input = encoder_input[indices]\n",
    "decoder_input = decoder_input[indices]\n",
    "decoder_target = decoder_target[indices]"
   ]
  },
  {
   "cell_type": "code",
   "execution_count": 24,
   "metadata": {},
   "outputs": [
    {
     "name": "stdout",
     "output_type": "stream",
     "text": [
      "테스트 데이터의 수 : 19634\n"
     ]
    }
   ],
   "source": [
    "n_of_val = int(len(encoder_input)*0.2)\n",
    "print('테스트 데이터의 수 :',n_of_val)"
   ]
  },
  {
   "cell_type": "code",
   "execution_count": 25,
   "metadata": {},
   "outputs": [
    {
     "name": "stdout",
     "output_type": "stream",
     "text": [
      "훈련 데이터의 개수 : 78537\n",
      "훈련 레이블의 개수 : 78537\n",
      "테스트 데이터의 개수 : 19634\n",
      "테스트 레이블의 개수 : 19634\n"
     ]
    }
   ],
   "source": [
    "encoder_input_train = encoder_input[:-n_of_val]\n",
    "decoder_input_train = decoder_input[:-n_of_val]\n",
    "decoder_target_train = decoder_target[:-n_of_val]\n",
    "\n",
    "encoder_input_test = encoder_input[-n_of_val:]\n",
    "decoder_input_test = decoder_input[-n_of_val:]\n",
    "decoder_target_test = decoder_target[-n_of_val:]\n",
    "\n",
    "print('훈련 데이터의 개수 :', len(encoder_input_train))\n",
    "print('훈련 레이블의 개수 :',len(decoder_input_train))\n",
    "print('테스트 데이터의 개수 :',len(encoder_input_test))\n",
    "print('테스트 레이블의 개수 :',len(decoder_input_test))"
   ]
  },
  {
   "cell_type": "code",
   "execution_count": 26,
   "metadata": {
    "scrolled": true
   },
   "outputs": [],
   "source": [
    "src_tokenizer = Tokenizer() # 토크나이저 정의\n",
    "src_tokenizer.fit_on_texts(encoder_input_train) # 입력된 데이터로부터 단어 집합 생성"
   ]
  },
  {
   "cell_type": "code",
   "execution_count": 27,
   "metadata": {},
   "outputs": [
    {
     "name": "stdout",
     "output_type": "stream",
     "text": [
      "단어 집합(vocabulary)의 크기: 69557\n",
      "등장 빈도가 6번 이하인 희귀 단어의 수: 47490\n",
      "단어 집합에서 희귀 단어를 제외시킬 경우의 단어 집합의 크기 22067\n",
      "단어 집합에서 희귀 단어의 비율: 68.27493997728482\n",
      "전체 등장 빈도에서 희귀 단어 등장 비율: 3.50362027937203\n"
     ]
    }
   ],
   "source": [
    "threshold = 7\n",
    "total_cnt = len(src_tokenizer.word_index)\n",
    "rare_cnt = 0\n",
    "total_freq = 0\n",
    "rare_freq = 0\n",
    "\n",
    "for key, value in src_tokenizer.word_counts.items():\n",
    "    total_freq = total_freq + value\n",
    "    \n",
    "    if (value < threshold):\n",
    "        rare_cnt = rare_cnt + 1\n",
    "        rare_freq = rare_freq + value\n",
    "\n",
    "print('단어 집합(vocabulary)의 크기:', total_cnt)\n",
    "print('등장 빈도가 %s번 이하인 희귀 단어의 수: %s'%(threshold - 1, rare_cnt))\n",
    "print('단어 집합에서 희귀 단어를 제외시킬 경우의 단어 집합의 크기 %s'%(total_cnt - rare_cnt))\n",
    "print('단어 집합에서 희귀 단어의 비율:', (rare_cnt/total_cnt)*100)\n",
    "print('전체 등장 빈도에서 희귀 단어 등장 비율:', (rare_freq/total_freq)*100)\n",
    "\n"
   ]
  },
  {
   "cell_type": "code",
   "execution_count": 28,
   "metadata": {},
   "outputs": [],
   "source": [
    "src_vocab = 22000\n",
    "src_tokenizer = Tokenizer(num_words = src_vocab) #단어집합 크기를 8,000으로 제한\n",
    "src_tokenizer.fit_on_texts(encoder_input_train)"
   ]
  },
  {
   "cell_type": "code",
   "execution_count": 29,
   "metadata": {},
   "outputs": [
    {
     "name": "stdout",
     "output_type": "stream",
     "text": [
      "[[535, 1884, 437, 326, 628, 17475, 9840, 17476, 222, 248, 123, 9652, 1, 1381, 571, 326, 286, 121, 176, 2641, 1381, 571, 525, 34, 7905, 187, 6793, 525, 7170, 4833, 1824, 1897, 937, 4980, 2], [375, 10957, 86, 1743, 189, 36, 1841, 1, 49, 112, 46, 2483, 306, 2426, 2252, 6888, 13766, 125, 49, 46, 33, 14767, 18409, 15351, 13767, 1, 8257, 9653, 13766, 4834, 17, 16677, 1813, 9653, 87, 13766, 40], [13, 408, 8, 258, 81, 19416, 386, 77, 1321, 47, 6889, 15352, 1174, 2660, 8, 15971, 213, 2790, 1757, 143, 17, 1819, 1533, 386, 188, 2914, 2591, 6, 1401, 1024, 8007, 15352, 1]]\n"
     ]
    }
   ],
   "source": [
    "#텍스트 시퀀스를 정수 시퀀스로 변환\n",
    "encoder_input_train = src_tokenizer.texts_to_sequences(encoder_input_train)\n",
    "encoder_input_test = src_tokenizer.texts_to_sequences(encoder_input_test)\n",
    "\n",
    "print(encoder_input_train[:3])"
   ]
  },
  {
   "cell_type": "code",
   "execution_count": 30,
   "metadata": {},
   "outputs": [],
   "source": [
    "tar_tokenizer = Tokenizer()\n",
    "tar_tokenizer.fit_on_texts(decoder_input_train)"
   ]
  },
  {
   "cell_type": "code",
   "execution_count": 31,
   "metadata": {
    "scrolled": true
   },
   "outputs": [
    {
     "name": "stdout",
     "output_type": "stream",
     "text": [
      "단어 집합(vocabulary)의 크기 : 30126\n",
      "등장 빈도가 5번 이하인 희귀 단어의 수: 19695\n",
      "단어 집합에서 희귀 단어를 제외시킬 경우의 단어 집합의 크기 10431\n",
      "단어 집합에서 희귀 단어의 비율:  65.37542322246564\n",
      "전체 등장 빈도에서 희귀 단어 등장 빈도 비율:  4.644159274961536\n"
     ]
    }
   ],
   "source": [
    "threshold = 6\n",
    "total_cnt = len(tar_tokenizer.word_index) #단어의 수\n",
    "rare_cnt = 0 # 등장빈도가 threshold보다 작은 단어의 개수를 카운트\n",
    "total_freq = 0 # 훈련 데이터의 전체 단어 빈도수 총 합\n",
    "rare_freq = 0 # 등장 빈도수가 threshold보다 작은 단어의 등장 빈도수의 총 합\n",
    "\n",
    "for key, value in tar_tokenizer.word_counts.items():\n",
    "    total_freq = total_freq + value\n",
    "    \n",
    "    if (value < threshold):\n",
    "        rare_cnt = rare_cnt + 1\n",
    "        rare_freq = rare_freq + value\n",
    "        \n",
    "print('단어 집합(vocabulary)의 크기 :', total_cnt)\n",
    "print('등장 빈도가 %s번 이하인 희귀 단어의 수: %s'%(threshold - 1, rare_cnt))\n",
    "print('단어 집합에서 희귀 단어를 제외시킬 경우의 단어 집합의 크기 %s'%(total_cnt - rare_cnt))\n",
    "print('단어 집합에서 희귀 단어의 비율: ', (rare_cnt / total_cnt)*100)\n",
    "print('전체 등장 빈도에서 희귀 단어 등장 빈도 비율: ', (rare_freq / total_freq) * 100)\n"
   ]
  },
  {
   "cell_type": "code",
   "execution_count": 32,
   "metadata": {},
   "outputs": [
    {
     "name": "stdout",
     "output_type": "stream",
     "text": [
      "input\n",
      "input [[1, 971, 195, 24, 337, 118, 261, 9522, 326, 255], [1, 2268, 2532, 17, 1508, 6819, 136, 113], [1, 10, 1317, 3656, 17, 23, 154, 86, 576, 15, 638, 196], [1, 50, 203, 239, 10, 2359, 4, 1779, 899, 133, 1509, 1510], [1, 145, 10, 4007, 5, 120, 350, 7, 952, 5444, 1753]]\n",
      "target\n",
      "decoder [[971, 195, 24, 337, 118, 261, 9522, 326, 255, 2], [2268, 2532, 17, 1508, 6819, 136, 113, 2], [10, 1317, 3656, 17, 23, 154, 86, 576, 15, 638, 196, 2], [50, 203, 239, 10, 2359, 4, 1779, 899, 133, 1509, 1510, 2], [145, 10, 4007, 5, 120, 350, 7, 952, 5444, 1753, 2]]\n"
     ]
    }
   ],
   "source": [
    "tar_vocab = 10000\n",
    "tar_tokenizer = Tokenizer(num_words = tar_vocab)\n",
    "tar_tokenizer.fit_on_texts(decoder_input_train)\n",
    "tar_tokenizer.fit_on_texts(decoder_target_train)\n",
    "\n",
    "# 텍스트 시퀀스를 정수 시퀀스로 변환\n",
    "decoder_input_train = tar_tokenizer.texts_to_sequences(decoder_input_train)\n",
    "decoder_target_train = tar_tokenizer.texts_to_sequences(decoder_target_train)\n",
    "decoder_input_test = tar_tokenizer.texts_to_sequences(decoder_input_test)\n",
    "decoder_target_test = tar_tokenizer.texts_to_sequences(decoder_target_test)\n",
    "\n",
    "print('input')\n",
    "print('input', decoder_input_train[:5])\n",
    "print('target')\n",
    "print('decoder', decoder_target_train[:5])"
   ]
  },
  {
   "cell_type": "code",
   "execution_count": 33,
   "metadata": {},
   "outputs": [
    {
     "name": "stdout",
     "output_type": "stream",
     "text": [
      "삭제할 훈련 데이터의 개수 : 0\n",
      "삭제할 테스트 데이터의 개수 : 0\n",
      "훈련 데이터의 개수 : 78537\n",
      "훈련 레이블의 개수 : 78537\n",
      "테스트 데이터의 개수 : 19634\n",
      "테스트 레이블의 개수 : 19634\n"
     ]
    }
   ],
   "source": [
    "drop_train = [index for index, sentence in enumerate(decoder_input_train) if len(sentence) == 1]\n",
    "drop_test = [index for index, sentence in enumerate(decoder_input_test) if len(sentence) == 1]\n",
    "\n",
    "print('삭제할 훈련 데이터의 개수 :',len(drop_train))\n",
    "print('삭제할 테스트 데이터의 개수 :',len(drop_test))\n",
    "\n",
    "encoder_input_train = np.delete(encoder_input_train, drop_train, axis=0)\n",
    "decoder_input_train = np.delete(decoder_input_train, drop_train, axis=0)\n",
    "decoder_target_train = np.delete(decoder_target_train, drop_train, axis=0)\n",
    "\n",
    "encoder_input_test = np.delete(encoder_input_test, drop_test, axis=0)\n",
    "decoder_input_test = np.delete(decoder_input_test, drop_test, axis=0)\n",
    "decoder_target_test = np.delete(decoder_target_test, drop_test, axis=0)\n",
    "\n",
    "print('훈련 데이터의 개수 :', len(encoder_input_train))\n",
    "print('훈련 레이블의 개수 :',len(decoder_input_train))\n",
    "print('테스트 데이터의 개수 :',len(encoder_input_test))\n",
    "print('테스트 레이블의 개수 :',len(decoder_input_test))"
   ]
  },
  {
   "cell_type": "code",
   "execution_count": 34,
   "metadata": {},
   "outputs": [],
   "source": [
    "encoder_input_train = pad_sequences(encoder_input_train, maxlen = text_max_len, padding='post')\n",
    "encoder_input_test = pad_sequences(encoder_input_test, maxlen = text_max_len, padding='post')\n",
    "decoder_input_train = pad_sequences(decoder_input_train, maxlen = summary_max_len, padding='post')\n",
    "decoder_target_train = pad_sequences(decoder_target_train, maxlen = summary_max_len, padding='post')\n",
    "decoder_input_test = pad_sequences(decoder_input_test, maxlen = summary_max_len, padding='post')\n",
    "decoder_target_test = pad_sequences(decoder_target_test, maxlen = summary_max_len, padding='post')"
   ]
  },
  {
   "cell_type": "code",
   "execution_count": 35,
   "metadata": {},
   "outputs": [
    {
     "name": "stdout",
     "output_type": "stream",
     "text": [
      "WARNING:tensorflow:Layer lstm will not use cuDNN kernel since it doesn't meet the cuDNN kernel criteria. It will use generic GPU kernel as fallback when running on GPU\n",
      "WARNING:tensorflow:Layer lstm_1 will not use cuDNN kernel since it doesn't meet the cuDNN kernel criteria. It will use generic GPU kernel as fallback when running on GPU\n",
      "WARNING:tensorflow:Layer lstm_2 will not use cuDNN kernel since it doesn't meet the cuDNN kernel criteria. It will use generic GPU kernel as fallback when running on GPU\n"
     ]
    }
   ],
   "source": [
    "from tensorflow.keras.layers import Input, LSTM, Embedding, Dense, Concatenate\n",
    "from tensorflow.keras.models import Model\n",
    "from tensorflow.keras.callbacks import EarlyStopping, ModelCheckpoint\n",
    "\n",
    "\n",
    "# 인코더 설계 시작\n",
    "embedding_dim = 128\n",
    "hidden_size = 256\n",
    "\n",
    "# 인코더\n",
    "encoder_inputs = Input(shape=(text_max_len,))\n",
    "\n",
    "# 인코더의 임베딩 층\n",
    "enc_emb = Embedding(src_vocab, embedding_dim)(encoder_inputs)\n",
    "\n",
    "# 인코더의 LSTM 1\n",
    "encoder_lstm1 = LSTM(hidden_size, return_sequences=True, return_state=True ,dropout = 0.4, recurrent_dropout = 0.4)\n",
    "encoder_output1, state_h1, state_c1 = encoder_lstm1(enc_emb)\n",
    "\n",
    "# 인코더의 LSTM 2\n",
    "encoder_lstm2 = LSTM(hidden_size, return_sequences=True, return_state=True, dropout=0.4, recurrent_dropout=0.4)\n",
    "encoder_output2, state_h2, state_c2 = encoder_lstm2(encoder_output1)\n",
    "\n",
    "# 인코더의 LSTM 3\n",
    "encoder_lstm3 = LSTM(hidden_size, return_state=True, return_sequences=True, dropout=0.4, recurrent_dropout=0.4)\n",
    "encoder_outputs, state_h, state_c= encoder_lstm3(encoder_output2)"
   ]
  },
  {
   "cell_type": "code",
   "execution_count": 36,
   "metadata": {},
   "outputs": [
    {
     "name": "stdout",
     "output_type": "stream",
     "text": [
      "WARNING:tensorflow:Layer lstm_3 will not use cuDNN kernel since it doesn't meet the cuDNN kernel criteria. It will use generic GPU kernel as fallback when running on GPU\n"
     ]
    }
   ],
   "source": [
    "# 디코더 설계\n",
    "\n",
    "decoder_inputs = Input(shape=(None,))\n",
    "\n",
    "# 디코더의 임베딩 층\n",
    "dec_emb_layer = Embedding(tar_vocab, embedding_dim)\n",
    "dec_emb = dec_emb_layer(decoder_inputs)\n",
    "\n",
    "# 디코더의 LSTM\n",
    "decoder_lstm = LSTM(hidden_size, return_sequences = True, return_state = True, dropout = 0.4, recurrent_dropout=0.2)\n",
    "decoder_outputs, _, _ = decoder_lstm(dec_emb, initial_state = [state_h, state_c])\n"
   ]
  },
  {
   "cell_type": "code",
   "execution_count": 37,
   "metadata": {},
   "outputs": [
    {
     "name": "stdout",
     "output_type": "stream",
     "text": [
      "Model: \"functional_1\"\n",
      "__________________________________________________________________________________________________\n",
      "Layer (type)                    Output Shape         Param #     Connected to                     \n",
      "==================================================================================================\n",
      "input_1 (InputLayer)            [(None, 46)]         0                                            \n",
      "__________________________________________________________________________________________________\n",
      "embedding (Embedding)           (None, 46, 128)      2816000     input_1[0][0]                    \n",
      "__________________________________________________________________________________________________\n",
      "lstm (LSTM)                     [(None, 46, 256), (N 394240      embedding[0][0]                  \n",
      "__________________________________________________________________________________________________\n",
      "input_2 (InputLayer)            [(None, None)]       0                                            \n",
      "__________________________________________________________________________________________________\n",
      "lstm_1 (LSTM)                   [(None, 46, 256), (N 525312      lstm[0][0]                       \n",
      "__________________________________________________________________________________________________\n",
      "embedding_1 (Embedding)         (None, None, 128)    1280000     input_2[0][0]                    \n",
      "__________________________________________________________________________________________________\n",
      "lstm_2 (LSTM)                   [(None, 46, 256), (N 525312      lstm_1[0][0]                     \n",
      "__________________________________________________________________________________________________\n",
      "lstm_3 (LSTM)                   [(None, None, 256),  394240      embedding_1[0][0]                \n",
      "                                                                 lstm_2[0][1]                     \n",
      "                                                                 lstm_2[0][2]                     \n",
      "__________________________________________________________________________________________________\n",
      "dense (Dense)                   (None, None, 10000)  2570000     lstm_3[0][0]                     \n",
      "==================================================================================================\n",
      "Total params: 8,505,104\n",
      "Trainable params: 8,505,104\n",
      "Non-trainable params: 0\n",
      "__________________________________________________________________________________________________\n"
     ]
    }
   ],
   "source": [
    "# 디코더의 출력층\n",
    "decoder_softmax_layer = Dense(tar_vocab, activation = 'softmax')\n",
    "decoder_softmax_outputs = decoder_softmax_layer(decoder_outputs) \n",
    "\n",
    "# 모델 정의\n",
    "model = Model([encoder_inputs, decoder_inputs], decoder_softmax_outputs)\n",
    "model.summary()"
   ]
  },
  {
   "cell_type": "markdown",
   "metadata": {},
   "source": [
    "### Step 3. 어텐션 메커니즘 사용하기 (추상적 요약)"
   ]
  },
  {
   "cell_type": "code",
   "execution_count": 38,
   "metadata": {},
   "outputs": [],
   "source": [
    "urllib.request.urlretrieve(\"https://raw.githubusercontent.com/thushv89/attention_keras/master/src/layers/attention.py\", filename=\"attention.py\")\n",
    "from attention import AttentionLayer"
   ]
  },
  {
   "cell_type": "code",
   "execution_count": 39,
   "metadata": {},
   "outputs": [
    {
     "name": "stdout",
     "output_type": "stream",
     "text": [
      "Model: \"functional_3\"\n",
      "__________________________________________________________________________________________________\n",
      "Layer (type)                    Output Shape         Param #     Connected to                     \n",
      "==================================================================================================\n",
      "input_1 (InputLayer)            [(None, 46)]         0                                            \n",
      "__________________________________________________________________________________________________\n",
      "embedding (Embedding)           (None, 46, 128)      2816000     input_1[0][0]                    \n",
      "__________________________________________________________________________________________________\n",
      "lstm (LSTM)                     [(None, 46, 256), (N 394240      embedding[0][0]                  \n",
      "__________________________________________________________________________________________________\n",
      "input_2 (InputLayer)            [(None, None)]       0                                            \n",
      "__________________________________________________________________________________________________\n",
      "lstm_1 (LSTM)                   [(None, 46, 256), (N 525312      lstm[0][0]                       \n",
      "__________________________________________________________________________________________________\n",
      "embedding_1 (Embedding)         (None, None, 128)    1280000     input_2[0][0]                    \n",
      "__________________________________________________________________________________________________\n",
      "lstm_2 (LSTM)                   [(None, 46, 256), (N 525312      lstm_1[0][0]                     \n",
      "__________________________________________________________________________________________________\n",
      "lstm_3 (LSTM)                   [(None, None, 256),  394240      embedding_1[0][0]                \n",
      "                                                                 lstm_2[0][1]                     \n",
      "                                                                 lstm_2[0][2]                     \n",
      "__________________________________________________________________________________________________\n",
      "attention_layer (AttentionLayer ((None, None, 256),  131328      lstm_2[0][0]                     \n",
      "                                                                 lstm_3[0][0]                     \n",
      "__________________________________________________________________________________________________\n",
      "concat_layer (Concatenate)      (None, None, 512)    0           lstm_3[0][0]                     \n",
      "                                                                 attention_layer[0][0]            \n",
      "__________________________________________________________________________________________________\n",
      "dense_1 (Dense)                 (None, None, 10000)  5130000     concat_layer[0][0]               \n",
      "==================================================================================================\n",
      "Total params: 11,196,432\n",
      "Trainable params: 11,196,432\n",
      "Non-trainable params: 0\n",
      "__________________________________________________________________________________________________\n"
     ]
    }
   ],
   "source": [
    "# 어텐션 층(어텐션 함수)\n",
    "attn_layer = AttentionLayer(name='attention_layer')\n",
    "# 인코더와 디코더의 모든 time step의 hidden state를 어텐션 층에 전달하고 결과를 리턴\n",
    "attn_out, attn_states = attn_layer([encoder_outputs, decoder_outputs])\n",
    "\n",
    "# 어텐션의 결과와 디코더의 hidden state들을 연결\n",
    "decoder_concat_input = Concatenate(axis = -1, name='concat_layer')([decoder_outputs, attn_out])\n",
    "\n",
    "# 디코더의 출력층\n",
    "decoder_softmax_layer = Dense(tar_vocab, activation='softmax')\n",
    "decoder_softmax_outputs = decoder_softmax_layer(decoder_concat_input)\n",
    "\n",
    "# 모델 정의\n",
    "model = Model([encoder_inputs, decoder_inputs], decoder_softmax_outputs)\n",
    "model.summary()"
   ]
  },
  {
   "cell_type": "code",
   "execution_count": 40,
   "metadata": {
    "scrolled": false
   },
   "outputs": [
    {
     "name": "stdout",
     "output_type": "stream",
     "text": [
      "Epoch 1/50\n",
      "307/307 [==============================] - 105s 342ms/step - loss: 4.8755 - val_loss: 4.5035\n",
      "Epoch 2/50\n",
      "307/307 [==============================] - 103s 334ms/step - loss: 4.3606 - val_loss: 4.1665\n",
      "Epoch 3/50\n",
      "307/307 [==============================] - 103s 334ms/step - loss: 4.0491 - val_loss: 3.9329\n",
      "Epoch 4/50\n",
      "307/307 [==============================] - 103s 334ms/step - loss: 3.8195 - val_loss: 3.7632\n",
      "Epoch 5/50\n",
      "307/307 [==============================] - 102s 331ms/step - loss: 3.6421 - val_loss: 3.6394\n",
      "Epoch 6/50\n",
      "307/307 [==============================] - 102s 331ms/step - loss: 3.4928 - val_loss: 3.5334\n",
      "Epoch 7/50\n",
      "307/307 [==============================] - 102s 331ms/step - loss: 3.3636 - val_loss: 3.4460\n",
      "Epoch 8/50\n",
      "307/307 [==============================] - 102s 333ms/step - loss: 3.2485 - val_loss: 3.3788\n",
      "Epoch 9/50\n",
      "307/307 [==============================] - 102s 334ms/step - loss: 3.1508 - val_loss: 3.3191\n",
      "Epoch 10/50\n",
      "307/307 [==============================] - 103s 334ms/step - loss: 3.0641 - val_loss: 3.2716\n",
      "Epoch 11/50\n",
      "307/307 [==============================] - 103s 334ms/step - loss: 2.9873 - val_loss: 3.2389\n",
      "Epoch 12/50\n",
      "307/307 [==============================] - 102s 332ms/step - loss: 2.9149 - val_loss: 3.2106\n",
      "Epoch 13/50\n",
      "307/307 [==============================] - 102s 331ms/step - loss: 2.8507 - val_loss: 3.1829\n",
      "Epoch 14/50\n",
      "307/307 [==============================] - 102s 331ms/step - loss: 2.7948 - val_loss: 3.1603\n",
      "Epoch 15/50\n",
      "307/307 [==============================] - 102s 331ms/step - loss: 2.7407 - val_loss: 3.1390\n",
      "Epoch 16/50\n",
      "307/307 [==============================] - 102s 331ms/step - loss: 2.6920 - val_loss: 3.1303\n",
      "Epoch 17/50\n",
      "307/307 [==============================] - 102s 331ms/step - loss: 2.6462 - val_loss: 3.1158\n",
      "Epoch 18/50\n",
      "307/307 [==============================] - 102s 331ms/step - loss: 2.6029 - val_loss: 3.0998\n",
      "Epoch 19/50\n",
      "307/307 [==============================] - 102s 331ms/step - loss: 2.5666 - val_loss: 3.0905\n",
      "Epoch 20/50\n",
      "307/307 [==============================] - 102s 331ms/step - loss: 2.5317 - val_loss: 3.0828\n",
      "Epoch 21/50\n",
      "307/307 [==============================] - 102s 331ms/step - loss: 2.4971 - val_loss: 3.0740\n",
      "Epoch 22/50\n",
      "307/307 [==============================] - 102s 332ms/step - loss: 2.4650 - val_loss: 3.0612\n",
      "Epoch 23/50\n",
      "307/307 [==============================] - 103s 335ms/step - loss: 2.4344 - val_loss: 3.0597\n",
      "Epoch 24/50\n",
      "307/307 [==============================] - 103s 335ms/step - loss: 2.4043 - val_loss: 3.0560\n",
      "Epoch 25/50\n",
      "307/307 [==============================] - 103s 335ms/step - loss: 2.3735 - val_loss: 3.0520\n",
      "Epoch 26/50\n",
      "307/307 [==============================] - 102s 332ms/step - loss: 2.3431 - val_loss: 3.0485\n",
      "Epoch 27/50\n",
      "307/307 [==============================] - 103s 334ms/step - loss: 2.3172 - val_loss: 3.0443\n",
      "Epoch 28/50\n",
      "307/307 [==============================] - 103s 334ms/step - loss: 2.2932 - val_loss: 3.0390\n",
      "Epoch 29/50\n",
      "307/307 [==============================] - 103s 337ms/step - loss: 2.2704 - val_loss: 3.0346\n",
      "Epoch 30/50\n",
      "307/307 [==============================] - 102s 333ms/step - loss: 2.2488 - val_loss: 3.0366\n",
      "Epoch 31/50\n",
      "307/307 [==============================] - 102s 332ms/step - loss: 2.2275 - val_loss: 3.0361\n",
      "Epoch 00031: early stopping\n"
     ]
    }
   ],
   "source": [
    "model.compile(optimizer='rmsprop', loss='sparse_categorical_crossentropy')\n",
    "es = EarlyStopping(monitor='val_loss', mode='min', verbose=1, patience = 2)\n",
    "history = model.fit(x = [encoder_input_train, decoder_input_train], y = decoder_target_train, \\\n",
    "          validation_data = ([encoder_input_test, decoder_input_test], decoder_target_test),\n",
    "          batch_size = 256, callbacks=[es], epochs = 50)"
   ]
  },
  {
   "cell_type": "code",
   "execution_count": 41,
   "metadata": {},
   "outputs": [
    {
     "data": {
      "image/png": "[encoded data removed]",
      "text/plain": [
       "<Figure size 432x288 with 1 Axes>"
      ]
     },
     "metadata": {
      "needs_background": "light"
     },
     "output_type": "display_data"
    }
   ],
   "source": [
    "plt.plot(history.history['loss'], label='train')\n",
    "plt.plot(history.history['val_loss'], label='test')\n",
    "plt.legend()\n",
    "plt.show()"
   ]
  },
  {
   "cell_type": "code",
   "execution_count": 42,
   "metadata": {},
   "outputs": [],
   "source": [
    "src_index_to_word = src_tokenizer.index_word # 원문 단어 집합에서 정수 -> 단어를 얻음\n",
    "tar_word_to_index = tar_tokenizer.word_index # 요약 단어 집합에서 단어 -> 정수를 얻음\n",
    "tar_index_to_word = tar_tokenizer.index_word # 요약 단어 집합에서 정수 -> 단어를 얻음\n"
   ]
  },
  {
   "cell_type": "code",
   "execution_count": 43,
   "metadata": {},
   "outputs": [],
   "source": [
    "# 인코더 설계\n",
    "encoder_model = Model(inputs=encoder_inputs, outputs=[encoder_outputs, state_h, state_c])\n",
    "\n",
    "# 이전 시점의 상태들을 저장하는 텐서\n",
    "decoder_state_input_h = Input(shape=(hidden_size,))\n",
    "decoder_state_input_c = Input(shape=(hidden_size,))\n",
    "\n",
    "dec_emb2 = dec_emb_layer(decoder_inputs)\n",
    "# 문장의 다음 단어를 예측하기 위해서 초기 상태(initial_state)를 이전 시점의 상태로 사용. 이는 뒤의 함수 decode_sequence()에 구현\n",
    "# 훈련 과정에서와 달리 LSTM의 리턴하는 은닉 상태와 셀 상태인 state_h와 state_c를 버리지 않음.\n",
    "decoder_outputs2, state_h2, state_c2 = decoder_lstm(dec_emb2, initial_state=[decoder_state_input_h, decoder_state_input_c])"
   ]
  },
  {
   "cell_type": "code",
   "execution_count": 44,
   "metadata": {},
   "outputs": [],
   "source": [
    "# 어텐션 함수\n",
    "decoder_hidden_state_input = Input(shape=(text_max_len, hidden_size))\n",
    "attn_out_inf, attn_states_inf = attn_layer([decoder_hidden_state_input, decoder_outputs2])\n",
    "decoder_inf_concat = Concatenate(axis=-1, name='concat')([decoder_outputs2, attn_out_inf])\n",
    "\n",
    "# 디코더의 출력층#\n",
    "decoder_outputs2 = decoder_softmax_layer(decoder_inf_concat) \n",
    "\n",
    "# 최종 디코더 모델\n",
    "decoder_model = Model(\n",
    "    [decoder_inputs] + [decoder_hidden_state_input,decoder_state_input_h, decoder_state_input_c],\n",
    "    [decoder_outputs2] + [state_h2, state_c2])"
   ]
  },
  {
   "cell_type": "code",
   "execution_count": 45,
   "metadata": {},
   "outputs": [],
   "source": [
    "def decode_sequence(input_seq):\n",
    "    # 입력으로부터 인코더의 상태를 얻음\n",
    "    e_out, e_h, e_c = encoder_model.predict(input_seq)\n",
    "\n",
    "     # <SOS>에 해당하는 토큰 생성\n",
    "    target_seq = np.zeros((1,1))\n",
    "    target_seq[0, 0] = tar_word_to_index['sostoken']\n",
    "\n",
    "    stop_condition = False\n",
    "    decoded_sentence = ''\n",
    "    while not stop_condition: # stop_condition이 True가 될 때까지 루프 반복\n",
    "\n",
    "        output_tokens, h, c = decoder_model.predict([target_seq] + [e_out, e_h, e_c])\n",
    "        sampled_token_index = np.argmax(output_tokens[0, -1, :])\n",
    "        sampled_token = tar_index_to_word[sampled_token_index]\n",
    "\n",
    "        if(sampled_token!='eostoken'):\n",
    "            decoded_sentence += ' '+sampled_token\n",
    "\n",
    "        #  <eos>에 도달하거나 최대 길이를 넘으면 중단.\n",
    "        if (sampled_token == 'eostoken'  or len(decoded_sentence.split()) >= (summary_max_len-1)):\n",
    "            stop_condition = True\n",
    "\n",
    "        # 길이가 1인 타겟 시퀀스를 업데이트\n",
    "        target_seq = np.zeros((1,1))\n",
    "        target_seq[0, 0] = sampled_token_index\n",
    "\n",
    "        # 상태를 업데이트 합니다.\n",
    "        e_h, e_c = h, c\n",
    "\n",
    "    return decoded_sentence"
   ]
  },
  {
   "cell_type": "code",
   "execution_count": 46,
   "metadata": {},
   "outputs": [],
   "source": [
    "# 원문의 정수 시퀀스를 텍스트 시퀀스로 변환\n",
    "def seq2text(input_seq):\n",
    "    temp=''\n",
    "    for i in input_seq:\n",
    "        if(i!=0):\n",
    "            temp = temp + src_index_to_word[i]+' '\n",
    "    return temp\n",
    "\n",
    "# 요약문의 정수 시퀀스를 텍스트 시퀀스로 변환\n",
    "def seq2summary(input_seq):\n",
    "    temp=''\n",
    "    for i in input_seq:\n",
    "        if((i!=0 and i!=tar_word_to_index['sostoken']) and i!=tar_word_to_index['eostoken']):\n",
    "            temp = temp + tar_index_to_word[i] + ' '\n",
    "    return temp"
   ]
  },
  {
   "cell_type": "markdown",
   "metadata": {},
   "source": [
    "### Step 4. 실제 결과와 요약문 비교하기 (추상적 요약)"
   ]
  },
  {
   "cell_type": "code",
   "execution_count": 47,
   "metadata": {
    "scrolled": false
   },
   "outputs": [
    {
     "name": "stdout",
     "output_type": "stream",
     "text": [
      "원문 : pm narendra modi saturday took twitter thank fifa president gianni infantino gifting football jersey read modi impossible come argentina think football argentinian players popular india pm modi wrote gone attend summit buenos aires \n",
      "실제 요약 : pm modi thanks fifa president for modi football jersey \n",
      "예측 요약 :  pm modi prez kovind thanks pm modi for fifa world cup\n",
      "\n",
      "\n",
      "원문 : actress sonam kapoor shared picture child dressed comic actor charlie sonam captioned picture little girls wanted wanted charlie posted picture occasion th birth anniversary observed sunday \n",
      "실제 요약 : girls wanted to be wanted to be sonam \n",
      "예측 요약 :  sonam shares pic of sonam kapoor from her home\n",
      "\n",
      "\n",
      "원문 : india virat kohli pakistan sarfraz ahmed led india pakistan respectively world cup victories sarfraz captained pakistani team defeated india final edition virat led indian team victory captaining senior team first time icc tournament final \n",
      "실제 요약 : kohli sarfraz both have led india pakistan to wc wins \n",
      "예측 요약 :  kohli to miss world xi team for nd time in world cup\n",
      "\n",
      "\n",
      "원문 : bengaluru based apparel seller rajdhani cotton filed petition commissioner police delhi snapdeal founders kunal bahl rohit bansal alleging non payment lakh seller alleged snapdeal withheld payments fraudulent manner seller alleged crore members left due snapdeal \n",
      "실제 요약 : police complaint against snapdeal for non payment of \n",
      "예측 요약 :  bengaluru based app to snapdeal for founders\n",
      "\n",
      "\n",
      "원문 : mcafee researchers discovered microsoft digital assistant used hack computers running windows operating system found could activated used deploy malicious software reset windows account password locked device however execute attack hacker would need physical access pc researchers claimed \n",
      "실제 요약 : microsoft can be used to hack pcs say researchers \n",
      "예측 요약 :  microsoft developing ai that can find users control\n",
      "\n",
      "\n",
      "원문 : unveiling new strategy afghanistan us president donald trump monday committed country military fight taliban afghanistan year old conflict us continue involvement afghan war order honour us soldiers died since stop afghanistan becoming terrorists trump added nnnnn \n",
      "실제 요약 : trump commits us military to fight taliban in afghanistan \n",
      "예측 요약 :  trump afghan taliban attack on afghan war\n",
      "\n",
      "\n",
      "원문 : congress rjd single largest parties goa bihar appealed states governors seeking form government citing situation karnataka bjp allies invited form goa government proved majority bihar congress rjd jd alliance ended year allowing bjp jd form government \n",
      "실제 요약 : single largest parties in goa bihar seek to form govts \n",
      "예측 요약 :  jd jd jd to form karnataka govt jd in taka\n",
      "\n",
      "\n",
      "원문 : government monday imposed import duty three key smartphone components view boost domestic manufacturing components camera modules phones printed circuit board assembly earlier budget government raised import duty mobile phones \n",
      "실제 요약 : govt imposes tax on import of key smartphone \n",
      "예측 요약 :  govt plans to use govt to plant on phone\n",
      "\n",
      "\n",
      "원문 : us president donald trump questioned india pakistan russia fighting taliban afghanistan purportedly referring military presence country although countries sending troops afghanistan us militaries billions dollars added questioned us afghanistan miles away \n",
      "실제 요약 : why is not india fighting taliban in afghanistan asks trump \n",
      "예측 요약 :  trump calls us for afghan troops on us strike\n",
      "\n",
      "\n",
      "원문 : puducherry lieutenant governor kiran bedi hit back union territory leaders saying work falls responsibility designated lg well administrator said adding elected representatives refused cooperate efforts puducherry assembly recently passed resolution limiting powers \n",
      "실제 요약 : kiran bedi hits back at resolution her powers \n",
      "예측 요약 :  bedi should not be an force bedi on\n",
      "\n",
      "\n",
      "원문 : saudi arabia monday scored th minute winner egypt group match two eliminated teams end match streak world cup record first wc victory since match witnessed egyptian goalkeeper el aged years days become oldest player play world cup \n",
      "실제 요약 : th min goal helps saudi arabia win st wc game since \n",
      "예측 요약 :  saudi arabia st to win th straight match in history\n",
      "\n",
      "\n",
      "원문 : two malaysian women convicted attempting lesbian sex car sharia high court monday women pleaded guilty last month sentenced fine six cane lesbian gay bisexual transgender community seen threat conservative values muslim majority malaysia \n",
      "실제 요약 : malaysian women in court for attempting lesbian sex \n",
      "예측 요약 :  women jailed for sex with female sex in women\n",
      "\n",
      "\n",
      "원문 : british comedian jimmy suggested tweet new zealand oldest city needs earthquake look beautiful gave examples cities napier christchurch rebuilt earthquakes internet users branded comedian insensitive tweet disrespecting died earthquakes country \n",
      "실제 요약 : uk comedian suggests nz city needs quake to look beautiful \n",
      "예측 요약 :  twitter mocks man who called the world\n",
      "\n",
      "\n",
      "원문 : cabinet wednesday approved creation national bench goods services tax appellate tribunal tribunal forum second appeal gst laws first common forum dispute resolution centre states presided president comprise one technical member centre states \n",
      "실제 요약 : cabinet approves creation of national bench of \n",
      "예측 요약 :  cabinet approves new year old filing tax returns\n",
      "\n",
      "\n",
      "원문 : southwest airlines flight forced make emergency landing united states florida suspicious smell reported back plane cabin crew passengers taken plane flight resumed cabin checked smell found coming coffee maker cabin \n",
      "실제 요약 : coffee machine forces flight to make emergency landing \n",
      "예측 요약 :  flight makes emergency landing after landing\n",
      "\n",
      "\n",
      "원문 : alia bhatt currently dating actor ranbir kapoor revealed first met years old auditioned black since crush came already seen added couple started dating around new year eve last year said reports \n",
      "실제 요약 : met ranbir when was since then had crush on him alia \n",
      "예측 요약 :  alia bhatt is the first ever ever dating alia bhatt\n",
      "\n",
      "\n",
      "원문 : talking priyanka chopra exit bharat salman khan said sweet tell us five days shoot could bharat revealed katrina kaif producer atul agnihotri first choice priyanka called ali said wanted bharat considered added salman \n",
      "실제 요약 : of priyanka to tell us days before shoot salman on her exit \n",
      "예측 요약 :  salman khan is not in my film shoot salman khan\n",
      "\n",
      "\n",
      "원문 : delhi government planning introduce open roof electric buses city tours coming months along audio visual commentary system gps enabled buses also professional guides explaining historical importance various sites tourists buses likely replace hop hop buses launched commonwealth games \n",
      "실제 요약 : delhi govt to launch open roof electric buses for city tours \n",
      "예측 요약 :  delhi govt to get electric buses to get electric buses\n",
      "\n",
      "\n",
      "원문 : olympic gold medalist nadia com first ever gymnast achieve perfect score gymnastics olympics hailed dipa karmakar introducing sport india great see gymnast like dipa able inspire generation country talking cricket com said interview \n",
      "실제 요약 : legend hails dipa impact on gymnastics in india \n",
      "예측 요약 :  gold medalist becomes st olympic gold winner\n",
      "\n",
      "\n",
      "원문 : bs yeddyurappa saturday resigned hours taking oath karnataka cm ahead floor test lose nothing lose power life people said resigning adding failed get majority support heading governor vala residence submit resignation \n",
      "실제 요약 : karnataka cm yeddyurappa resigns before floor test \n",
      "예측 요약 :  taka cm breaks out of seat to quit after polls\n",
      "\n",
      "\n",
      "원문 : deepika rajawat lawyer representing kathua rape murder victim family said know long live adding raped killed damaged claiming danger deepika said told forgiven earlier alleged jammu bar association president bs openly threatened court \n",
      "실제 요약 : am in danger can be raped killed kathua victim lawyer \n",
      "예측 요약 :  kathua rape accused of kathua rape victim lawyer\n",
      "\n",
      "\n",
      "원문 : indian citizenship granted displaced pakistani hindus living rajasthan udaipur district several years reportedly people pakistan sindhi community applied indian citizenship remaining soon acquire indian citizenship process completed subhash chand sharma administered oath indian citizenship people \n",
      "실제 요약 : pakistani hindus acquire indian citizenship in rajasthan \n",
      "예측 요약 :  india to get lakh for pak army jawan from loc\n",
      "\n",
      "\n",
      "원문 : recently inducted central board film certification chairman prasoon joshi shared poem wrote facebook following recent cases child abuse india rampant cases child abuse shaken soul cannot let happen anymore wrote joshi sharing poem written hindi poem tragedy lost childhood \n",
      "실제 요약 : prasoon joshi shares poem following cases of child abuse \n"
     ]
    },
    {
     "name": "stdout",
     "output_type": "stream",
     "text": [
      "예측 요약 :  media is not to be held for sexual abuse allegations cbfc chairman\n",
      "\n",
      "\n",
      "원문 : speaking metoo movement india filmmaker karan johar said movement led tremendous accountability environment occupy feminist hear incidents makes stomach filmmaker added karan said respecting women always important \n",
      "실제 요약 : metoo movement led to tremendous karan \n",
      "예측 요약 :  metoo movement are not being used to be karan johar\n",
      "\n",
      "\n",
      "원문 : former jammu kashmir cm omar abdullah friday shared video purportedly showing man tied front army jeep ensure stones thrown jeep requires urgent inquiry tweeted meanwhile corps indian army tweeted contents video verified investigated \n",
      "실제 요약 : omar shares video of man tied to front of army jeep in \n",
      "예측 요약 :  omar abdullah shares video of him with him\n",
      "\n",
      "\n",
      "원문 : telangana chief minister chandrashekar rao announced state distribute sarees one crore women ration shops regional festival rao said sarees acquired handloom power sectors distributed poor women communities castes \n",
      "실제 요약 : telangana government to gift sarees to one crore women \n",
      "예측 요약 :  telangana announces lakh for women\n",
      "\n",
      "\n",
      "원문 : needing nothing less win last round world cup group stage argentina captain broke deadlock th minute right footed finish nigeria tuesday messi first goal year edition world tournament going goalless first two matches included missed penalty \n",
      "실제 요약 : watch messi score his first goal at the world cup \n",
      "예측 요약 :  india lose th straight wc final goal in years\n",
      "\n",
      "\n",
      "원문 : indian tennis star mahesh bhupathi named indian davis cup team non playing captain former doubles partner leander paes included squad upcoming davis cup match uzbekistan duo differences past playing alongside bhambri rohan bopanna among others \n",
      "실제 요약 : bhupathi named india non playing captain paes in squad \n",
      "예측 요약 :  india st indian captain to win in icc\n",
      "\n",
      "\n",
      "원문 : ranveer singh said school friends find top style made seen since beginning always pushing style envelope even fourth standard added said see remarks report cards add things loves entertain \n",
      "실제 요약 : always pushed style even in th standard ranveer \n",
      "예측 요약 :  ranveer is the reason for the world ranveer\n",
      "\n",
      "\n",
      "원문 : north korea saturday said never give nuclear weapons long us continues blackmail war drills near country added north korea entity power cannot undermined us conducted several military naval drills near north korea year nuclear programme \n",
      "실제 요약 : will never give up nukes if us continues blackmail korea \n",
      "예측 요약 :  korea will not have to build nuclear weapons korea\n",
      "\n",
      "\n",
      "원문 : following summit canada us president donald trump called canadian prime minister justin trudeau dishonest weak remarks tariffs imposed us metal imports canada trudeau acted mild said trump also said us sign previously agreed summit \n",
      "실제 요약 : trump calls trudeau weak refuses to statement \n",
      "예측 요약 :  trudeau trudeau trudeau meeting trudeau meeting us envoy\n",
      "\n",
      "\n",
      "원문 : ryan reynolds starrer superhero film deadpool set release june per production house fox film also stars josh cable set portray character domino directed david leitch film sequel film deadpool \n",
      "실제 요약 : ryan reynolds deadpool set to release on june \n",
      "예측 요약 :  deadpool to launch deadpool in deadpool reports\n",
      "\n",
      "\n",
      "원문 : office boy digital payment company paytm made lakh recently conducted stock sale wherein around employees sold shares worth crore stock sale also saw employees make crore sale made paytm second valuable internet startup india valuation billion \n",
      "실제 요약 : paytm office boy makes lakh after selling his stock \n",
      "예측 요약 :  paytm parent loses lakh in day after losing crore\n",
      "\n",
      "\n",
      "원문 : former indian captain sourav ganguly named skipper cricket australia greatest champions trophy xi also features ex indian captain rahul dravid wicketkeeper two indians team include sachin tendulkar team features three australians including former players glenn mcgrath shane watson \n",
      "실제 요약 : ganguly leads cricket aus greatest ct xi sachin excluded \n",
      "예측 요약 :  ganguly meets ganguly dravid for champions trophy\n",
      "\n",
      "\n",
      "원문 : sri lankan opposition wednesday submitted confidence motion pm ranil wickremesinghe accusing financial mismanagement failing tackle communal violence happened country earlier month communal violence involved buddhist muslim communities triggered sri lanka impose nation wide state emergency days \n",
      "실제 요약 : sri lanka opposition submits no confidence motion against pm \n",
      "예측 요약 :  sri lanka pm blocks parliament amid clashes\n",
      "\n",
      "\n",
      "원문 : nasa mars reconnaissance orbiter captured mysterious formation mars south pole believed impact crater collapse pit surrounding pit patches frozen carbon dioxide circles formed parts carbon dioxide ice summer leaving swiss cheese terrain nasa said \n",
      "실제 요약 : mysterious formation on mars south pole captured \n",
      "예측 요약 :  nasa image of mars survives\n",
      "\n",
      "\n",
      "원문 : indonesian pop band named seventeen performing live near beach saturday struck tsunami wave triggered volcanic eruption want say bass player bani manager passed away band member said band wife missing incident \n",
      "실제 요약 : tsunami wave hits indonesian pop band concert members missing \n",
      "예측 요약 :  indonesian zoo collapses after rescue stuck in italy\n",
      "\n",
      "\n",
      "원문 : journalist arnab goswami media venture republic tv twitter handle said way teach mallya lesson threatening cut ties uk protect comes mallya granted bail till december uk court tuesday notably mallya owes crore indian banks \n",
      "실제 요약 : cut ties with uk if they protect mallya says arnab goswami \n",
      "예측 요약 :  arnab goswami should not be paid for indians arnab\n",
      "\n",
      "\n",
      "원문 : philippine president rodrigo duterte said oxford university school stupid people duterte statement comes response oxford study claimed paid thousands dollars keyboard trolls support presidential campaign duterte admitted spending money elections said happened campaign elected \n",
      "실제 요약 : oxford is for stupid people philippine prez duterte \n",
      "예측 요약 :  philippine prez duterte calls for sexual harassment\n",
      "\n",
      "\n",
      "원문 : india crude oil import bill likely jump billion weakening rupee made buying oil costlier government officials said india imports oil needs spent billion importing million tonnes crude oil rupee thursday touched time low dollar \n",
      "실제 요약 : india oil import bill may jump by bn due to rupee fall \n",
      "예측 요약 :  india oil oil imports from iran oil imports for cr\n",
      "\n",
      "\n",
      "원문 : india richest person mukesh ambani reliance industries set joint venture estonia look solutions governance space ambani also took residency european nation may year spokesperson estonia residency programme said residents given digital ids open estonian bank accounts form estonian companies \n",
      "실제 요약 : ambani sets up joint venture takes up \n",
      "예측 요약 :  mukesh ambani reliance jio to launch in isro\n",
      "\n",
      "\n",
      "원문 : indian opener shikhar dhawan hit th odi ton became second fastest indian player score odi runs crossing landmark figure third odi sri lanka sunday dhawan lies behind virat kohli list overall fifth fastest player milestone reaching th odi innings \n",
      "실제 요약 : dhawan hits th odi ton nd fastest indian to runs \n",
      "예측 요약 :  dhawan fastest to hit runs in odis in odis\n",
      "\n",
      "\n",
      "원문 : bryan singer directed men films accused raping year old boy yacht lawsuit victim alleged singer told could help get acting say anything incident lawsuit added singer said could hire people capable ruining someone reputation \n",
      "실제 요약 : men director bryan singer accused of raping yr old boy \n",
      "예측 요약 :  rape accused of rape is not yr old girl\n",
      "\n",
      "\n",
      "원문 : defence minister nirmala sitharaman saturday inaugurated bridge leh connecting region northeastern ladakh sitharaman two day visit jammu kashmir called construction roads bridges high altitudes miracle bridge enhance travel locals army region added \n",
      "실제 요약 : defence min nirmala sitharaman inaugurates bridge in \n",
      "예측 요약 :  defence minister inaugurates foot long bridge in kolkata\n",
      "\n",
      "\n",
      "원문 : nineteen year old afghan spinner rashid khan bought crore last year retained sunrisers hyderabad crore ipl auction saturday kings xi punjab placed final bid crore sunrisers exercised right match option retain meanwhile yuzvendra chahal also retained rcb crore \n",
      "실제 요약 : srh retain rashid for cr after buying him for cr in \n",
      "예측 요약 :  who is the most expensive scorer sold for cr\n",
      "\n",
      "\n",
      "원문 : wang founder chairman ceo chinese food delivery neighbourhood services giant meituan dianping saw net worth surge billion company ipo year old owns stake company whose market value reached nearly billion beijing based company raised billion hong kong second biggest technology ipo year xiaomi \n",
      "실제 요약 : yr old chinese founder wealth jumps to bn after ipo \n"
     ]
    },
    {
     "name": "stdout",
     "output_type": "stream",
     "text": [
      "예측 요약 :  ceo ex us ceo net worth bn in value\n",
      "\n",
      "\n",
      "원문 : indian american astrophysicist chandrasekhar showed mass white dwarfs fuel exhausted stars could exceed times sun called chandrasekhar limit chandrasekhar years old proposed stars ending nuclear burning lifetime limit would collapse gravity become neutron star black hole \n",
      "실제 요약 : what is limit which stars evolution \n",
      "예측 요약 :  indian american scientists find of water\n",
      "\n",
      "\n",
      "원문 : th ig nobel prize awards thursday honoured researcher marc antoine paper cat solid liquid inspired photos cats inside glasses awards recognise unusual accomplishments science awarded researchers discovering female penis male vagina cave insect among others \n",
      "실제 요약 : nobel prize awarded for if cat is solid liquid \n",
      "예측 요약 :  nobel laureate wins nobel prize at women awards\n",
      "\n",
      "\n",
      "원문 : man gwalior arrested allegedly luring girl ice cream raping killing accused gatecrashed wedding drunken state eat free food kidnapped girl cctv footage area shows accused taking girl away secluded location \n",
      "실제 요약 : man girl at wedding with ice cream rapes kills her \n",
      "예측 요약 :  man arrested for raping year old girl in bottle\n",
      "\n",
      "\n",
      "원문 : stating opposition suffers bjp president amit shah monday said pm narendra modi engaged make india opposition parties attempting break india modiji says opposition says modi opposition agenda added shah also slammed bjd years odisha public meeting \n",
      "실제 요약 : says opp says modi amit shah \n",
      "예측 요약 :  pm modi wants to support india to support pm modi amit shah\n",
      "\n",
      "\n"
     ]
    }
   ],
   "source": [
    "for i in range(50, 100):\n",
    "    print(\"원문 :\", seq2text(encoder_input_test[i]))\n",
    "    print(\"실제 요약 :\", seq2summary(decoder_input_test[i]))\n",
    "    print(\"예측 요약 :\", decode_sequence(encoder_input_test[i].reshape(1, text_max_len)))\n",
    "    print(\"\\n\")"
   ]
  },
  {
   "cell_type": "markdown",
   "metadata": {},
   "source": [
    "### Step 5. Summa를 이용해서 추출적 요약해보기"
   ]
  },
  {
   "cell_type": "code",
   "execution_count": 48,
   "metadata": {},
   "outputs": [],
   "source": [
    "import requests\n",
    "from summa.summarizer import summarize"
   ]
  },
  {
   "cell_type": "code",
   "execution_count": 66,
   "metadata": {},
   "outputs": [
    {
     "name": "stdout",
     "output_type": "stream",
     "text": [
      "speaking sexual harassment allegations rajkumar hirani sonam kapoor said known hirani many years true metoo movement get derailed metoo movement always believe woman case need reserve judgment added hirani accused assistant worked sanju\n"
     ]
    }
   ],
   "source": [
    "print(data['text'][4])"
   ]
  },
  {
   "cell_type": "code",
   "execution_count": 65,
   "metadata": {},
   "outputs": [
    {
     "name": "stdout",
     "output_type": "stream",
     "text": [
      "Summary:\n",
      "\n"
     ]
    }
   ],
   "source": [
    "text = data['text'][4]\n",
    "print('Summary:')\n",
    "print(summarize(text, words = 5))"
   ]
  },
  {
   "cell_type": "markdown",
   "metadata": {},
   "source": [
    "- 추상적 요약과 달리 추출적 요약의 경우 제시한 문장의 경우 요약 결과를 제시하지 않음을 확인함. (추측하건데, 영화시나리오와 같이 아주 긴 문장은 요약이 가능하나, 이 노드에서 제시하는 수십단어 수준의 짧은 문장은 요약하지 못하는 것으로 보임)"
   ]
  },
  {
   "cell_type": "markdown",
   "metadata": {},
   "source": [
    "- 분석단계, 정제단계, 정규화와 불용어제거, 데이터넷 분리, 인코딩 과정 진행 완료\n",
    "- 모델학습이 안정적으로 수렴됨을 그래프로 확인하였으며, 실제 요약문과 유사한 요약문장 얻었음\n",
    "- 두 요약 결과를 비교 분석하여 결과 제시하였음"
   ]
  }
 ],
 "metadata": {
  "kernelspec": {
   "display_name": "aiffel",
   "language": "python",
   "name": "aiffel"
  },
  "language_info": {
   "codemirror_mode": {
    "name": "ipython",
    "version": 3
   },
   "file_extension": ".py",
   "mimetype": "text/x-python",
   "name": "python",
   "nbconvert_exporter": "python",
   "pygments_lexer": "ipython3",
   "version": "3.7.6"
  }
 },
 "nbformat": 4,
 "nbformat_minor": 4
}
