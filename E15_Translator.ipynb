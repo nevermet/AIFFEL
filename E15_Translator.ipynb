{
 "cells": [
  {
   "cell_type": "markdown",
   "metadata": {},
   "source": [
    "## E15 단어 Level로 번역기 업그레이드하기"
   ]
  },
  {
   "cell_type": "code",
   "execution_count": 1,
   "metadata": {},
   "outputs": [],
   "source": [
    "import numpy as np\n",
    "import pandas as pd\n",
    "import re\n",
    "import shutil\n",
    "import os\n",
    "import unicodedata\n",
    "import urllib3\n",
    "import zipfile\n",
    "import tensorflow as tf\n",
    "from tensorflow.keras.preprocessing.text import Tokenizer\n",
    "from tensorflow.keras.preprocessing.sequence import pad_sequences"
   ]
  },
  {
   "cell_type": "code",
   "execution_count": 2,
   "metadata": {},
   "outputs": [],
   "source": [
    "num_samples = 33000"
   ]
  },
  {
   "cell_type": "markdown",
   "metadata": {},
   "source": [
    "### Step 1. 정제, 정규화, 전처리 (영어, 프랑스어 모두)"
   ]
  },
  {
   "cell_type": "code",
   "execution_count": 3,
   "metadata": {},
   "outputs": [],
   "source": [
    "def unicode_to_ascii(s):\n",
    "  return ''.join(c for c in unicodedata.normalize('NFD', s)\n",
    "      if unicodedata.category(c) != 'Mn')"
   ]
  },
  {
   "cell_type": "code",
   "execution_count": 4,
   "metadata": {},
   "outputs": [],
   "source": [
    "def preprocess_sentence(sent):\n",
    "    # 위에서 구현한 함수를 내부적으로 호출\n",
    "    sent = unicode_to_ascii(sent.lower())\n",
    "\n",
    "    # 단어와 구두점 사이에 공백을 만듭니다.\n",
    "    # Ex) \"he is a boy.\" => \"he is a boy .\"\n",
    "    sent = re.sub(r\"([?.!,¿])\", r\" \\1\", sent)\n",
    "\n",
    "    # (a-z, A-Z, \".\", \"?\", \"!\", \",\") 이들을 제외하고는 전부 공백으로 변환합니다.\n",
    "    sent = re.sub(r\"[^a-zA-Z!.?]+\", r\" \", sent)\n",
    "\n",
    "    sent = re.sub(r\"\\s+\", \" \", sent)\n",
    "    return sent"
   ]
  },
  {
   "cell_type": "code",
   "execution_count": 6,
   "metadata": {},
   "outputs": [],
   "source": [
    "def load_preprocessed_data():\n",
    "    encoder_input, decoder_input, decoder_target = [], [], []\n",
    "\n",
    "    file_path = os.getenv('HOME') + '/aiffel/translator_seq2seq/data/fra.txt'\n",
    "\n",
    "    with open(file_path, \"r\") as lines:\n",
    "        for i, line in enumerate(lines):\n",
    "\n",
    "            # source 데이터와 target 데이터 분리\n",
    "            src_line, tar_line, _ = line.strip().split('\\t')\n",
    "\n",
    "            # source 데이터 전처리\n",
    "            src_line_input = [w for w in preprocess_sentence(src_line).split()]\n",
    "\n",
    "            # target 데이터 전처리\n",
    "            tar_line = preprocess_sentence(tar_line)\n",
    "            #step 2. 디코더의 문장에 시작 토큰과 종료 토큰을 넣어주세요.\n",
    "            tar_line_input = [w for w in (\"<sos> \" + tar_line).split()]\n",
    "            tar_line_target = [w for w in (tar_line + \" <eos>\").split()]\n",
    "\n",
    "            encoder_input.append(src_line_input)\n",
    "            decoder_input.append(tar_line_input)\n",
    "            decoder_target.append(tar_line_target)\n",
    "\n",
    "            if i == num_samples - 1:\n",
    "                break\n",
    "\n",
    "    return encoder_input, decoder_input, decoder_target"
   ]
  },
  {
   "cell_type": "code",
   "execution_count": 7,
   "metadata": {},
   "outputs": [
    {
     "name": "stdout",
     "output_type": "stream",
     "text": [
      "[['go', '.'], ['hi', '.'], ['hi', '.'], ['run', '!'], ['run', '!']]\n",
      "[['<sos>', 'va', '!'], ['<sos>', 'salut', '!'], ['<sos>', 'salut', '.'], ['<sos>', 'cours', '!'], ['<sos>', 'courez', '!']]\n",
      "[['va', '!', '<eos>'], ['salut', '!', '<eos>'], ['salut', '.', '<eos>'], ['cours', '!', '<eos>'], ['courez', '!', '<eos>']]\n"
     ]
    }
   ],
   "source": [
    "sents_en_in, sents_fra_in, sents_fra_out = load_preprocessed_data()\n",
    "print(sents_en_in[:5])\n",
    "print(sents_fra_in[:5])\n",
    "print(sents_fra_out[:5])"
   ]
  },
  {
   "cell_type": "markdown",
   "metadata": {},
   "source": [
    "### Step 2. 디코더의 문장에 시작 토큰과 종료 토큰을 넣어주세요.\n",
    "- load_preprocessed_data() 함수에서 처리"
   ]
  },
  {
   "cell_type": "markdown",
   "metadata": {},
   "source": [
    "### Step 3. 케라스의 토크나이저로 텍스트를 숫자로 바꿔보세요."
   ]
  },
  {
   "cell_type": "code",
   "execution_count": 8,
   "metadata": {},
   "outputs": [],
   "source": [
    "tokenizer_en = Tokenizer(filters=\"\", lower=False)\n",
    "tokenizer_en.fit_on_texts(sents_en_in)\n",
    "encoder_input = tokenizer_en.texts_to_sequences(sents_en_in)\n",
    "\n",
    "tokenizer_fra = Tokenizer(filters=\"\", lower=False)\n",
    "tokenizer_fra.fit_on_texts(sents_fra_in)\n",
    "tokenizer_fra.fit_on_texts(sents_fra_out)\n",
    "decoder_input = tokenizer_fra.texts_to_sequences(sents_fra_in)\n",
    "decoder_target = tokenizer_fra.texts_to_sequences(sents_fra_out)"
   ]
  },
  {
   "cell_type": "code",
   "execution_count": 9,
   "metadata": {},
   "outputs": [],
   "source": [
    "encoder_input = pad_sequences(encoder_input, padding=\"post\")\n",
    "decoder_input = pad_sequences(decoder_input, padding=\"post\")\n",
    "decoder_target = pad_sequences(decoder_target, padding=\"post\")"
   ]
  },
  {
   "cell_type": "code",
   "execution_count": 10,
   "metadata": {},
   "outputs": [
    {
     "name": "stdout",
     "output_type": "stream",
     "text": [
      "영어 단어 집합의 크기 : 4663, 프랑스어 단어 집합의 크기 : 8038\n"
     ]
    }
   ],
   "source": [
    "src_vocab_size = len(tokenizer_en.word_index) + 1\n",
    "tar_vocab_size = len(tokenizer_fra.word_index) + 1\n",
    "print(\"영어 단어 집합의 크기 : {:d}, 프랑스어 단어 집합의 크기 : {:d}\".format(src_vocab_size, tar_vocab_size))"
   ]
  },
  {
   "cell_type": "code",
   "execution_count": 11,
   "metadata": {},
   "outputs": [],
   "source": [
    "src_to_index = tokenizer_en.word_index\n",
    "index_to_src = tokenizer_en.index_word # 훈련 후 결과 비교할 때 사용\n",
    "\n",
    "tar_to_index = tokenizer_fra.word_index # 훈련 후 예측 과정에서 사용\n",
    "index_to_tar = tokenizer_fra.index_word # 훈련 후 결과 비교할 때 사용"
   ]
  },
  {
   "cell_type": "code",
   "execution_count": 12,
   "metadata": {},
   "outputs": [
    {
     "name": "stdout",
     "output_type": "stream",
     "text": [
      "[19468  5391  4610 ... 30521  3481 18328]\n"
     ]
    }
   ],
   "source": [
    "indices = np.arange(encoder_input.shape[0])\n",
    "np.random.shuffle(indices)\n",
    "print(indices)"
   ]
  },
  {
   "cell_type": "code",
   "execution_count": 13,
   "metadata": {},
   "outputs": [],
   "source": [
    "encoder_input = encoder_input[indices]\n",
    "decoder_input = decoder_input[indices]\n",
    "decoder_target = decoder_target[indices]"
   ]
  },
  {
   "cell_type": "code",
   "execution_count": 14,
   "metadata": {},
   "outputs": [],
   "source": [
    "n_of_val = 3000 #33000개 중 3000개를 테스트 데이터로 분리"
   ]
  },
  {
   "cell_type": "code",
   "execution_count": 15,
   "metadata": {},
   "outputs": [],
   "source": [
    "encoder_input_train = encoder_input[:-n_of_val]\n",
    "decoder_input_train = decoder_input[:-n_of_val]\n",
    "decoder_target_train = decoder_target[:-n_of_val]\n",
    "\n",
    "encoder_input_test = encoder_input[-n_of_val:]\n",
    "decoder_input_test = decoder_input[-n_of_val:]\n",
    "decoder_target_test = decoder_target[-n_of_val:]"
   ]
  },
  {
   "cell_type": "code",
   "execution_count": 16,
   "metadata": {},
   "outputs": [
    {
     "name": "stdout",
     "output_type": "stream",
     "text": [
      "(30000, 8)\n",
      "(30000, 16)\n",
      "(30000, 16)\n",
      "(3000, 8)\n",
      "(3000, 16)\n",
      "(3000, 16)\n"
     ]
    }
   ],
   "source": [
    "print(encoder_input_train.shape)\n",
    "print(decoder_input_train.shape)\n",
    "print(decoder_target_train.shape)\n",
    "print(encoder_input_test.shape)\n",
    "print(decoder_input_test.shape)\n",
    "print(decoder_target_test.shape)"
   ]
  },
  {
   "cell_type": "code",
   "execution_count": 17,
   "metadata": {},
   "outputs": [],
   "source": [
    "from tensorflow.keras.layers import Input, LSTM, Embedding, Dense, Masking\n",
    "from tensorflow.keras.models import Model"
   ]
  },
  {
   "cell_type": "code",
   "execution_count": 18,
   "metadata": {},
   "outputs": [],
   "source": [
    "latent_dim = 50"
   ]
  },
  {
   "cell_type": "markdown",
   "metadata": {},
   "source": [
    "### Step 4. 임베딩 층 (Embedding layer) 사용하기"
   ]
  },
  {
   "cell_type": "code",
   "execution_count": 19,
   "metadata": {},
   "outputs": [],
   "source": [
    "# 인코더\n",
    "encoder_inputs = Input(shape=(None,))\n",
    "enc_emb =  Embedding(src_vocab_size, latent_dim)(encoder_inputs) # 임베딩 층\n",
    "enc_masking = Masking(mask_value=0.0)(enc_emb) # 패딩 0은 연산에서 제외\n",
    "encoder_lstm = LSTM(latent_dim, return_state=True) # 상태값 리턴을 위해 return_state는 True\n",
    "encoder_outputs, state_h, state_c = encoder_lstm(enc_masking) # 은닉 상태와 셀 상태를 리턴\n",
    "encoder_states = [state_h, state_c] # 인코더의 은닉 상태와 셀 상태를 저장"
   ]
  },
  {
   "cell_type": "markdown",
   "metadata": {},
   "source": [
    "### Step 5. 모델 구현하기"
   ]
  },
  {
   "cell_type": "code",
   "execution_count": 20,
   "metadata": {},
   "outputs": [],
   "source": [
    "# 디코더\n",
    "decoder_inputs = Input(shape=(None,))\n",
    "dec_emb_layer = Embedding(tar_vocab_size, latent_dim) # 임베딩 층\n",
    "dec_emb = dec_emb_layer(decoder_inputs) # 패딩 0은 연산에서 제외\n",
    "dec_masking = Masking(mask_value=0.0)(dec_emb)\n",
    "\n",
    "# 상태값 리턴을 위해 return_state는 True, 모든 시점에 대해서 단어를 예측하기 위해 return_sequences는 True\n",
    "decoder_lstm = LSTM(latent_dim, return_sequences=True, return_state=True) \n",
    "\n",
    "# 인코더의 은닉 상태를 초기 은닉 상태(initial_state)로 사용\n",
    "decoder_outputs, _, _ = decoder_lstm(dec_masking,\n",
    "                                     initial_state=encoder_states)\n",
    "\n",
    "# 모든 시점의 결과에 대해서 소프트맥스 함수를 사용한 출력층을 통해 단어 예측\n",
    "decoder_dense = Dense(tar_vocab_size, activation='softmax')\n",
    "decoder_outputs = decoder_dense(decoder_outputs)"
   ]
  },
  {
   "cell_type": "code",
   "execution_count": 21,
   "metadata": {},
   "outputs": [],
   "source": [
    "model = Model([encoder_inputs, decoder_inputs], decoder_outputs)"
   ]
  },
  {
   "cell_type": "code",
   "execution_count": 22,
   "metadata": {},
   "outputs": [],
   "source": [
    "model.compile(optimizer='rmsprop', loss='sparse_categorical_crossentropy', metrics=['acc'])"
   ]
  },
  {
   "cell_type": "code",
   "execution_count": 23,
   "metadata": {},
   "outputs": [
    {
     "name": "stdout",
     "output_type": "stream",
     "text": [
      "Model: \"functional_1\"\n",
      "__________________________________________________________________________________________________\n",
      "Layer (type)                    Output Shape         Param #     Connected to                     \n",
      "==================================================================================================\n",
      "input_1 (InputLayer)            [(None, None)]       0                                            \n",
      "__________________________________________________________________________________________________\n",
      "input_2 (InputLayer)            [(None, None)]       0                                            \n",
      "__________________________________________________________________________________________________\n",
      "embedding (Embedding)           (None, None, 50)     233150      input_1[0][0]                    \n",
      "__________________________________________________________________________________________________\n",
      "embedding_1 (Embedding)         (None, None, 50)     401900      input_2[0][0]                    \n",
      "__________________________________________________________________________________________________\n",
      "masking (Masking)               (None, None, 50)     0           embedding[0][0]                  \n",
      "__________________________________________________________________________________________________\n",
      "masking_1 (Masking)             (None, None, 50)     0           embedding_1[0][0]                \n",
      "__________________________________________________________________________________________________\n",
      "lstm (LSTM)                     [(None, 50), (None,  20200       masking[0][0]                    \n",
      "__________________________________________________________________________________________________\n",
      "lstm_1 (LSTM)                   [(None, None, 50), ( 20200       masking_1[0][0]                  \n",
      "                                                                 lstm[0][1]                       \n",
      "                                                                 lstm[0][2]                       \n",
      "__________________________________________________________________________________________________\n",
      "dense (Dense)                   (None, None, 8038)   409938      lstm_1[0][0]                     \n",
      "==================================================================================================\n",
      "Total params: 1,085,388\n",
      "Trainable params: 1,085,388\n",
      "Non-trainable params: 0\n",
      "__________________________________________________________________________________________________\n"
     ]
    }
   ],
   "source": [
    "model.summary()"
   ]
  },
  {
   "cell_type": "code",
   "execution_count": 24,
   "metadata": {
    "scrolled": false
   },
   "outputs": [
    {
     "name": "stdout",
     "output_type": "stream",
     "text": [
      "Epoch 1/50\n",
      "235/235 [==============================] - 11s 45ms/step - loss: 3.1657 - acc: 0.6097 - val_loss: 1.8909 - val_acc: 0.6942\n",
      "Epoch 2/50\n",
      "235/235 [==============================] - 9s 38ms/step - loss: 1.7244 - acc: 0.7263 - val_loss: 1.6141 - val_acc: 0.7450\n",
      "Epoch 3/50\n",
      "235/235 [==============================] - 9s 38ms/step - loss: 1.5472 - acc: 0.7480 - val_loss: 1.5069 - val_acc: 0.7595\n",
      "Epoch 4/50\n",
      "235/235 [==============================] - 9s 38ms/step - loss: 1.4464 - acc: 0.7642 - val_loss: 1.4173 - val_acc: 0.7771\n",
      "Epoch 5/50\n",
      "235/235 [==============================] - 9s 38ms/step - loss: 1.3575 - acc: 0.7811 - val_loss: 1.3429 - val_acc: 0.7896\n",
      "Epoch 6/50\n",
      "235/235 [==============================] - 9s 38ms/step - loss: 1.2895 - acc: 0.7905 - val_loss: 1.3011 - val_acc: 0.7922\n",
      "Epoch 7/50\n",
      "235/235 [==============================] - 9s 38ms/step - loss: 1.2363 - acc: 0.7974 - val_loss: 1.2478 - val_acc: 0.8014\n",
      "Epoch 8/50\n",
      "235/235 [==============================] - 9s 38ms/step - loss: 1.1901 - acc: 0.8049 - val_loss: 1.2143 - val_acc: 0.8065\n",
      "Epoch 9/50\n",
      "235/235 [==============================] - 9s 38ms/step - loss: 1.1480 - acc: 0.8108 - val_loss: 1.1761 - val_acc: 0.8125\n",
      "Epoch 10/50\n",
      "235/235 [==============================] - 9s 38ms/step - loss: 1.1123 - acc: 0.8153 - val_loss: 1.1481 - val_acc: 0.8161\n",
      "Epoch 11/50\n",
      "235/235 [==============================] - 9s 38ms/step - loss: 1.0800 - acc: 0.8199 - val_loss: 1.1252 - val_acc: 0.8193\n",
      "Epoch 12/50\n",
      "235/235 [==============================] - 9s 38ms/step - loss: 1.0510 - acc: 0.8236 - val_loss: 1.0997 - val_acc: 0.8239\n",
      "Epoch 13/50\n",
      "235/235 [==============================] - 9s 39ms/step - loss: 1.0248 - acc: 0.8269 - val_loss: 1.0849 - val_acc: 0.8249\n",
      "Epoch 14/50\n",
      "235/235 [==============================] - 9s 38ms/step - loss: 1.0018 - acc: 0.8302 - val_loss: 1.0684 - val_acc: 0.8271\n",
      "Epoch 15/50\n",
      "235/235 [==============================] - 9s 37ms/step - loss: 0.9815 - acc: 0.8328 - val_loss: 1.0536 - val_acc: 0.8300\n",
      "Epoch 16/50\n",
      "235/235 [==============================] - 9s 37ms/step - loss: 0.9627 - acc: 0.8358 - val_loss: 1.0371 - val_acc: 0.8319\n",
      "Epoch 17/50\n",
      "235/235 [==============================] - 9s 37ms/step - loss: 0.9451 - acc: 0.8381 - val_loss: 1.0301 - val_acc: 0.8331\n",
      "Epoch 18/50\n",
      "235/235 [==============================] - 9s 38ms/step - loss: 0.9279 - acc: 0.8404 - val_loss: 1.0162 - val_acc: 0.8342\n",
      "Epoch 19/50\n",
      "235/235 [==============================] - 9s 38ms/step - loss: 0.9119 - acc: 0.8428 - val_loss: 1.0076 - val_acc: 0.8355\n",
      "Epoch 20/50\n",
      "235/235 [==============================] - 9s 38ms/step - loss: 0.8963 - acc: 0.8449 - val_loss: 0.9957 - val_acc: 0.8366\n",
      "Epoch 21/50\n",
      "235/235 [==============================] - 9s 38ms/step - loss: 0.8806 - acc: 0.8470 - val_loss: 0.9820 - val_acc: 0.8375\n",
      "Epoch 22/50\n",
      "235/235 [==============================] - 9s 37ms/step - loss: 0.8662 - acc: 0.8492 - val_loss: 0.9743 - val_acc: 0.8390\n",
      "Epoch 23/50\n",
      "235/235 [==============================] - 9s 37ms/step - loss: 0.8528 - acc: 0.8512 - val_loss: 0.9705 - val_acc: 0.8405\n",
      "Epoch 24/50\n",
      "235/235 [==============================] - 9s 37ms/step - loss: 0.8403 - acc: 0.8532 - val_loss: 0.9592 - val_acc: 0.8415\n",
      "Epoch 25/50\n",
      "235/235 [==============================] - 9s 37ms/step - loss: 0.8291 - acc: 0.8548 - val_loss: 0.9508 - val_acc: 0.8432\n",
      "Epoch 26/50\n",
      "235/235 [==============================] - 9s 37ms/step - loss: 0.8180 - acc: 0.8568 - val_loss: 0.9474 - val_acc: 0.8436\n",
      "Epoch 27/50\n",
      "235/235 [==============================] - 9s 37ms/step - loss: 0.8074 - acc: 0.8584 - val_loss: 0.9458 - val_acc: 0.8443\n",
      "Epoch 28/50\n",
      "235/235 [==============================] - 9s 38ms/step - loss: 0.7978 - acc: 0.8603 - val_loss: 0.9396 - val_acc: 0.8454\n",
      "Epoch 29/50\n",
      "235/235 [==============================] - 8s 36ms/step - loss: 0.7881 - acc: 0.8619 - val_loss: 0.9312 - val_acc: 0.8466\n",
      "Epoch 30/50\n",
      "235/235 [==============================] - 8s 36ms/step - loss: 0.7788 - acc: 0.8633 - val_loss: 0.9305 - val_acc: 0.8472\n",
      "Epoch 31/50\n",
      "235/235 [==============================] - 9s 37ms/step - loss: 0.7694 - acc: 0.8647 - val_loss: 0.9252 - val_acc: 0.8465\n",
      "Epoch 32/50\n",
      "235/235 [==============================] - 9s 36ms/step - loss: 0.7600 - acc: 0.8662 - val_loss: 0.9172 - val_acc: 0.8480\n",
      "Epoch 33/50\n",
      "235/235 [==============================] - 9s 37ms/step - loss: 0.7510 - acc: 0.8677 - val_loss: 0.9173 - val_acc: 0.8491\n",
      "Epoch 34/50\n",
      "235/235 [==============================] - 9s 36ms/step - loss: 0.7427 - acc: 0.8691 - val_loss: 0.9067 - val_acc: 0.8502\n",
      "Epoch 35/50\n",
      "235/235 [==============================] - 8s 36ms/step - loss: 0.7348 - acc: 0.8706 - val_loss: 0.9047 - val_acc: 0.8509\n",
      "Epoch 36/50\n",
      "235/235 [==============================] - 8s 36ms/step - loss: 0.7273 - acc: 0.8721 - val_loss: 0.9018 - val_acc: 0.8512\n",
      "Epoch 37/50\n",
      "235/235 [==============================] - 8s 36ms/step - loss: 0.7200 - acc: 0.8737 - val_loss: 0.8966 - val_acc: 0.8523\n",
      "Epoch 38/50\n",
      "235/235 [==============================] - 8s 36ms/step - loss: 0.7130 - acc: 0.8750 - val_loss: 0.8931 - val_acc: 0.8532\n",
      "Epoch 39/50\n",
      "235/235 [==============================] - 8s 36ms/step - loss: 0.7063 - acc: 0.8763 - val_loss: 0.8928 - val_acc: 0.8531\n",
      "Epoch 40/50\n",
      "235/235 [==============================] - 8s 36ms/step - loss: 0.6999 - acc: 0.8776 - val_loss: 0.8842 - val_acc: 0.8540\n",
      "Epoch 41/50\n",
      "235/235 [==============================] - 8s 36ms/step - loss: 0.6936 - acc: 0.8788 - val_loss: 0.8851 - val_acc: 0.8539\n",
      "Epoch 42/50\n",
      "235/235 [==============================] - 8s 36ms/step - loss: 0.6874 - acc: 0.8803 - val_loss: 0.8792 - val_acc: 0.8548\n",
      "Epoch 43/50\n",
      "235/235 [==============================] - 8s 36ms/step - loss: 0.6816 - acc: 0.8813 - val_loss: 0.8790 - val_acc: 0.8562\n",
      "Epoch 44/50\n",
      "235/235 [==============================] - 8s 36ms/step - loss: 0.6757 - acc: 0.8827 - val_loss: 0.8773 - val_acc: 0.8560\n",
      "Epoch 45/50\n",
      "235/235 [==============================] - 8s 36ms/step - loss: 0.6701 - acc: 0.8837 - val_loss: 0.8762 - val_acc: 0.8563\n",
      "Epoch 46/50\n",
      "235/235 [==============================] - 8s 36ms/step - loss: 0.6647 - acc: 0.8850 - val_loss: 0.8754 - val_acc: 0.8566\n",
      "Epoch 47/50\n",
      "235/235 [==============================] - 8s 36ms/step - loss: 0.6593 - acc: 0.8861 - val_loss: 0.8692 - val_acc: 0.8574\n",
      "Epoch 48/50\n",
      "235/235 [==============================] - 8s 36ms/step - loss: 0.6542 - acc: 0.8872 - val_loss: 0.8698 - val_acc: 0.8580\n",
      "Epoch 49/50\n",
      "235/235 [==============================] - 8s 36ms/step - loss: 0.6492 - acc: 0.8883 - val_loss: 0.8651 - val_acc: 0.8585\n",
      "Epoch 50/50\n",
      "235/235 [==============================] - 8s 36ms/step - loss: 0.6444 - acc: 0.8893 - val_loss: 0.8698 - val_acc: 0.8582\n"
     ]
    },
    {
     "data": {
      "text/plain": [
       "<tensorflow.python.keras.callbacks.History at 0x7f2cf3896210>"
      ]
     },
     "execution_count": 24,
     "metadata": {},
     "output_type": "execute_result"
    }
   ],
   "source": [
    "model.fit(x = [encoder_input_train, decoder_input_train], y = decoder_target_train, \\\n",
    "          validation_data = ([encoder_input_test, decoder_input_test], decoder_target_test),\n",
    "          batch_size = 128, epochs = 50)"
   ]
  },
  {
   "cell_type": "code",
   "execution_count": 25,
   "metadata": {},
   "outputs": [],
   "source": [
    "# 인코더\n",
    "encoder_model = Model(encoder_inputs, encoder_states)"
   ]
  },
  {
   "cell_type": "code",
   "execution_count": 26,
   "metadata": {},
   "outputs": [],
   "source": [
    "# 디코더\n",
    "# 이전 시점의 상태를 보관할 텐서\n",
    "decoder_state_input_h = Input(shape=(latent_dim,))\n",
    "decoder_state_input_c = Input(shape=(latent_dim,))\n",
    "decoder_states_inputs = [decoder_state_input_h, decoder_state_input_c]\n",
    "\n",
    "# 훈련 때 사용했던 임베딩 층을 재사용\n",
    "dec_emb2= dec_emb_layer(decoder_inputs)\n",
    "\n",
    "# 다음 단어 예측을 위해 이전 시점의 상태를 현 시점의 초기 상태로 사용\n",
    "decoder_outputs2, state_h2, state_c2 = decoder_lstm(dec_emb2, initial_state=decoder_states_inputs)\n",
    "decoder_states2 = [state_h2, state_c2]\n",
    "\n",
    "# 모든 시점에 대해서 단어 예측\n",
    "decoder_outputs2 = decoder_dense(decoder_outputs2)"
   ]
  },
  {
   "cell_type": "code",
   "execution_count": 27,
   "metadata": {},
   "outputs": [],
   "source": [
    "decoder_model = Model(\n",
    "    [decoder_inputs] + decoder_states_inputs,\n",
    "    [decoder_outputs2] + decoder_states2)"
   ]
  },
  {
   "cell_type": "code",
   "execution_count": 28,
   "metadata": {},
   "outputs": [],
   "source": [
    "def decode_sequence(input_seq):\n",
    "    # 입력으로부터 인코더의 상태를 얻음\n",
    "    states_value = encoder_model.predict(input_seq)\n",
    "\n",
    "    # <SOS>에 해당하는 정수 생성\n",
    "    target_seq = np.zeros((1,1))\n",
    "    target_seq[0, 0] = tar_to_index['<sos>']\n",
    "\n",
    "    stop_condition = False\n",
    "    decoded_sentence = ''\n",
    "\n",
    "    # stop_condition이 True가 될 때까지 루프 반복\n",
    "    # 구현의 간소화를 위해서 이 함수는 배치 크기를 1로 가정합니다.\n",
    "    while not stop_condition:\n",
    "        # 이점 시점의 상태 states_value를 현 시점의 초기 상태로 사용\n",
    "        output_tokens, h, c = decoder_model.predict([target_seq] + states_value)\n",
    "\n",
    "        # 예측 결과를 단어로 변환\n",
    "        sampled_token_index = np.argmax(output_tokens[0, -1, :])\n",
    "        sampled_char = index_to_tar[sampled_token_index]\n",
    "\n",
    "         # 현재 시점의 예측 단어를 예측 문장에 추가\n",
    "        decoded_sentence += ' '+sampled_char\n",
    "\n",
    "        # <eos>에 도달하거나 정해진 길이를 넘으면 중단.\n",
    "        if (sampled_char == '<eos>' or\n",
    "           len(decoded_sentence) > 50):\n",
    "            stop_condition = True\n",
    "\n",
    "        # 현재 시점의 예측 결과를 다음 시점의 입력으로 사용하기 위해 저장\n",
    "        target_seq = np.zeros((1,1))\n",
    "        target_seq[0, 0] = sampled_token_index\n",
    "\n",
    "        # 현재 시점의 상태를 다음 시점의 상태로 사용하기 위해 저장\n",
    "        states_value = [h, c]\n",
    "\n",
    "    return decoded_sentence"
   ]
  },
  {
   "cell_type": "code",
   "execution_count": 29,
   "metadata": {},
   "outputs": [],
   "source": [
    "# 원문의 정수 시퀀스를 텍스트 시퀀스로 변환\n",
    "def seq2src(input_seq):\n",
    "    temp=''\n",
    "    for i in input_seq:\n",
    "        if(i!=0):\n",
    "            temp = temp + index_to_src[i]+' '\n",
    "    return temp\n",
    "\n",
    "# 번역문의 정수 시퀀스를 텍스트 시퀀스로 변환\n",
    "def seq2tar(input_seq):\n",
    "    temp=''\n",
    "    for i in input_seq:\n",
    "        if((i!=0 and i!=tar_to_index['<sos>']) and i!=tar_to_index['<eos>']):\n",
    "            temp = temp + index_to_tar[i] + ' '\n",
    "    return temp"
   ]
  },
  {
   "cell_type": "markdown",
   "metadata": {},
   "source": [
    "### Step 6. 모델 평가하기"
   ]
  },
  {
   "cell_type": "code",
   "execution_count": 30,
   "metadata": {},
   "outputs": [
    {
     "name": "stdout",
     "output_type": "stream",
     "text": [
      "원문 :  i can t say . \n",
      "번역문 : je ne puis le dire . \n",
      "예측문 :  je ne peux pas m en rendre un travail . \n",
      "\n",
      "\n",
      "원문 :  can i speak to you ? \n",
      "번역문 : puis je vous parler ? \n",
      "예측문 :  puis je vous parler ? \n",
      "\n",
      "\n",
      "원문 :  this winter is warm . \n",
      "번역문 : l hiver est doux cette annee . \n",
      "예측문 :  l air est en train de dejeuner est grand . \n",
      "\n",
      "\n",
      "원문 :  where s the shovel ? \n",
      "번역문 : ou est la pelle ? \n",
      "예측문 :  ou est la cle ? \n",
      "\n",
      "\n",
      "원문 :  they are christians . \n",
      "번역문 : ce sont des chretiennes . \n",
      "예측문 :  ils sont pas train de l amour . \n",
      "\n",
      "\n"
     ]
    }
   ],
   "source": [
    "for seq_index in [3,50,100,300,1001]:\n",
    "  input_seq = encoder_input_train[seq_index: seq_index + 1]\n",
    "  decoded_sentence = decode_sequence(input_seq)\n",
    "\n",
    "  print(\"원문 : \",seq2src(encoder_input_train[seq_index]))\n",
    "  print(\"번역문 :\",seq2tar(decoder_input_train[seq_index]))\n",
    "  print(\"예측문 :\",decoded_sentence[:-5])\n",
    "  print(\"\\n\")"
   ]
  },
  {
   "cell_type": "code",
   "execution_count": 31,
   "metadata": {},
   "outputs": [
    {
     "name": "stdout",
     "output_type": "stream",
     "text": [
      "원문 :  why do you resist ? \n",
      "번역문 : pourquoi resistez vous ? \n",
      "예측문 :  pourquoi as tu des peux ? \n",
      "\n",
      "\n",
      "원문 :  you can t eat here . \n",
      "번역문 : vous ne pouvez pas manger ici . \n",
      "예측문 :  tu ne peux pas le prie . \n",
      "\n",
      "\n",
      "원문 :  we re the same . \n",
      "번역문 : nous sommes pareilles . \n",
      "예측문 :  nous sommes la train de main . \n",
      "\n",
      "\n",
      "원문 :  they trusted you . \n",
      "번역문 : elles t ont fait confiance . \n",
      "예측문 :  ils vous ont dit ? \n",
      "\n",
      "\n",
      "원문 :  i have three cats . \n",
      "번역문 : j ai trois chats . \n",
      "예측문 :  j ai deux chats . \n",
      "\n",
      "\n"
     ]
    }
   ],
   "source": [
    "for seq_index in [3,50,100,300,1001]:\n",
    "  input_seq = encoder_input_test[seq_index: seq_index + 1]\n",
    "  decoded_sentence = decode_sequence(input_seq)\n",
    "\n",
    "  print(\"원문 : \",seq2src(encoder_input_test[seq_index]))\n",
    "  print(\"번역문 :\",seq2tar(decoder_input_test[seq_index]))\n",
    "  print(\"예측문 :\",decoded_sentence[:-5])\n",
    "  print(\"\\n\")"
   ]
  },
  {
   "cell_type": "markdown",
   "metadata": {},
   "source": [
    "- 구두점, 대소문자, 띄어쓰기 등 전처리 정상 수행\n",
    "- seq2seq 모델 훈련 결과 validation loss가 안정적으로 떨어짐 (1.89->0.86)\n",
    "- 테스트용 디코더 모델이 정상적으로 만들어져서 어느정도 유사한 프랑스어 번역 진행됨"
   ]
  }
 ],
 "metadata": {
  "kernelspec": {
   "display_name": "aiffel",
   "language": "python",
   "name": "aiffel"
  },
  "language_info": {
   "codemirror_mode": {
    "name": "ipython",
    "version": 3
   },
   "file_extension": ".py",
   "mimetype": "text/x-python",
   "name": "python",
   "nbconvert_exporter": "python",
   "pygments_lexer": "ipython3",
   "version": "3.7.6"
  }
 },
 "nbformat": 4,
 "nbformat_minor": 4
}
