{
 "cells": [
  {
   "cell_type": "markdown",
   "metadata": {},
   "source": [
    "## 13. Face2Emoji 모바일 웹앱 만들기"
   ]
  },
  {
   "cell_type": "markdown",
   "metadata": {},
   "source": [
    "### Step 1. 표정 데이터로 MobileNet 학습하기"
   ]
  },
  {
   "cell_type": "markdown",
   "metadata": {},
   "source": [
    "#### Step 1-1. 데이터 다운 받기\n",
    "- https://www.kaggle.com/ahmedmoorsy/facial-expression"
   ]
  },
  {
   "cell_type": "markdown",
   "metadata": {},
   "source": [
    "#### Step1-2. train, validation 데이터셋 구성하기"
   ]
  },
  {
   "cell_type": "code",
   "execution_count": 1,
   "metadata": {},
   "outputs": [
    {
     "name": "stderr",
     "output_type": "stream",
     "text": [
      "100%|██████████| 35887/35887 [00:23<00:00, 1545.51it/s]"
     ]
    },
    {
     "name": "stdout",
     "output_type": "stream",
     "text": [
      "train : 32298, eval :3589\n"
     ]
    },
    {
     "name": "stderr",
     "output_type": "stream",
     "text": [
      "\n"
     ]
    }
   ],
   "source": [
    "import numpy as np\n",
    "import tqdm\n",
    "import os\n",
    "\n",
    "train_x = []\n",
    "train_y = []\n",
    "eval_x = []\n",
    "eval_y = []\n",
    "\n",
    "csv_path = os.getenv('HOME')+'/aiffel/tfjs_mobile/data/fer2013.csv'\n",
    "\n",
    "with open(csv_path) as f:\n",
    "  for line in tqdm.tqdm(f.read().splitlines()[1:]):\n",
    "    emotion, pixels, usage = line.split(',')\n",
    "    \n",
    "    x = np.array(pixels.split(' ')).astype(float).reshape(48, 48, 1) / 255\n",
    "    y = int(emotion)\n",
    "\n",
    "    if usage == 'PrivateTest':\n",
    "      eval_x.append(x)\n",
    "      eval_y.append(y)\n",
    "    else:\n",
    "      train_x.append(x)\n",
    "      train_y.append(y)\n",
    "\n",
    "print('train : {}, eval :{}'.format(len(train_x), len(eval_x)))"
   ]
  },
  {
   "cell_type": "code",
   "execution_count": 2,
   "metadata": {
    "scrolled": false
   },
   "outputs": [
    {
     "name": "stdout",
     "output_type": "stream",
     "text": [
      "Angry\n"
     ]
    },
    {
     "data": {
      "text/plain": [
       "<matplotlib.image.AxesImage at 0x7fcf91228d50>"
      ]
     },
     "execution_count": 2,
     "metadata": {},
     "output_type": "execute_result"
    },
    {
     "data": {
      "image/png": "[encoded data removed]",
      "text/plain": [
       "<Figure size 432x288 with 1 Axes>"
      ]
     },
     "metadata": {
      "needs_background": "light"
     },
     "output_type": "display_data"
    }
   ],
   "source": [
    "from matplotlib import pyplot as plt\n",
    "\n",
    "LABELS = ['Angry', 'Disgust', 'Fear', 'Happy', 'Sad', 'Surprise', 'Neutral']\n",
    "\n",
    "print(LABELS[train_y[0]])\n",
    "plt.imshow(train_x[0].reshape([48, 48]), cmap='gray')"
   ]
  },
  {
   "cell_type": "code",
   "execution_count": 3,
   "metadata": {
    "scrolled": true
   },
   "outputs": [
    {
     "name": "stdout",
     "output_type": "stream",
     "text": [
      "Epoch 1/100\n",
      "253/253 [==============================] - 31s 122ms/step - loss: 1.7869 - categorical_accuracy: 0.2694 - val_loss: 1.9140 - val_categorical_accuracy: 0.1744\n",
      "Epoch 2/100\n",
      "253/253 [==============================] - 7s 26ms/step - loss: 1.5984 - categorical_accuracy: 0.3754 - val_loss: 1.8974 - val_categorical_accuracy: 0.1744\n",
      "Epoch 3/100\n",
      "253/253 [==============================] - 7s 26ms/step - loss: 1.4758 - categorical_accuracy: 0.4312 - val_loss: 1.8976 - val_categorical_accuracy: 0.1655\n",
      "Epoch 4/100\n",
      "253/253 [==============================] - 7s 26ms/step - loss: 1.3944 - categorical_accuracy: 0.4621 - val_loss: 1.8947 - val_categorical_accuracy: 0.1655\n",
      "Epoch 5/100\n",
      "253/253 [==============================] - 7s 27ms/step - loss: 1.3235 - categorical_accuracy: 0.4937 - val_loss: 1.8854 - val_categorical_accuracy: 0.1655\n",
      "Epoch 6/100\n",
      "253/253 [==============================] - 7s 27ms/step - loss: 1.2587 - categorical_accuracy: 0.5205 - val_loss: 1.9012 - val_categorical_accuracy: 0.1655\n",
      "Epoch 7/100\n",
      "253/253 [==============================] - 7s 27ms/step - loss: 1.2010 - categorical_accuracy: 0.5453 - val_loss: 1.8901 - val_categorical_accuracy: 0.1655\n",
      "Epoch 8/100\n",
      "253/253 [==============================] - 7s 27ms/step - loss: 1.1399 - categorical_accuracy: 0.5722 - val_loss: 1.9167 - val_categorical_accuracy: 0.1744\n",
      "Epoch 9/100\n",
      "253/253 [==============================] - 7s 27ms/step - loss: 1.0914 - categorical_accuracy: 0.5929 - val_loss: 1.9092 - val_categorical_accuracy: 0.1655\n",
      "Epoch 10/100\n",
      "253/253 [==============================] - 7s 27ms/step - loss: 1.0339 - categorical_accuracy: 0.6145 - val_loss: 1.9232 - val_categorical_accuracy: 0.1655\n",
      "Epoch 11/100\n",
      "253/253 [==============================] - 7s 27ms/step - loss: 0.9870 - categorical_accuracy: 0.6353 - val_loss: 1.9342 - val_categorical_accuracy: 0.1744\n",
      "Epoch 12/100\n",
      "253/253 [==============================] - 7s 27ms/step - loss: 0.9409 - categorical_accuracy: 0.6535 - val_loss: 1.9352 - val_categorical_accuracy: 0.1655\n",
      "Epoch 13/100\n",
      "253/253 [==============================] - 7s 27ms/step - loss: 0.8952 - categorical_accuracy: 0.6700 - val_loss: 1.9403 - val_categorical_accuracy: 0.1655\n",
      "Epoch 14/100\n",
      "253/253 [==============================] - 7s 27ms/step - loss: 0.8406 - categorical_accuracy: 0.6915 - val_loss: 1.9295 - val_categorical_accuracy: 0.1655\n",
      "Epoch 15/100\n",
      "253/253 [==============================] - 7s 27ms/step - loss: 0.8016 - categorical_accuracy: 0.7061 - val_loss: 1.9375 - val_categorical_accuracy: 0.1658\n",
      "Epoch 16/100\n",
      "253/253 [==============================] - 7s 27ms/step - loss: 0.7514 - categorical_accuracy: 0.7256 - val_loss: 1.9273 - val_categorical_accuracy: 0.1688\n",
      "Epoch 17/100\n",
      "253/253 [==============================] - 7s 27ms/step - loss: 0.7077 - categorical_accuracy: 0.7436 - val_loss: 2.0043 - val_categorical_accuracy: 0.1797\n",
      "Epoch 18/100\n",
      "253/253 [==============================] - 7s 27ms/step - loss: 0.6605 - categorical_accuracy: 0.7600 - val_loss: 1.7225 - val_categorical_accuracy: 0.3310\n",
      "Epoch 19/100\n",
      "253/253 [==============================] - 7s 27ms/step - loss: 0.6150 - categorical_accuracy: 0.7779 - val_loss: 1.8058 - val_categorical_accuracy: 0.3736\n",
      "Epoch 20/100\n",
      "253/253 [==============================] - 7s 27ms/step - loss: 0.5618 - categorical_accuracy: 0.7978 - val_loss: 1.9384 - val_categorical_accuracy: 0.3834\n",
      "Epoch 21/100\n",
      "253/253 [==============================] - 7s 27ms/step - loss: 0.5325 - categorical_accuracy: 0.8081 - val_loss: 2.2248 - val_categorical_accuracy: 0.4469\n",
      "Epoch 22/100\n",
      "253/253 [==============================] - 7s 27ms/step - loss: 0.4926 - categorical_accuracy: 0.8234 - val_loss: 2.4753 - val_categorical_accuracy: 0.4572\n",
      "Epoch 23/100\n",
      "253/253 [==============================] - 7s 27ms/step - loss: 0.4596 - categorical_accuracy: 0.8357 - val_loss: 2.7815 - val_categorical_accuracy: 0.4525\n",
      "Epoch 24/100\n",
      "253/253 [==============================] - 7s 27ms/step - loss: 0.4230 - categorical_accuracy: 0.8471 - val_loss: 3.5112 - val_categorical_accuracy: 0.4227\n",
      "Epoch 25/100\n",
      "253/253 [==============================] - 7s 27ms/step - loss: 0.3998 - categorical_accuracy: 0.8567 - val_loss: 3.3826 - val_categorical_accuracy: 0.4436\n",
      "Epoch 26/100\n",
      "253/253 [==============================] - 7s 27ms/step - loss: 0.3715 - categorical_accuracy: 0.8665 - val_loss: 3.5339 - val_categorical_accuracy: 0.4609\n",
      "Epoch 27/100\n",
      "253/253 [==============================] - 7s 27ms/step - loss: 0.3535 - categorical_accuracy: 0.8746 - val_loss: 3.7638 - val_categorical_accuracy: 0.4622\n",
      "Epoch 28/100\n",
      "253/253 [==============================] - 7s 27ms/step - loss: 0.3201 - categorical_accuracy: 0.8867 - val_loss: 4.2270 - val_categorical_accuracy: 0.4291\n",
      "Epoch 29/100\n",
      "253/253 [==============================] - 7s 27ms/step - loss: 0.2998 - categorical_accuracy: 0.8913 - val_loss: 3.9329 - val_categorical_accuracy: 0.4029\n",
      "Epoch 30/100\n",
      "253/253 [==============================] - 7s 27ms/step - loss: 0.2936 - categorical_accuracy: 0.8937 - val_loss: 4.0823 - val_categorical_accuracy: 0.4146\n",
      "Epoch 31/100\n",
      "253/253 [==============================] - 7s 27ms/step - loss: 0.2776 - categorical_accuracy: 0.9020 - val_loss: 3.8251 - val_categorical_accuracy: 0.4433\n",
      "Epoch 32/100\n",
      "253/253 [==============================] - 7s 27ms/step - loss: 0.2660 - categorical_accuracy: 0.9064 - val_loss: 4.1532 - val_categorical_accuracy: 0.4494\n",
      "Epoch 33/100\n",
      "253/253 [==============================] - 7s 27ms/step - loss: 0.2457 - categorical_accuracy: 0.9132 - val_loss: 4.1328 - val_categorical_accuracy: 0.4620\n",
      "Epoch 34/100\n",
      "253/253 [==============================] - 7s 27ms/step - loss: 0.2368 - categorical_accuracy: 0.9163 - val_loss: 4.5125 - val_categorical_accuracy: 0.4625\n",
      "Epoch 35/100\n",
      "253/253 [==============================] - 7s 27ms/step - loss: 0.2290 - categorical_accuracy: 0.9192 - val_loss: 3.8320 - val_categorical_accuracy: 0.4639\n",
      "Epoch 36/100\n",
      "253/253 [==============================] - 7s 27ms/step - loss: 0.2277 - categorical_accuracy: 0.9194 - val_loss: 3.9761 - val_categorical_accuracy: 0.4650\n",
      "Epoch 37/100\n",
      "253/253 [==============================] - 7s 27ms/step - loss: 0.2170 - categorical_accuracy: 0.9218 - val_loss: 4.1303 - val_categorical_accuracy: 0.4804\n",
      "Epoch 38/100\n",
      "253/253 [==============================] - 7s 27ms/step - loss: 0.2011 - categorical_accuracy: 0.9296 - val_loss: 4.4090 - val_categorical_accuracy: 0.4673\n",
      "Epoch 39/100\n",
      "253/253 [==============================] - 7s 27ms/step - loss: 0.2021 - categorical_accuracy: 0.9280 - val_loss: 3.9148 - val_categorical_accuracy: 0.4617\n",
      "Epoch 40/100\n",
      "253/253 [==============================] - 7s 27ms/step - loss: 0.1857 - categorical_accuracy: 0.9360 - val_loss: 3.5397 - val_categorical_accuracy: 0.4728\n",
      "Epoch 41/100\n",
      "253/253 [==============================] - 7s 27ms/step - loss: 0.1893 - categorical_accuracy: 0.9335 - val_loss: 3.6842 - val_categorical_accuracy: 0.4801\n",
      "Epoch 42/100\n",
      "253/253 [==============================] - 7s 27ms/step - loss: 0.1975 - categorical_accuracy: 0.9305 - val_loss: 3.9208 - val_categorical_accuracy: 0.4739\n",
      "Epoch 43/100\n",
      "253/253 [==============================] - 7s 27ms/step - loss: 0.1849 - categorical_accuracy: 0.9338 - val_loss: 3.7287 - val_categorical_accuracy: 0.4792\n",
      "Epoch 44/100\n",
      "253/253 [==============================] - 7s 27ms/step - loss: 0.1720 - categorical_accuracy: 0.9419 - val_loss: 3.9789 - val_categorical_accuracy: 0.4678\n",
      "Epoch 45/100\n",
      "253/253 [==============================] - 7s 27ms/step - loss: 0.1803 - categorical_accuracy: 0.9382 - val_loss: 3.5945 - val_categorical_accuracy: 0.4795\n",
      "Epoch 46/100\n",
      "253/253 [==============================] - 7s 27ms/step - loss: 0.1647 - categorical_accuracy: 0.9415 - val_loss: 3.7516 - val_categorical_accuracy: 0.4622\n",
      "Epoch 47/100\n",
      "253/253 [==============================] - 7s 27ms/step - loss: 0.1637 - categorical_accuracy: 0.9433 - val_loss: 3.7934 - val_categorical_accuracy: 0.4748\n",
      "Epoch 48/100\n",
      "253/253 [==============================] - 7s 27ms/step - loss: 0.1633 - categorical_accuracy: 0.9412 - val_loss: 4.1727 - val_categorical_accuracy: 0.4642\n",
      "Epoch 49/100\n"
     ]
    },
    {
     "name": "stdout",
     "output_type": "stream",
     "text": [
      "253/253 [==============================] - 7s 27ms/step - loss: 0.1589 - categorical_accuracy: 0.9449 - val_loss: 3.8876 - val_categorical_accuracy: 0.4492\n",
      "Epoch 50/100\n",
      "253/253 [==============================] - 7s 27ms/step - loss: 0.1569 - categorical_accuracy: 0.9454 - val_loss: 3.7100 - val_categorical_accuracy: 0.4533\n",
      "Epoch 51/100\n",
      "253/253 [==============================] - 7s 27ms/step - loss: 0.1514 - categorical_accuracy: 0.9463 - val_loss: 3.9812 - val_categorical_accuracy: 0.4712\n",
      "Epoch 52/100\n",
      "253/253 [==============================] - 7s 27ms/step - loss: 0.1493 - categorical_accuracy: 0.9495 - val_loss: 3.7734 - val_categorical_accuracy: 0.4776\n",
      "Epoch 53/100\n",
      "253/253 [==============================] - 7s 27ms/step - loss: 0.1513 - categorical_accuracy: 0.9472 - val_loss: 3.7655 - val_categorical_accuracy: 0.4845\n",
      "Epoch 54/100\n",
      "253/253 [==============================] - 7s 27ms/step - loss: 0.1428 - categorical_accuracy: 0.9508 - val_loss: 3.8432 - val_categorical_accuracy: 0.4659\n",
      "Epoch 55/100\n",
      "253/253 [==============================] - 7s 27ms/step - loss: 0.1399 - categorical_accuracy: 0.9521 - val_loss: 3.8430 - val_categorical_accuracy: 0.4712\n",
      "Epoch 56/100\n",
      "253/253 [==============================] - 7s 27ms/step - loss: 0.1400 - categorical_accuracy: 0.9507 - val_loss: 3.7065 - val_categorical_accuracy: 0.4985\n",
      "Epoch 57/100\n",
      "253/253 [==============================] - 7s 27ms/step - loss: 0.1365 - categorical_accuracy: 0.9523 - val_loss: 3.5031 - val_categorical_accuracy: 0.4820\n",
      "Epoch 58/100\n",
      "253/253 [==============================] - 7s 27ms/step - loss: 0.1351 - categorical_accuracy: 0.9540 - val_loss: 3.7420 - val_categorical_accuracy: 0.4778\n",
      "Epoch 59/100\n",
      "253/253 [==============================] - 7s 27ms/step - loss: 0.1369 - categorical_accuracy: 0.9529 - val_loss: 4.0755 - val_categorical_accuracy: 0.4466\n",
      "Epoch 60/100\n",
      "253/253 [==============================] - 7s 27ms/step - loss: 0.1316 - categorical_accuracy: 0.9530 - val_loss: 3.6352 - val_categorical_accuracy: 0.4884\n",
      "Epoch 61/100\n",
      "253/253 [==============================] - 7s 27ms/step - loss: 0.1372 - categorical_accuracy: 0.9526 - val_loss: 3.5764 - val_categorical_accuracy: 0.4628\n",
      "Epoch 62/100\n",
      "253/253 [==============================] - 7s 27ms/step - loss: 0.1357 - categorical_accuracy: 0.9523 - val_loss: 3.4934 - val_categorical_accuracy: 0.4812\n",
      "Epoch 63/100\n",
      "253/253 [==============================] - 7s 27ms/step - loss: 0.1363 - categorical_accuracy: 0.9532 - val_loss: 3.5666 - val_categorical_accuracy: 0.4751\n",
      "Epoch 64/100\n",
      "253/253 [==============================] - 7s 27ms/step - loss: 0.1211 - categorical_accuracy: 0.9588 - val_loss: 3.5912 - val_categorical_accuracy: 0.4829\n",
      "Epoch 65/100\n",
      "253/253 [==============================] - 7s 27ms/step - loss: 0.1235 - categorical_accuracy: 0.9564 - val_loss: 3.3970 - val_categorical_accuracy: 0.4890\n",
      "Epoch 66/100\n",
      "253/253 [==============================] - 7s 27ms/step - loss: 0.1186 - categorical_accuracy: 0.9584 - val_loss: 3.4368 - val_categorical_accuracy: 0.5049\n",
      "Epoch 67/100\n",
      "253/253 [==============================] - 7s 27ms/step - loss: 0.1226 - categorical_accuracy: 0.9576 - val_loss: 3.5391 - val_categorical_accuracy: 0.4940\n",
      "Epoch 68/100\n",
      "253/253 [==============================] - 7s 27ms/step - loss: 0.1114 - categorical_accuracy: 0.9614 - val_loss: 3.5195 - val_categorical_accuracy: 0.4985\n",
      "Epoch 69/100\n",
      "253/253 [==============================] - 7s 27ms/step - loss: 0.1173 - categorical_accuracy: 0.9593 - val_loss: 3.7496 - val_categorical_accuracy: 0.4765\n",
      "Epoch 70/100\n",
      "253/253 [==============================] - 7s 27ms/step - loss: 0.1145 - categorical_accuracy: 0.9605 - val_loss: 3.6740 - val_categorical_accuracy: 0.5049\n",
      "Epoch 71/100\n",
      "253/253 [==============================] - 7s 27ms/step - loss: 0.1150 - categorical_accuracy: 0.9611 - val_loss: 3.7192 - val_categorical_accuracy: 0.5063\n",
      "Epoch 72/100\n",
      "253/253 [==============================] - 7s 27ms/step - loss: 0.1074 - categorical_accuracy: 0.9625 - val_loss: 3.5334 - val_categorical_accuracy: 0.4815\n",
      "Epoch 73/100\n",
      "253/253 [==============================] - 7s 27ms/step - loss: 0.1118 - categorical_accuracy: 0.9603 - val_loss: 4.0261 - val_categorical_accuracy: 0.4898\n",
      "Epoch 74/100\n",
      "253/253 [==============================] - 7s 27ms/step - loss: 0.1017 - categorical_accuracy: 0.9642 - val_loss: 3.4928 - val_categorical_accuracy: 0.5010\n",
      "Epoch 75/100\n",
      "253/253 [==============================] - 7s 27ms/step - loss: 0.1026 - categorical_accuracy: 0.9641 - val_loss: 3.8355 - val_categorical_accuracy: 0.5088\n",
      "Epoch 76/100\n",
      "253/253 [==============================] - 7s 27ms/step - loss: 0.1042 - categorical_accuracy: 0.9632 - val_loss: 3.6269 - val_categorical_accuracy: 0.4823\n",
      "Epoch 77/100\n",
      "253/253 [==============================] - 7s 27ms/step - loss: 0.1089 - categorical_accuracy: 0.9628 - val_loss: 3.8683 - val_categorical_accuracy: 0.4898\n",
      "Epoch 78/100\n",
      "253/253 [==============================] - 7s 27ms/step - loss: 0.1014 - categorical_accuracy: 0.9644 - val_loss: 3.4051 - val_categorical_accuracy: 0.5071\n",
      "Epoch 79/100\n",
      "253/253 [==============================] - 7s 27ms/step - loss: 0.1032 - categorical_accuracy: 0.9639 - val_loss: 3.3652 - val_categorical_accuracy: 0.4907\n",
      "Epoch 80/100\n",
      "253/253 [==============================] - 7s 27ms/step - loss: 0.1038 - categorical_accuracy: 0.9627 - val_loss: 3.6954 - val_categorical_accuracy: 0.4915\n",
      "Epoch 81/100\n",
      "253/253 [==============================] - 7s 27ms/step - loss: 0.1005 - categorical_accuracy: 0.9647 - val_loss: 3.4811 - val_categorical_accuracy: 0.4873\n",
      "Epoch 82/100\n",
      "253/253 [==============================] - 7s 27ms/step - loss: 0.1090 - categorical_accuracy: 0.9621 - val_loss: 3.3506 - val_categorical_accuracy: 0.4951\n",
      "Epoch 83/100\n",
      "253/253 [==============================] - 7s 27ms/step - loss: 0.1007 - categorical_accuracy: 0.9637 - val_loss: 3.5672 - val_categorical_accuracy: 0.4815\n",
      "Epoch 84/100\n",
      "253/253 [==============================] - 7s 27ms/step - loss: 0.0936 - categorical_accuracy: 0.9662 - val_loss: 3.7513 - val_categorical_accuracy: 0.4845\n",
      "Epoch 85/100\n",
      "253/253 [==============================] - 7s 27ms/step - loss: 0.0912 - categorical_accuracy: 0.9673 - val_loss: 3.4005 - val_categorical_accuracy: 0.5043\n",
      "Epoch 86/100\n",
      "253/253 [==============================] - 7s 27ms/step - loss: 0.0927 - categorical_accuracy: 0.9667 - val_loss: 3.6757 - val_categorical_accuracy: 0.5079\n",
      "Epoch 87/100\n",
      "253/253 [==============================] - 7s 27ms/step - loss: 0.0897 - categorical_accuracy: 0.9685 - val_loss: 3.4745 - val_categorical_accuracy: 0.5068\n",
      "Epoch 88/100\n",
      "253/253 [==============================] - 7s 27ms/step - loss: 0.0894 - categorical_accuracy: 0.9698 - val_loss: 3.6540 - val_categorical_accuracy: 0.4829\n",
      "Epoch 89/100\n",
      "253/253 [==============================] - 7s 27ms/step - loss: 0.0851 - categorical_accuracy: 0.9707 - val_loss: 3.5230 - val_categorical_accuracy: 0.5038\n",
      "Epoch 90/100\n",
      "253/253 [==============================] - 7s 27ms/step - loss: 0.0963 - categorical_accuracy: 0.9652 - val_loss: 3.6781 - val_categorical_accuracy: 0.4923\n",
      "Epoch 91/100\n",
      "253/253 [==============================] - 7s 27ms/step - loss: 0.0872 - categorical_accuracy: 0.9694 - val_loss: 3.7309 - val_categorical_accuracy: 0.5026\n",
      "Epoch 92/100\n",
      "253/253 [==============================] - 7s 27ms/step - loss: 0.0904 - categorical_accuracy: 0.9675 - val_loss: 3.7899 - val_categorical_accuracy: 0.4787\n",
      "Epoch 93/100\n",
      "253/253 [==============================] - 7s 27ms/step - loss: 0.0833 - categorical_accuracy: 0.9707 - val_loss: 3.6160 - val_categorical_accuracy: 0.5013\n",
      "Epoch 94/100\n",
      "253/253 [==============================] - 7s 27ms/step - loss: 0.0976 - categorical_accuracy: 0.9652 - val_loss: 3.7818 - val_categorical_accuracy: 0.4993\n",
      "Epoch 95/100\n",
      "253/253 [==============================] - 7s 27ms/step - loss: 0.0855 - categorical_accuracy: 0.9700 - val_loss: 3.7002 - val_categorical_accuracy: 0.4909\n",
      "Epoch 96/100\n",
      "253/253 [==============================] - 7s 27ms/step - loss: 0.0873 - categorical_accuracy: 0.9691 - val_loss: 3.6162 - val_categorical_accuracy: 0.5063\n",
      "Epoch 97/100\n"
     ]
    },
    {
     "name": "stdout",
     "output_type": "stream",
     "text": [
      "253/253 [==============================] - 7s 27ms/step - loss: 0.0867 - categorical_accuracy: 0.9694 - val_loss: 3.7841 - val_categorical_accuracy: 0.5104\n",
      "Epoch 98/100\n",
      "253/253 [==============================] - 7s 27ms/step - loss: 0.0819 - categorical_accuracy: 0.9711 - val_loss: 3.5232 - val_categorical_accuracy: 0.5071\n",
      "Epoch 99/100\n",
      "253/253 [==============================] - 7s 27ms/step - loss: 0.0845 - categorical_accuracy: 0.9698 - val_loss: 3.6723 - val_categorical_accuracy: 0.5054\n",
      "Epoch 100/100\n",
      "253/253 [==============================] - 7s 27ms/step - loss: 0.0819 - categorical_accuracy: 0.9696 - val_loss: 3.8136 - val_categorical_accuracy: 0.5035\n"
     ]
    },
    {
     "data": {
      "text/plain": [
       "<tensorflow.python.keras.callbacks.History at 0x7fceca6c9fd0>"
      ]
     },
     "execution_count": 3,
     "metadata": {},
     "output_type": "execute_result"
    }
   ],
   "source": [
    "import tensorflow as tf\n",
    "\n",
    "model = tf.keras.applications.MobileNetV2(input_shape = (48, 48, 1), weights = None, classes = 7)\n",
    "\n",
    "model.compile(optimizer = tf.keras.optimizers.Adam(),\n",
    "             loss = tf.keras.losses.CategoricalCrossentropy(),\n",
    "             metrics = [tf.keras.metrics.CategoricalAccuracy()])\n",
    "\n",
    "model.fit(np.stack(train_x),\n",
    "         tf.keras.utils.to_categorical(train_y),\n",
    "         epochs = 100,\n",
    "         batch_size = 128,\n",
    "         validation_data = (np.stack(eval_x),\n",
    "                           tf.keras.utils.to_categorical(eval_y)))"
   ]
  },
  {
   "cell_type": "code",
   "execution_count": 4,
   "metadata": {},
   "outputs": [],
   "source": [
    "import os\n",
    "model_path = os.getenv('HOME') + '/aiffel/tfjs_mobile/model.h5'\n",
    "model.save(model_path)"
   ]
  },
  {
   "cell_type": "markdown",
   "metadata": {},
   "source": [
    "- Face2Emoji web app url: https://nevermet.github.io/tfjs_mobile/\n",
    "- 100 epoch를 완료하는 동안, cateogical_accuracy : 96%, val_categorical_accuracy : 50% 이상 달성"
   ]
  }
 ],
 "metadata": {
  "kernelspec": {
   "display_name": "aiffel",
   "language": "python",
   "name": "aiffel"
  },
  "language_info": {
   "codemirror_mode": {
    "name": "ipython",
    "version": 3
   },
   "file_extension": ".py",
   "mimetype": "text/x-python",
   "name": "python",
   "nbconvert_exporter": "python",
   "pygments_lexer": "ipython3",
   "version": "3.7.6"
  }
 },
 "nbformat": 4,
 "nbformat_minor": 4
}
