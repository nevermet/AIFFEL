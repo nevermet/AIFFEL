{
 "cells": [
  {
   "cell_type": "markdown",
   "metadata": {},
   "source": [
    "## E9. 네이버 영화리뷰 감성분석 도전하기"
   ]
  },
  {
   "cell_type": "markdown",
   "metadata": {},
   "source": [
    "### 1)데이터 준비와 확인"
   ]
  },
  {
   "cell_type": "code",
   "execution_count": 1,
   "metadata": {},
   "outputs": [
    {
     "data": {
      "text/html": [
       "<div>\n",
       "<style scoped>\n",
       "    .dataframe tbody tr th:only-of-type {\n",
       "        vertical-align: middle;\n",
       "    }\n",
       "\n",
       "    .dataframe tbody tr th {\n",
       "        vertical-align: top;\n",
       "    }\n",
       "\n",
       "    .dataframe thead th {\n",
       "        text-align: right;\n",
       "    }\n",
       "</style>\n",
       "<table border=\"1\" class=\"dataframe\">\n",
       "  <thead>\n",
       "    <tr style=\"text-align: right;\">\n",
       "      <th></th>\n",
       "      <th>id</th>\n",
       "      <th>document</th>\n",
       "      <th>label</th>\n",
       "    </tr>\n",
       "  </thead>\n",
       "  <tbody>\n",
       "    <tr>\n",
       "      <th>0</th>\n",
       "      <td>9976970</td>\n",
       "      <td>아 더빙.. 진짜 짜증나네요 목소리</td>\n",
       "      <td>0</td>\n",
       "    </tr>\n",
       "    <tr>\n",
       "      <th>1</th>\n",
       "      <td>3819312</td>\n",
       "      <td>흠...포스터보고 초딩영화줄....오버연기조차 가볍지 않구나</td>\n",
       "      <td>1</td>\n",
       "    </tr>\n",
       "    <tr>\n",
       "      <th>2</th>\n",
       "      <td>10265843</td>\n",
       "      <td>너무재밓었다그래서보는것을추천한다</td>\n",
       "      <td>0</td>\n",
       "    </tr>\n",
       "    <tr>\n",
       "      <th>3</th>\n",
       "      <td>9045019</td>\n",
       "      <td>교도소 이야기구먼 ..솔직히 재미는 없다..평점 조정</td>\n",
       "      <td>0</td>\n",
       "    </tr>\n",
       "    <tr>\n",
       "      <th>4</th>\n",
       "      <td>6483659</td>\n",
       "      <td>사이몬페그의 익살스런 연기가 돋보였던 영화!스파이더맨에서 늙어보이기만 했던 커스틴 ...</td>\n",
       "      <td>1</td>\n",
       "    </tr>\n",
       "  </tbody>\n",
       "</table>\n",
       "</div>"
      ],
      "text/plain": [
       "         id                                           document  label\n",
       "0   9976970                                아 더빙.. 진짜 짜증나네요 목소리      0\n",
       "1   3819312                  흠...포스터보고 초딩영화줄....오버연기조차 가볍지 않구나      1\n",
       "2  10265843                                  너무재밓었다그래서보는것을추천한다      0\n",
       "3   9045019                      교도소 이야기구먼 ..솔직히 재미는 없다..평점 조정      0\n",
       "4   6483659  사이몬페그의 익살스런 연기가 돋보였던 영화!스파이더맨에서 늙어보이기만 했던 커스틴 ...      1"
      ]
     },
     "execution_count": 1,
     "metadata": {},
     "output_type": "execute_result"
    }
   ],
   "source": [
    "import pandas as pd\n",
    "import urllib.request\n",
    "%matplotlib inline\n",
    "import matplotlib.pyplot as plt\n",
    "import re\n",
    "from konlpy.tag import Okt\n",
    "from tensorflow import keras\n",
    "from tensorflow.keras.preprocessing.text import Tokenizer\n",
    "import numpy as np\n",
    "from tensorflow.keras.preprocessing.sequence import pad_sequences\n",
    "from collections import Counter\n",
    "\n",
    "# 데이터를 읽어봅시다. \n",
    "train_data = pd.read_table('~/aiffel/sentiment_classification/ratings_train.txt')\n",
    "test_data = pd.read_table('~/aiffel/sentiment_classification/ratings_test.txt')\n",
    "\n",
    "train_data.head()"
   ]
  },
  {
   "cell_type": "code",
   "execution_count": 2,
   "metadata": {},
   "outputs": [
    {
     "name": "stdout",
     "output_type": "stream",
     "text": [
      "훈련용 리뷰 개수 : 150000\n"
     ]
    }
   ],
   "source": [
    "print('훈련용 리뷰 개수 :',len(train_data))"
   ]
  },
  {
   "cell_type": "code",
   "execution_count": 3,
   "metadata": {},
   "outputs": [
    {
     "name": "stdout",
     "output_type": "stream",
     "text": [
      "테스트용 리뷰 개수 : 50000\n"
     ]
    }
   ],
   "source": [
    "print('테스트용 리뷰 개수 :',len(test_data)) "
   ]
  },
  {
   "cell_type": "code",
   "execution_count": 4,
   "metadata": {
    "scrolled": true
   },
   "outputs": [
    {
     "data": {
      "text/html": [
       "<div>\n",
       "<style scoped>\n",
       "    .dataframe tbody tr th:only-of-type {\n",
       "        vertical-align: middle;\n",
       "    }\n",
       "\n",
       "    .dataframe tbody tr th {\n",
       "        vertical-align: top;\n",
       "    }\n",
       "\n",
       "    .dataframe thead th {\n",
       "        text-align: right;\n",
       "    }\n",
       "</style>\n",
       "<table border=\"1\" class=\"dataframe\">\n",
       "  <thead>\n",
       "    <tr style=\"text-align: right;\">\n",
       "      <th></th>\n",
       "      <th>id</th>\n",
       "      <th>document</th>\n",
       "      <th>label</th>\n",
       "    </tr>\n",
       "  </thead>\n",
       "  <tbody>\n",
       "    <tr>\n",
       "      <th>0</th>\n",
       "      <td>6270596</td>\n",
       "      <td>굳 ㅋ</td>\n",
       "      <td>1</td>\n",
       "    </tr>\n",
       "    <tr>\n",
       "      <th>1</th>\n",
       "      <td>9274899</td>\n",
       "      <td>GDNTOPCLASSINTHECLUB</td>\n",
       "      <td>0</td>\n",
       "    </tr>\n",
       "    <tr>\n",
       "      <th>2</th>\n",
       "      <td>8544678</td>\n",
       "      <td>뭐야 이 평점들은.... 나쁘진 않지만 10점 짜리는 더더욱 아니잖아</td>\n",
       "      <td>0</td>\n",
       "    </tr>\n",
       "    <tr>\n",
       "      <th>3</th>\n",
       "      <td>6825595</td>\n",
       "      <td>지루하지는 않은데 완전 막장임... 돈주고 보기에는....</td>\n",
       "      <td>0</td>\n",
       "    </tr>\n",
       "    <tr>\n",
       "      <th>4</th>\n",
       "      <td>6723715</td>\n",
       "      <td>3D만 아니었어도 별 다섯 개 줬을텐데.. 왜 3D로 나와서 제 심기를 불편하게 하죠??</td>\n",
       "      <td>0</td>\n",
       "    </tr>\n",
       "  </tbody>\n",
       "</table>\n",
       "</div>"
      ],
      "text/plain": [
       "        id                                           document  label\n",
       "0  6270596                                                굳 ㅋ      1\n",
       "1  9274899                               GDNTOPCLASSINTHECLUB      0\n",
       "2  8544678             뭐야 이 평점들은.... 나쁘진 않지만 10점 짜리는 더더욱 아니잖아      0\n",
       "3  6825595                   지루하지는 않은데 완전 막장임... 돈주고 보기에는....      0\n",
       "4  6723715  3D만 아니었어도 별 다섯 개 줬을텐데.. 왜 3D로 나와서 제 심기를 불편하게 하죠??      0"
      ]
     },
     "execution_count": 4,
     "metadata": {},
     "output_type": "execute_result"
    }
   ],
   "source": [
    "test_data.head()"
   ]
  },
  {
   "cell_type": "markdown",
   "metadata": {},
   "source": [
    "### 2)데이터로더 구성"
   ]
  },
  {
   "cell_type": "code",
   "execution_count": 5,
   "metadata": {},
   "outputs": [],
   "source": [
    "from konlpy.tag import Mecab\n",
    "tokenizer = Mecab()\n",
    "stopwords = ['의','가','이','은','들','는','좀','잘','걍','과','도','를','으로','자','에','와','한','하다']"
   ]
  },
  {
   "cell_type": "code",
   "execution_count": 6,
   "metadata": {},
   "outputs": [],
   "source": [
    "def load_data(train_data, test_data, num_words=10000):\n",
    "    # [[YOUR CODE]]\n",
    "    #데이터의 중복제거\n",
    "    train_data.drop_duplicates(subset=['document'], inplace=True)\n",
    "    #NaN 결측치 제거\n",
    "    train_data = train_data.dropna(how = 'any') \n",
    "    test_data.drop_duplicates(subset=['document'], inplace=True)\n",
    "    test_data = test_data.dropna(how = 'any') \n",
    "\n",
    "    # 한국어 토크나이저로 토큰화\n",
    "    X_train = []\n",
    "    for sentence in train_data['document']:\n",
    "        temp_X = tokenizer.morphs(sentence) # 토큰화\n",
    "        temp_X = [word for word in temp_X if not word in stopwords] # 불용어 제거\n",
    "        X_train.append(temp_X)\n",
    "\n",
    "    X_test = []\n",
    "    for sentence in test_data['document']:\n",
    "        temp_X = tokenizer.morphs(sentence) # 토큰화\n",
    "        temp_X = [word for word in temp_X if not word in stopwords] # 불용어 제거\n",
    "        X_test.append(temp_X)\n",
    "\n",
    "    words = np.concatenate(X_train).tolist()\n",
    "    counter = Counter(words)\n",
    "    counter = counter.most_common(10000-4)\n",
    "    vocab = ['<PAD>', '<BOS>', '<UNK>', '<UNUSED>'] + [key for key, _ in counter]\n",
    "    word_to_index = {word:index for index, word in enumerate(vocab)}\n",
    "\n",
    "    #사전 word_to_index 구성\n",
    "    def wordlist_to_indexlist(wordlist):\n",
    "        return [word_to_index[word] if word in word_to_index else word_to_index['<UNK>'] for word in wordlist]\n",
    "\n",
    "    X_train = list(map(wordlist_to_indexlist, X_train))\n",
    "    X_test = list(map(wordlist_to_indexlist, X_test))\n",
    "\n",
    "    #X_train, y_train, X_test, y_test, word_to_index 리턴\n",
    "    return X_train, np.array(list(train_data['label'])), X_test, np.array(list(test_data['label'])), word_to_index\n",
    "  \n",
    "X_train, y_train, X_test, y_test, word_to_index = load_data(train_data, test_data)"
   ]
  },
  {
   "cell_type": "code",
   "execution_count": 7,
   "metadata": {},
   "outputs": [
    {
     "name": "stdout",
     "output_type": "stream",
     "text": [
      "146183\n"
     ]
    }
   ],
   "source": [
    "print(len(train_data))"
   ]
  },
  {
   "cell_type": "code",
   "execution_count": 8,
   "metadata": {},
   "outputs": [],
   "source": [
    "index_to_word = {index:word for word, index in word_to_index.items()}"
   ]
  },
  {
   "cell_type": "code",
   "execution_count": 9,
   "metadata": {},
   "outputs": [],
   "source": [
    "# 문장 1개를 활용할 딕셔너리와 함께 주면, 단어 인덱스 리스트 벡터로 변환해 주는 함수입니다. \n",
    "# 단, 모든 문장은 <BOS>로 시작하는 것으로 합니다. \n",
    "def get_encoded_sentence(sentence, word_to_index):\n",
    "    return [word_to_index['<BOS>']]+[word_to_index[word] if word in word_to_index else word_to_index['<UNK>'] for word in sentence.split()]\n",
    "\n",
    "# 여러 개의 문장 리스트를 한꺼번에 단어 인덱스 리스트 벡터로 encode해 주는 함수입니다. \n",
    "def get_encoded_sentences(sentences, word_to_index):\n",
    "    return [get_encoded_sentence(sentence, word_to_index) for sentence in sentences]\n",
    "\n",
    "# 숫자 벡터로 encode된 문장을 원래대로 decode하는 함수입니다. \n",
    "def get_decoded_sentence(encoded_sentence, index_to_word):\n",
    "    return ' '.join(index_to_word[index] if index in index_to_word else '<UNK>' for index in encoded_sentence[1:])  #[1:]를 통해 <BOS>를 제외\n",
    "\n",
    "# 여러개의 숫자 벡터로 encode된 문장을 한꺼번에 원래대로 decode하는 함수입니다. \n",
    "def get_decoded_sentences(encoded_sentences, index_to_word):\n",
    "    return [get_decoded_sentence(encoded_sentence, index_to_word) for encoded_sentence in encoded_sentences]"
   ]
  },
  {
   "cell_type": "markdown",
   "metadata": {},
   "source": [
    "### 3) 모델구성을 위한 데이터 분석 및 가공"
   ]
  },
  {
   "cell_type": "markdown",
   "metadata": {},
   "source": [
    "- 데이터셋 내 문장 길이 분포 확인"
   ]
  },
  {
   "cell_type": "code",
   "execution_count": 10,
   "metadata": {},
   "outputs": [
    {
     "data": {
      "text/plain": [
       "116"
      ]
     },
     "execution_count": 10,
     "metadata": {},
     "output_type": "execute_result"
    }
   ],
   "source": [
    "len(max(X_train, key=len))"
   ]
  },
  {
   "cell_type": "code",
   "execution_count": 11,
   "metadata": {},
   "outputs": [
    {
     "data": {
      "text/plain": [
       "105"
      ]
     },
     "execution_count": 11,
     "metadata": {},
     "output_type": "execute_result"
    }
   ],
   "source": [
    "len(max(X_test, key=len))"
   ]
  },
  {
   "cell_type": "code",
   "execution_count": 17,
   "metadata": {
    "scrolled": false
   },
   "outputs": [
    {
     "name": "stdout",
     "output_type": "stream",
     "text": [
      "리뷰의 최대 길이 : 116\n",
      "리뷰의 평균 길이 : 15.969355837799927\n"
     ]
    },
    {
     "data": {
      "image/png": "[encoded data removed]",
      "text/plain": [
       "<Figure size 432x288 with 1 Axes>"
      ]
     },
     "metadata": {
      "needs_background": "light"
     },
     "output_type": "display_data"
    }
   ],
   "source": [
    "total_data_text=list(X_train)+list(X_test)\n",
    "\n",
    "num_tokens = [len(tokens) for tokens in total_data_text]\n",
    "num_tokens = np.array(num_tokens)\n",
    "\n",
    "print('리뷰의 최대 길이 :',max(len(l) for l in total_data_text))\n",
    "print('리뷰의 평균 길이 :',sum(map(len, total_data_text))/len(total_data_text))\n",
    "plt.hist([len(s) for s in total_data_text], bins=50)\n",
    "plt.xlabel('length of samples')\n",
    "plt.ylabel('number of samples')\n",
    "plt.show()"
   ]
  },
  {
   "cell_type": "code",
   "execution_count": 18,
   "metadata": {},
   "outputs": [],
   "source": [
    "def below_threshold_len(max_len, nested_list):\n",
    "  cnt = 0\n",
    "  for s in nested_list:\n",
    "    if(len(s) <= max_len):\n",
    "        cnt = cnt + 1\n",
    "  print('전체 샘플 중 길이가 %s 이하인 샘플의 비율: %s'%(max_len, (cnt / len(nested_list))*100))"
   ]
  },
  {
   "cell_type": "code",
   "execution_count": 19,
   "metadata": {},
   "outputs": [
    {
     "name": "stdout",
     "output_type": "stream",
     "text": [
      "전체 샘플 중 길이가 60 이하인 샘플의 비율: 98.82255975509243\n"
     ]
    }
   ],
   "source": [
    "max_len = 60\n",
    "below_threshold_len(max_len, total_data_text)"
   ]
  },
  {
   "cell_type": "markdown",
   "metadata": {},
   "source": [
    "- 적절한 최대 문장 길이를 60으로 지정"
   ]
  },
  {
   "cell_type": "markdown",
   "metadata": {},
   "source": [
    "- keras.preprocessing.sequence.pad_sequences 을 활용한 패딩 추가"
   ]
  },
  {
   "cell_type": "code",
   "execution_count": 20,
   "metadata": {
    "scrolled": true
   },
   "outputs": [],
   "source": [
    "X_train = keras.preprocessing.sequence.pad_sequences(X_train,\n",
    "                                                       value=word_to_index['<PAD>'],\n",
    "                                                       padding='pre',\n",
    "                                                       maxlen=60)"
   ]
  },
  {
   "cell_type": "code",
   "execution_count": 21,
   "metadata": {
    "scrolled": false
   },
   "outputs": [],
   "source": [
    "X_test = keras.preprocessing.sequence.pad_sequences(X_test,\n",
    "                                                       value=word_to_index['<PAD>'],\n",
    "                                                       padding='pre',\n",
    "                                                       maxlen=60)"
   ]
  },
  {
   "cell_type": "markdown",
   "metadata": {},
   "source": [
    "### 4) 모델구성 및 validation set 구성"
   ]
  },
  {
   "cell_type": "code",
   "execution_count": 24,
   "metadata": {
    "scrolled": true
   },
   "outputs": [
    {
     "name": "stdout",
     "output_type": "stream",
     "text": [
      "Model: \"sequential\"\n",
      "_________________________________________________________________\n",
      "Layer (type)                 Output Shape              Param #   \n",
      "=================================================================\n",
      "embedding (Embedding)        (None, None, 100)         1000000   \n",
      "_________________________________________________________________\n",
      "lstm (LSTM)                  (None, 128)               117248    \n",
      "_________________________________________________________________\n",
      "dense (Dense)                (None, 8)                 1032      \n",
      "_________________________________________________________________\n",
      "dense_1 (Dense)              (None, 1)                 9         \n",
      "=================================================================\n",
      "Total params: 1,118,289\n",
      "Trainable params: 1,118,289\n",
      "Non-trainable params: 0\n",
      "_________________________________________________________________\n"
     ]
    }
   ],
   "source": [
    "# Model 1\n",
    "vocab_size = 10000  # 어휘 사전의 크기입니다(10개의 단어)\n",
    "word_vector_dim = 100  # 어휘 사전의 크기입니다(10개의 단어)\n",
    "\n",
    "model = keras.Sequential()\n",
    "model.add(keras.layers.Embedding(vocab_size, word_vector_dim, input_shape=(None,)))\n",
    "model.add(keras.layers.LSTM(128))   # 가장 널리 쓰이는 RNN인 LSTM 레이어를 사용하였습니다. 이때 LSTM state 벡터의 차원수는 8로 하였습니다. (변경가능)\n",
    "model.add(keras.layers.Dense(8, activation='relu'))\n",
    "model.add(keras.layers.Dense(1, activation='sigmoid'))  # 최종 출력은 긍정/부정을 나타내는 1dim 입니다.\n",
    "\n",
    "model.summary()"
   ]
  },
  {
   "cell_type": "code",
   "execution_count": 22,
   "metadata": {
    "scrolled": true
   },
   "outputs": [],
   "source": [
    "# validation set 10000건 분리\n",
    "x_val = X_train[:10000]   \n",
    "y_val = y_train[:10000]\n",
    "\n",
    "# validation set을 제외한 나머지\n",
    "partial_x_train = X_train[10000:]  \n",
    "partial_y_train = y_train[10000:]\n",
    "\n",
    "# validation set 10000건 분리\n",
    "#x_val = np.asarray(X_train[:100000]) \n",
    "#y_val = np.asarray(y_train[:100000])\n",
    "\n",
    "# validation set을 제외한 나머지\n",
    "#partial_x_train = np.asarray(X_train[10000:])\n",
    "#partial_y_train = np.asarray(y_train[10000:])\n",
    "\n",
    "#partial_x_train[:5], partial_y_train[:5]"
   ]
  },
  {
   "cell_type": "markdown",
   "metadata": {},
   "source": [
    "### 5) 모델 훈련 개시"
   ]
  },
  {
   "cell_type": "code",
   "execution_count": 25,
   "metadata": {},
   "outputs": [
    {
     "name": "stdout",
     "output_type": "stream",
     "text": [
      "Epoch 1/20\n",
      "266/266 [==============================] - 36s 135ms/step - loss: 0.4271 - accuracy: 0.8007 - val_loss: 0.3351 - val_accuracy: 0.8514\n",
      "Epoch 2/20\n",
      "266/266 [==============================] - 36s 137ms/step - loss: 0.3182 - accuracy: 0.8644 - val_loss: 0.3319 - val_accuracy: 0.8538\n",
      "Epoch 3/20\n",
      "266/266 [==============================] - 37s 140ms/step - loss: 0.2850 - accuracy: 0.8800 - val_loss: 0.3196 - val_accuracy: 0.8650\n",
      "Epoch 4/20\n",
      "266/266 [==============================] - 40s 151ms/step - loss: 0.2574 - accuracy: 0.8925 - val_loss: 0.3292 - val_accuracy: 0.8588\n",
      "Epoch 5/20\n",
      "266/266 [==============================] - 38s 144ms/step - loss: 0.2327 - accuracy: 0.9047 - val_loss: 0.3266 - val_accuracy: 0.8580\n",
      "Epoch 6/20\n",
      "266/266 [==============================] - 36s 137ms/step - loss: 0.2116 - accuracy: 0.9149 - val_loss: 0.3550 - val_accuracy: 0.8592\n",
      "Epoch 7/20\n",
      "266/266 [==============================] - 36s 134ms/step - loss: 0.1926 - accuracy: 0.9230 - val_loss: 0.3807 - val_accuracy: 0.8580\n",
      "Epoch 8/20\n",
      "266/266 [==============================] - 36s 133ms/step - loss: 0.1747 - accuracy: 0.9302 - val_loss: 0.4069 - val_accuracy: 0.8514\n",
      "Epoch 9/20\n",
      "266/266 [==============================] - 38s 143ms/step - loss: 0.1596 - accuracy: 0.9365 - val_loss: 0.4325 - val_accuracy: 0.8517\n",
      "Epoch 10/20\n",
      "266/266 [==============================] - 37s 140ms/step - loss: 0.1430 - accuracy: 0.9434 - val_loss: 0.5060 - val_accuracy: 0.8539\n",
      "Epoch 11/20\n",
      "266/266 [==============================] - 36s 134ms/step - loss: 0.1295 - accuracy: 0.9483 - val_loss: 0.5091 - val_accuracy: 0.8521\n",
      "Epoch 12/20\n",
      "266/266 [==============================] - 36s 134ms/step - loss: 0.1183 - accuracy: 0.9528 - val_loss: 0.5631 - val_accuracy: 0.8491\n",
      "Epoch 13/20\n",
      "266/266 [==============================] - 36s 134ms/step - loss: 0.1080 - accuracy: 0.9567 - val_loss: 0.6079 - val_accuracy: 0.8498\n",
      "Epoch 14/20\n",
      "266/266 [==============================] - 36s 135ms/step - loss: 0.0994 - accuracy: 0.9602 - val_loss: 0.6243 - val_accuracy: 0.8469\n",
      "Epoch 15/20\n",
      "266/266 [==============================] - 36s 135ms/step - loss: 0.0883 - accuracy: 0.9643 - val_loss: 0.7396 - val_accuracy: 0.8439\n",
      "Epoch 16/20\n",
      "266/266 [==============================] - 36s 136ms/step - loss: 0.0824 - accuracy: 0.9668 - val_loss: 0.7404 - val_accuracy: 0.8463\n",
      "Epoch 17/20\n",
      "266/266 [==============================] - 36s 135ms/step - loss: 0.0771 - accuracy: 0.9688 - val_loss: 0.7612 - val_accuracy: 0.8468\n",
      "Epoch 18/20\n",
      "266/266 [==============================] - 37s 140ms/step - loss: 0.0703 - accuracy: 0.9715 - val_loss: 0.8639 - val_accuracy: 0.8458\n",
      "Epoch 19/20\n",
      "266/266 [==============================] - 38s 141ms/step - loss: 0.0641 - accuracy: 0.9738 - val_loss: 0.8696 - val_accuracy: 0.8417\n",
      "Epoch 20/20\n",
      "266/266 [==============================] - 37s 140ms/step - loss: 0.0602 - accuracy: 0.9755 - val_loss: 0.8793 - val_accuracy: 0.8450\n"
     ]
    }
   ],
   "source": [
    "model.compile(optimizer='adam',\n",
    "              loss='binary_crossentropy',\n",
    "              metrics=['accuracy'])\n",
    "              \n",
    "epochs=20  # 몇 epoch를 훈련하면 좋을지 결과를 보면서 바꾸어 봅시다. \n",
    "\n",
    "history = model.fit(partial_x_train,\n",
    "                    partial_y_train,\n",
    "                    epochs=epochs,\n",
    "                    batch_size=512,\n",
    "                    validation_data=(x_val, y_val),\n",
    "                    verbose=1)"
   ]
  },
  {
   "cell_type": "code",
   "execution_count": 26,
   "metadata": {},
   "outputs": [
    {
     "name": "stdout",
     "output_type": "stream",
     "text": [
      "1537/1537 - 12s - loss: 0.8445 - accuracy: 0.8410\n"
     ]
    }
   ],
   "source": [
    "model_results = model.evaluate(X_test,  y_test, verbose=2)"
   ]
  },
  {
   "cell_type": "markdown",
   "metadata": {},
   "source": [
    "- 모델 2가지 더 구성 및 훈련"
   ]
  },
  {
   "cell_type": "code",
   "execution_count": 27,
   "metadata": {},
   "outputs": [
    {
     "name": "stdout",
     "output_type": "stream",
     "text": [
      "Model: \"GlobalMaxPooling1D\"\n",
      "_________________________________________________________________\n",
      "Layer (type)                 Output Shape              Param #   \n",
      "=================================================================\n",
      "embedding_1 (Embedding)      (None, None, 100)         1000000   \n",
      "_________________________________________________________________\n",
      "global_max_pooling1d (Global (None, 100)               0         \n",
      "_________________________________________________________________\n",
      "dense_2 (Dense)              (None, 8)                 808       \n",
      "_________________________________________________________________\n",
      "dense_3 (Dense)              (None, 1)                 9         \n",
      "=================================================================\n",
      "Total params: 1,000,817\n",
      "Trainable params: 1,000,817\n",
      "Non-trainable params: 0\n",
      "_________________________________________________________________\n"
     ]
    }
   ],
   "source": [
    "#model2. globalmaxpooling 1d\n",
    "\n",
    "model = keras.Sequential(name=\"GlobalMaxPooling1D\")\n",
    "\n",
    "model.add(keras.layers.Embedding(vocab_size, word_vector_dim, input_shape=(None,)))\n",
    "model.add(keras.layers.GlobalMaxPooling1D())\n",
    "model.add(keras.layers.Dense(8, activation='relu'))\n",
    "model.add(keras.layers.Dense(1, activation='sigmoid'))  # 최종 출력은 긍정/부정을 나타내는 1dim 입니다.\n",
    "\n",
    "model.summary()"
   ]
  },
  {
   "cell_type": "code",
   "execution_count": 28,
   "metadata": {
    "scrolled": true
   },
   "outputs": [
    {
     "name": "stdout",
     "output_type": "stream",
     "text": [
      "Epoch 1/20\n",
      "266/266 [==============================] - 4s 13ms/step - loss: 0.5005 - accuracy: 0.7732 - val_loss: 0.3574 - val_accuracy: 0.8473\n",
      "Epoch 2/20\n",
      "266/266 [==============================] - 4s 13ms/step - loss: 0.3246 - accuracy: 0.8649 - val_loss: 0.3290 - val_accuracy: 0.8524\n",
      "Epoch 3/20\n",
      "266/266 [==============================] - 4s 13ms/step - loss: 0.2792 - accuracy: 0.8869 - val_loss: 0.3312 - val_accuracy: 0.8548\n",
      "Epoch 4/20\n",
      "266/266 [==============================] - 4s 14ms/step - loss: 0.2447 - accuracy: 0.9037 - val_loss: 0.3387 - val_accuracy: 0.8549\n",
      "Epoch 5/20\n",
      "266/266 [==============================] - 4s 13ms/step - loss: 0.2125 - accuracy: 0.9188 - val_loss: 0.3533 - val_accuracy: 0.8532\n",
      "Epoch 6/20\n",
      "266/266 [==============================] - 4s 14ms/step - loss: 0.1803 - accuracy: 0.9349 - val_loss: 0.3693 - val_accuracy: 0.8541\n",
      "Epoch 7/20\n",
      "266/266 [==============================] - 4s 13ms/step - loss: 0.1496 - accuracy: 0.9488 - val_loss: 0.3978 - val_accuracy: 0.8502\n",
      "Epoch 8/20\n",
      "266/266 [==============================] - 4s 14ms/step - loss: 0.1217 - accuracy: 0.9613 - val_loss: 0.4318 - val_accuracy: 0.8461\n",
      "Epoch 9/20\n",
      "266/266 [==============================] - 4s 14ms/step - loss: 0.0978 - accuracy: 0.9712 - val_loss: 0.4613 - val_accuracy: 0.8441\n",
      "Epoch 10/20\n",
      "266/266 [==============================] - 4s 13ms/step - loss: 0.0782 - accuracy: 0.9782 - val_loss: 0.4966 - val_accuracy: 0.8411\n",
      "Epoch 11/20\n",
      "266/266 [==============================] - 4s 14ms/step - loss: 0.0627 - accuracy: 0.9836 - val_loss: 0.5369 - val_accuracy: 0.8380\n",
      "Epoch 12/20\n",
      "266/266 [==============================] - 4s 14ms/step - loss: 0.0510 - accuracy: 0.9868 - val_loss: 0.5692 - val_accuracy: 0.8381\n",
      "Epoch 13/20\n",
      "266/266 [==============================] - 4s 13ms/step - loss: 0.0415 - accuracy: 0.9900 - val_loss: 0.6040 - val_accuracy: 0.8346\n",
      "Epoch 14/20\n",
      "266/266 [==============================] - 4s 14ms/step - loss: 0.0346 - accuracy: 0.9916 - val_loss: 0.6352 - val_accuracy: 0.8344\n",
      "Epoch 15/20\n",
      "266/266 [==============================] - 4s 14ms/step - loss: 0.0295 - accuracy: 0.9929 - val_loss: 0.6606 - val_accuracy: 0.8349\n",
      "Epoch 16/20\n",
      "266/266 [==============================] - 4s 14ms/step - loss: 0.0256 - accuracy: 0.9937 - val_loss: 0.6933 - val_accuracy: 0.8321\n",
      "Epoch 17/20\n",
      "266/266 [==============================] - 4s 14ms/step - loss: 0.0227 - accuracy: 0.9942 - val_loss: 0.7246 - val_accuracy: 0.8309\n",
      "Epoch 18/20\n",
      "266/266 [==============================] - 4s 14ms/step - loss: 0.0200 - accuracy: 0.9946 - val_loss: 0.7474 - val_accuracy: 0.8311\n",
      "Epoch 19/20\n",
      "266/266 [==============================] - 4s 13ms/step - loss: 0.0186 - accuracy: 0.9947 - val_loss: 0.7669 - val_accuracy: 0.8256\n",
      "Epoch 20/20\n",
      "266/266 [==============================] - 4s 13ms/step - loss: 0.0165 - accuracy: 0.9953 - val_loss: 0.7940 - val_accuracy: 0.8282\n"
     ]
    }
   ],
   "source": [
    "model.compile(optimizer='adam',\n",
    "              loss='binary_crossentropy',\n",
    "              metrics=['accuracy'])\n",
    "              \n",
    "epochs=20  # 몇 epoch를 훈련하면 좋을지 결과를 보면서 바꾸어 봅시다. \n",
    "\n",
    "history = model.fit(partial_x_train,\n",
    "                    partial_y_train,\n",
    "                    epochs=epochs,\n",
    "                    batch_size=512,\n",
    "                    validation_data=(x_val, y_val),\n",
    "                    verbose=1)"
   ]
  },
  {
   "cell_type": "code",
   "execution_count": 29,
   "metadata": {},
   "outputs": [
    {
     "name": "stdout",
     "output_type": "stream",
     "text": [
      "1537/1537 - 1s - loss: 0.8059 - accuracy: 0.8282\n"
     ]
    }
   ],
   "source": [
    "model_results = model.evaluate(X_test,  y_test, verbose=2)"
   ]
  },
  {
   "cell_type": "code",
   "execution_count": 59,
   "metadata": {
    "scrolled": true
   },
   "outputs": [
    {
     "name": "stdout",
     "output_type": "stream",
     "text": [
      "Model: \"CNN\"\n",
      "_________________________________________________________________\n",
      "Layer (type)                 Output Shape              Param #   \n",
      "=================================================================\n",
      "embedding_6 (Embedding)      (None, None, 200)         2000000   \n",
      "_________________________________________________________________\n",
      "conv1d_2 (Conv1D)            (None, None, 16)          22416     \n",
      "_________________________________________________________________\n",
      "max_pooling1d_1 (MaxPooling1 (None, None, 16)          0         \n",
      "_________________________________________________________________\n",
      "conv1d_3 (Conv1D)            (None, None, 16)          1808      \n",
      "_________________________________________________________________\n",
      "global_max_pooling1d_2 (Glob (None, 16)                0         \n",
      "_________________________________________________________________\n",
      "dense_12 (Dense)             (None, 8)                 136       \n",
      "_________________________________________________________________\n",
      "dense_13 (Dense)             (None, 1)                 9         \n",
      "=================================================================\n",
      "Total params: 2,024,369\n",
      "Trainable params: 2,024,369\n",
      "Non-trainable params: 0\n",
      "_________________________________________________________________\n"
     ]
    }
   ],
   "source": [
    "#model3. cnn\n",
    "model = keras.Sequential(name=\"CNN\")\n",
    "model.add(keras.layers.Embedding(vocab_size, word_vector_dim, input_shape=(None,)))\n",
    "model.add(keras.layers.Conv1D(16, 7, activation='relu'))\n",
    "model.add(keras.layers.MaxPooling1D(5))\n",
    "model.add(keras.layers.Conv1D(16, 7, activation='relu'))\n",
    "model.add(keras.layers.GlobalMaxPooling1D())\n",
    "model.add(keras.layers.Dense(8, activation='relu'))\n",
    "model.add(keras.layers.Dense(1, activation='sigmoid'))\n",
    "\n",
    "model.summary()"
   ]
  },
  {
   "cell_type": "code",
   "execution_count": 60,
   "metadata": {},
   "outputs": [
    {
     "name": "stdout",
     "output_type": "stream",
     "text": [
      "Epoch 1/20\n",
      "266/266 [==============================] - 20s 76ms/step - loss: 0.5233 - accuracy: 0.7191 - val_loss: 0.4507 - val_accuracy: 0.7726\n",
      "Epoch 2/20\n",
      "266/266 [==============================] - 20s 76ms/step - loss: 0.4123 - accuracy: 0.7980 - val_loss: 0.4471 - val_accuracy: 0.7674\n",
      "Epoch 3/20\n",
      "266/266 [==============================] - 21s 78ms/step - loss: 0.3563 - accuracy: 0.8290 - val_loss: 0.4623 - val_accuracy: 0.7673\n",
      "Epoch 4/20\n",
      "266/266 [==============================] - 20s 76ms/step - loss: 0.2902 - accuracy: 0.8618 - val_loss: 0.5058 - val_accuracy: 0.7674\n",
      "Epoch 5/20\n",
      "266/266 [==============================] - 20s 76ms/step - loss: 0.2334 - accuracy: 0.8878 - val_loss: 0.5759 - val_accuracy: 0.7575\n",
      "Epoch 6/20\n",
      "266/266 [==============================] - 20s 76ms/step - loss: 0.1936 - accuracy: 0.9038 - val_loss: 0.6491 - val_accuracy: 0.7602\n",
      "Epoch 7/20\n",
      "266/266 [==============================] - 20s 77ms/step - loss: 0.1672 - accuracy: 0.9138 - val_loss: 0.7568 - val_accuracy: 0.7547\n",
      "Epoch 8/20\n",
      "266/266 [==============================] - 20s 76ms/step - loss: 0.1495 - accuracy: 0.9214 - val_loss: 0.8413 - val_accuracy: 0.7526\n",
      "Epoch 9/20\n",
      "266/266 [==============================] - 20s 76ms/step - loss: 0.1385 - accuracy: 0.9254 - val_loss: 0.9287 - val_accuracy: 0.7496\n",
      "Epoch 10/20\n",
      "266/266 [==============================] - 20s 77ms/step - loss: 0.1299 - accuracy: 0.9279 - val_loss: 0.9983 - val_accuracy: 0.7461\n",
      "Epoch 11/20\n",
      "266/266 [==============================] - 20s 77ms/step - loss: 0.1238 - accuracy: 0.9312 - val_loss: 1.0722 - val_accuracy: 0.7452\n",
      "Epoch 12/20\n",
      "266/266 [==============================] - 21s 77ms/step - loss: 0.1204 - accuracy: 0.9316 - val_loss: 1.1269 - val_accuracy: 0.7504\n",
      "Epoch 13/20\n",
      "266/266 [==============================] - 20s 77ms/step - loss: 0.1193 - accuracy: 0.9332 - val_loss: 1.2070 - val_accuracy: 0.7450\n",
      "Epoch 14/20\n",
      "266/266 [==============================] - 20s 77ms/step - loss: 0.1192 - accuracy: 0.9322 - val_loss: 1.2483 - val_accuracy: 0.7459\n",
      "Epoch 15/20\n",
      "266/266 [==============================] - 20s 77ms/step - loss: 0.1161 - accuracy: 0.9330 - val_loss: 1.2715 - val_accuracy: 0.7508\n",
      "Epoch 16/20\n",
      "266/266 [==============================] - 20s 77ms/step - loss: 0.1109 - accuracy: 0.9360 - val_loss: 1.3248 - val_accuracy: 0.7485\n",
      "Epoch 17/20\n",
      "266/266 [==============================] - 21s 79ms/step - loss: 0.1071 - accuracy: 0.9367 - val_loss: 1.3920 - val_accuracy: 0.7514\n",
      "Epoch 18/20\n",
      "266/266 [==============================] - 20s 76ms/step - loss: 0.1049 - accuracy: 0.9375 - val_loss: 1.4248 - val_accuracy: 0.7512\n",
      "Epoch 19/20\n",
      "266/266 [==============================] - 20s 77ms/step - loss: 0.1035 - accuracy: 0.9382 - val_loss: 1.4789 - val_accuracy: 0.7479\n",
      "Epoch 20/20\n",
      "266/266 [==============================] - 20s 77ms/step - loss: 0.1044 - accuracy: 0.9386 - val_loss: 1.5203 - val_accuracy: 0.7481\n"
     ]
    }
   ],
   "source": [
    "model.compile(optimizer='adam',\n",
    "              loss='binary_crossentropy',\n",
    "              metrics=['accuracy'])\n",
    "              \n",
    "epochs=20  # 몇 epoch를 훈련하면 좋을지 결과를 보면서 바꾸어 봅시다. \n",
    "\n",
    "history = model.fit(partial_x_train,\n",
    "                    partial_y_train,\n",
    "                    epochs=epochs,\n",
    "                    batch_size=512,\n",
    "                    validation_data=(x_val, y_val),\n",
    "                    verbose=1)"
   ]
  },
  {
   "cell_type": "code",
   "execution_count": 61,
   "metadata": {},
   "outputs": [
    {
     "name": "stdout",
     "output_type": "stream",
     "text": [
      "1537/1537 - 1s - loss: 1.5168 - accuracy: 0.7460\n"
     ]
    }
   ],
   "source": [
    "model_results = model.evaluate(X_test,  y_test, verbose=2)"
   ]
  },
  {
   "cell_type": "markdown",
   "metadata": {},
   "source": [
    "### 6) Loss, Accuracy 시각화"
   ]
  },
  {
   "cell_type": "code",
   "execution_count": 33,
   "metadata": {},
   "outputs": [
    {
     "data": {
      "image/png": "[encoded data removed]",
      "text/plain": [
       "<Figure size 432x288 with 1 Axes>"
      ]
     },
     "metadata": {
      "needs_background": "light"
     },
     "output_type": "display_data"
    }
   ],
   "source": [
    "import matplotlib.pyplot as plt\n",
    "\n",
    "acc = history.history['accuracy']\n",
    "val_acc = history.history['val_accuracy']\n",
    "loss = history.history['loss']\n",
    "val_loss = history.history['val_loss']\n",
    "\n",
    "epochs = range(1, len(acc) + 1)\n",
    "\n",
    "# 빨간 실선으로 표시\n",
    "plt.plot(epochs, loss, 'r', label='Training loss')\n",
    "# 파란 실선으로 표시\n",
    "plt.plot(epochs, val_loss, 'b', label='Validation loss')\n",
    "plt.title('Training and validation loss')\n",
    "plt.xlabel('Epochs')\n",
    "plt.ylabel('Loss')\n",
    "plt.grid()\n",
    "plt.legend()\n",
    "\n",
    "plt.show()"
   ]
  },
  {
   "cell_type": "code",
   "execution_count": 34,
   "metadata": {},
   "outputs": [
    {
     "data": {
      "image/png": "[encoded data removed]",
      "text/plain": [
       "<Figure size 432x288 with 1 Axes>"
      ]
     },
     "metadata": {
      "needs_background": "light"
     },
     "output_type": "display_data"
    }
   ],
   "source": [
    "plt.clf() # 그림 초기화\n",
    "\n",
    "plt.plot(epochs, acc, 'bo', label='Training acc')\n",
    "plt.plot(epochs, val_acc, 'b', label='Validation acc')\n",
    "plt.title(\"Training and validation accuracy\")\n",
    "plt.xlabel('Epochs')\n",
    "plt.ylabel('Accuracy')\n",
    "plt.legend()\n",
    "\n",
    "plt.show()"
   ]
  },
  {
   "cell_type": "markdown",
   "metadata": {},
   "source": [
    "### 7) 학습된 embedding 레이어 분석"
   ]
  },
  {
   "cell_type": "code",
   "execution_count": 35,
   "metadata": {},
   "outputs": [
    {
     "name": "stdout",
     "output_type": "stream",
     "text": [
      "(10000, 100)\n"
     ]
    }
   ],
   "source": [
    "embedding_layer = model.layers[0]\n",
    "weights = embedding_layer.get_weights()[0]\n",
    "print(weights.shape)"
   ]
  },
  {
   "cell_type": "code",
   "execution_count": 37,
   "metadata": {},
   "outputs": [],
   "source": [
    "import os\n",
    "\n",
    "word2vec_file_path = os.getenv('HOME')+'/aiffel/sentiment_classification/word2vec.txt'\n",
    "f = open(word2vec_file_path, 'w')\n",
    "f.write('{} {}\\n'.format(vocab_size-4, word_vector_dim))\n",
    "\n",
    "vectors = model.get_weights()[0]\n",
    "for i in range(4,vocab_size):\n",
    "    f.write('{} {}\\n'.format(index_to_word[i], ' '.join(map(str, list(vectors[i, :])))))\n",
    "f.close()"
   ]
  },
  {
   "cell_type": "code",
   "execution_count": 39,
   "metadata": {
    "scrolled": true
   },
   "outputs": [
    {
     "data": {
      "text/plain": [
       "[('장난아', 0.6445578336715698),\n",
       " ('즐겼', 0.6321127414703369),\n",
       " ('이색', 0.618808925151825),\n",
       " ('조상', 0.6124051213264465),\n",
       " ('오열', 0.609819769859314),\n",
       " ('예민', 0.5920579433441162),\n",
       " ('이루어질', 0.5782299637794495),\n",
       " ('사춘기', 0.5760762691497803),\n",
       " ('망설이', 0.5752516984939575),\n",
       " ('top', 0.5747371912002563)]"
      ]
     },
     "execution_count": 39,
     "metadata": {},
     "output_type": "execute_result"
    }
   ],
   "source": [
    "from gensim.models.keyedvectors import Word2VecKeyedVectors\n",
    "\n",
    "word_vectors = Word2VecKeyedVectors.load_word2vec_format(word2vec_file_path, binary=False)\n",
    "vector = word_vectors['사랑']\n",
    "\n",
    "word_vectors.similar_by_word('사랑')"
   ]
  },
  {
   "cell_type": "markdown",
   "metadata": {},
   "source": [
    "### 8) 한국어 word2vec 임베딩 활용하여 성능 개선"
   ]
  },
  {
   "cell_type": "code",
   "execution_count": 40,
   "metadata": {},
   "outputs": [],
   "source": [
    "word2vec_file_path = os.getenv('HOME')+'/aiffel/sentiment_classification/ko.bin'"
   ]
  },
  {
   "cell_type": "code",
   "execution_count": 41,
   "metadata": {},
   "outputs": [],
   "source": [
    "from gensim.models import Word2Vec\n",
    "\n",
    "word2vec = Word2Vec.load(word2vec_file_path)"
   ]
  },
  {
   "cell_type": "code",
   "execution_count": 58,
   "metadata": {
    "scrolled": true
   },
   "outputs": [
    {
     "name": "stdout",
     "output_type": "stream",
     "text": [
      "[('슬픔', 0.7216663360595703), ('행복', 0.6759077310562134), ('절망', 0.6468985676765442), ('기쁨', 0.6458414793014526), ('이별', 0.6334798336029053), ('추억', 0.6320937871932983), ('인생', 0.6216273307800293), ('애정', 0.6206068992614746), ('연인', 0.6186063289642334), ('유혹', 0.5965287685394287)]\n"
     ]
    }
   ],
   "source": [
    "result = word2vec.wv.most_similar(\"사랑\")\n",
    "print(result)"
   ]
  },
  {
   "cell_type": "markdown",
   "metadata": {},
   "source": [
    "- '사랑'과 훨씬 관련도가 높은 단어들이 출력 되었음"
   ]
  },
  {
   "cell_type": "code",
   "execution_count": 42,
   "metadata": {},
   "outputs": [
    {
     "name": "stderr",
     "output_type": "stream",
     "text": [
      "/home/aiffel/anaconda3/envs/aiffel/lib/python3.7/site-packages/ipykernel_launcher.py:8: DeprecationWarning: Call to deprecated `__contains__` (Method will be removed in 4.0.0, use self.wv.__contains__() instead).\n",
      "  \n",
      "/home/aiffel/anaconda3/envs/aiffel/lib/python3.7/site-packages/ipykernel_launcher.py:9: DeprecationWarning: Call to deprecated `__getitem__` (Method will be removed in 4.0.0, use self.wv.__getitem__() instead).\n",
      "  if __name__ == '__main__':\n"
     ]
    }
   ],
   "source": [
    "vocab_size = 10000    # 어휘 사전의 크기\n",
    "word_vector_dim = 200  # 워드 벡터의 차원수 \n",
    "\n",
    "embedding_matrix = np.random.rand(vocab_size, word_vector_dim)\n",
    "\n",
    "for i in range(4,vocab_size):\n",
    "    if index_to_word[i] in word2vec:\n",
    "        embedding_matrix[i] = word2vec[index_to_word[i]]"
   ]
  },
  {
   "cell_type": "code",
   "execution_count": 54,
   "metadata": {},
   "outputs": [
    {
     "name": "stdout",
     "output_type": "stream",
     "text": [
      "Model: \"sequential_4\"\n",
      "_________________________________________________________________\n",
      "Layer (type)                 Output Shape              Param #   \n",
      "=================================================================\n",
      "embedding_5 (Embedding)      (None, 60, 200)           2000000   \n",
      "_________________________________________________________________\n",
      "lstm_3 (LSTM)                (None, 128)               168448    \n",
      "_________________________________________________________________\n",
      "dense_10 (Dense)             (None, 8)                 1032      \n",
      "_________________________________________________________________\n",
      "dense_11 (Dense)             (None, 1)                 9         \n",
      "=================================================================\n",
      "Total params: 2,169,489\n",
      "Trainable params: 2,169,489\n",
      "Non-trainable params: 0\n",
      "_________________________________________________________________\n"
     ]
    }
   ],
   "source": [
    "from tensorflow.keras.initializers import Constant\n",
    "\n",
    "model = keras.Sequential()\n",
    "model.add(keras.layers.Embedding(vocab_size, \n",
    "                                 word_vector_dim, \n",
    "                                 embeddings_initializer=Constant(embedding_matrix),  \n",
    "                                 input_length=max_len,\n",
    "                                 trainable=True)) \n",
    "model.add(keras.layers.LSTM(128))\n",
    "model.add(keras.layers.Dense(8, activation='relu'))\n",
    "model.add(keras.layers.Dense(1, activation='sigmoid'))\n",
    "\n",
    "model.summary()"
   ]
  },
  {
   "cell_type": "code",
   "execution_count": 55,
   "metadata": {},
   "outputs": [
    {
     "name": "stdout",
     "output_type": "stream",
     "text": [
      "Epoch 1/20\n",
      "1064/1064 [==============================] - 69s 65ms/step - loss: 0.3936 - accuracy: 0.8194 - val_loss: 0.3221 - val_accuracy: 0.8591\n",
      "Epoch 2/20\n",
      "1064/1064 [==============================] - 72s 67ms/step - loss: 0.2934 - accuracy: 0.8753 - val_loss: 0.3057 - val_accuracy: 0.8689\n",
      "Epoch 3/20\n",
      "1064/1064 [==============================] - 76s 71ms/step - loss: 0.2539 - accuracy: 0.8942 - val_loss: 0.3022 - val_accuracy: 0.8687\n",
      "Epoch 4/20\n",
      "1064/1064 [==============================] - 77s 72ms/step - loss: 0.2197 - accuracy: 0.9109 - val_loss: 0.3129 - val_accuracy: 0.8721\n",
      "Epoch 5/20\n",
      "1064/1064 [==============================] - 82s 77ms/step - loss: 0.1853 - accuracy: 0.9269 - val_loss: 0.3392 - val_accuracy: 0.8675\n",
      "Epoch 6/20\n",
      "1064/1064 [==============================] - 79s 74ms/step - loss: 0.1515 - accuracy: 0.9410 - val_loss: 0.3670 - val_accuracy: 0.8623\n",
      "Epoch 7/20\n",
      "1064/1064 [==============================] - 72s 68ms/step - loss: 0.1196 - accuracy: 0.9545 - val_loss: 0.4223 - val_accuracy: 0.8652\n",
      "Epoch 8/20\n",
      "1064/1064 [==============================] - 77s 73ms/step - loss: 0.0958 - accuracy: 0.9642 - val_loss: 0.4818 - val_accuracy: 0.8600\n",
      "Epoch 9/20\n",
      "1064/1064 [==============================] - 82s 77ms/step - loss: 0.0754 - accuracy: 0.9715 - val_loss: 0.5613 - val_accuracy: 0.8622\n",
      "Epoch 10/20\n",
      "1064/1064 [==============================] - 76s 71ms/step - loss: 0.0613 - accuracy: 0.9768 - val_loss: 0.5932 - val_accuracy: 0.8617\n",
      "Epoch 11/20\n",
      "1064/1064 [==============================] - 71s 67ms/step - loss: 0.0492 - accuracy: 0.9812 - val_loss: 0.6808 - val_accuracy: 0.8596\n",
      "Epoch 12/20\n",
      "1064/1064 [==============================] - 70s 65ms/step - loss: 0.0459 - accuracy: 0.9827 - val_loss: 0.7183 - val_accuracy: 0.8629\n",
      "Epoch 13/20\n",
      "1064/1064 [==============================] - 68s 64ms/step - loss: 0.0372 - accuracy: 0.9857 - val_loss: 0.7349 - val_accuracy: 0.8607\n",
      "Epoch 14/20\n",
      "1064/1064 [==============================] - 69s 65ms/step - loss: 0.0339 - accuracy: 0.9866 - val_loss: 0.7655 - val_accuracy: 0.8605\n",
      "Epoch 15/20\n",
      "1064/1064 [==============================] - 68s 64ms/step - loss: 0.0308 - accuracy: 0.9884 - val_loss: 0.8460 - val_accuracy: 0.8574\n",
      "Epoch 16/20\n",
      "1064/1064 [==============================] - 67s 63ms/step - loss: 0.0312 - accuracy: 0.9883 - val_loss: 0.8353 - val_accuracy: 0.8602\n",
      "Epoch 17/20\n",
      "1064/1064 [==============================] - 67s 63ms/step - loss: 0.0267 - accuracy: 0.9898 - val_loss: 0.8723 - val_accuracy: 0.8578\n",
      "Epoch 18/20\n",
      "1064/1064 [==============================] - 67s 63ms/step - loss: 0.0253 - accuracy: 0.9904 - val_loss: 0.9239 - val_accuracy: 0.8562\n",
      "Epoch 19/20\n",
      "1064/1064 [==============================] - 67s 63ms/step - loss: 0.0233 - accuracy: 0.9911 - val_loss: 0.9637 - val_accuracy: 0.8558\n",
      "Epoch 20/20\n",
      "1064/1064 [==============================] - 67s 63ms/step - loss: 0.0193 - accuracy: 0.9927 - val_loss: 1.0064 - val_accuracy: 0.8580\n"
     ]
    }
   ],
   "source": [
    "model.compile(optimizer = 'adam',\n",
    "             loss = 'binary_crossentropy', \n",
    "             metrics=['accuracy'])\n",
    "\n",
    "history = model.fit(partial_x_train, partial_y_train,\n",
    "                    epochs=20, batch_size=128,\n",
    "                    validation_data=(x_val, y_val),\n",
    "                    verbose=1)"
   ]
  },
  {
   "cell_type": "code",
   "execution_count": 57,
   "metadata": {},
   "outputs": [
    {
     "name": "stdout",
     "output_type": "stream",
     "text": [
      "1537/1537 - 14s - loss: 1.0373 - accuracy: 0.8525\n",
      "[1.0373166799545288, 0.8525133728981018]\n"
     ]
    }
   ],
   "source": [
    "model_results = model.evaluate(X_test,  y_test, verbose=2)\n",
    "\n",
    "print(model_results)"
   ]
  },
  {
   "cell_type": "markdown",
   "metadata": {},
   "source": [
    "- 정확도 85% 달성"
   ]
  },
  {
   "cell_type": "code",
   "execution_count": 51,
   "metadata": {},
   "outputs": [
    {
     "data": {
      "image/png": "[encoded data removed]",
      "text/plain": [
       "<Figure size 432x288 with 1 Axes>"
      ]
     },
     "metadata": {
      "needs_background": "light"
     },
     "output_type": "display_data"
    }
   ],
   "source": [
    "acc = history.history['accuracy']\n",
    "val_acc = history.history['val_accuracy']\n",
    "loss = history.history['loss']\n",
    "val_loss = history.history['val_loss']\n",
    "\n",
    "epochs = range(1, len(acc) + 1)\n",
    "\n",
    "# 빨간 실선으로 표시\n",
    "plt.plot(epochs, loss, 'r', label='Training loss')\n",
    "# 파란 실선으로 표시\n",
    "plt.plot(epochs, val_loss, 'b', label='Validation loss')\n",
    "plt.title('Training and validation loss')\n",
    "plt.xlabel('Epochs')\n",
    "plt.ylabel('Loss')\n",
    "plt.grid()\n",
    "plt.legend()\n",
    "\n",
    "plt.show()"
   ]
  },
  {
   "cell_type": "code",
   "execution_count": 52,
   "metadata": {},
   "outputs": [
    {
     "data": {
      "image/png": "[encoded data removed]",
      "text/plain": [
       "<Figure size 432x288 with 1 Axes>"
      ]
     },
     "metadata": {
      "needs_background": "light"
     },
     "output_type": "display_data"
    }
   ],
   "source": [
    "plt.clf() # 그림 초기화\n",
    "\n",
    "plt.plot(epochs, acc, 'bo', label='Training acc')\n",
    "plt.plot(epochs, val_acc, 'b', label='Validation acc')\n",
    "plt.title(\"Training and validation accuracy\")\n",
    "plt.xlabel('Epochs')\n",
    "plt.ylabel('Accuracy')\n",
    "plt.legend()\n",
    "\n",
    "plt.show()"
   ]
  },
  {
   "cell_type": "markdown",
   "metadata": {},
   "source": [
    "- 3가지 이상의 모델이 성공적으로 시도되었음\n",
    "- gensim 유사 단어 찾기를 활용하여 자체학습한 임베딩과 사전 학습 임베딩을 적절히 분석함\n",
    "- 네이버 영화리뷰 데이터 감성분석 정확도를 85% 이상 달성함"
   ]
  }
 ],
 "metadata": {
  "kernelspec": {
   "display_name": "aiffel",
   "language": "python",
   "name": "aiffel"
  },
  "language_info": {
   "codemirror_mode": {
    "name": "ipython",
    "version": 3
   },
   "file_extension": ".py",
   "mimetype": "text/x-python",
   "name": "python",
   "nbconvert_exporter": "python",
   "pygments_lexer": "ipython3",
   "version": "3.7.6"
  }
 },
 "nbformat": 4,
 "nbformat_minor": 4
}
